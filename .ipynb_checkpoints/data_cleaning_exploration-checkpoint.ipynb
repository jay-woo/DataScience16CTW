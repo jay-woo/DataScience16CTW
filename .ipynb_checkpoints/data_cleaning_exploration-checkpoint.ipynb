{
 "cells": [
  {
   "cell_type": "markdown",
   "metadata": {},
   "source": [
    "# Data Cleaning and Exploration\n",
    "### Jay Woo and Casey Alvarado\n",
    "\n",
    "We explored data about sexual assault cases committed by high-ranking Roman Catholic officals in the USA. In this notebook, we wrote about our initial findings from the dataset."
   ]
  },
  {
   "cell_type": "code",
   "execution_count": 1,
   "metadata": {
    "collapsed": false
   },
   "outputs": [
    {
     "name": "stderr",
     "output_type": "stream",
     "text": [
      "/home/wooj/anaconda2/lib/python2.7/site-packages/matplotlib/font_manager.py:273: UserWarning: Matplotlib is building the font cache using fc-list. This may take a moment.\n",
      "  warnings.warn('Matplotlib is building the font cache using fc-list. This may take a moment.')\n"
     ]
    }
   ],
   "source": [
    "# Imports\n",
    "import pandas \n",
    "import scipy\n",
    "import matplotlib.pyplot as plt\n",
    "import seaborn as sns\n",
    "import vincent\n",
    "import numpy as np\n",
    "%matplotlib inline"
   ]
  },
  {
   "cell_type": "markdown",
   "metadata": {},
   "source": [
    "Some of the features are self-explanatory (name, notes, source). The other features are outlined below:\n",
    "\n",
    "* Ord - year when the official was ordained\n",
    "* T - type (P = Priest, B = Brother, S = Seminarian, D = Deacon, N = Nun)\n",
    "* D/O - diocesan/order employee\n",
    "* Diocese - primary diocese in which the individual worked"
   ]
  },
  {
   "cell_type": "code",
   "execution_count": 2,
   "metadata": {
    "collapsed": false
   },
   "outputs": [
    {
     "data": {
      "text/html": [
       "<div>\n",
       "<table border=\"1\" class=\"dataframe\">\n",
       "  <thead>\n",
       "    <tr style=\"text-align: right;\">\n",
       "      <th></th>\n",
       "      <th>Last</th>\n",
       "      <th>First</th>\n",
       "      <th>Ord</th>\n",
       "      <th>T</th>\n",
       "      <th>Status</th>\n",
       "      <th>D/O</th>\n",
       "      <th>Notes</th>\n",
       "      <th>Diocese</th>\n",
       "      <th>Source/Assignments</th>\n",
       "    </tr>\n",
       "  </thead>\n",
       "  <tbody>\n",
       "    <tr>\n",
       "      <th>0</th>\n",
       "      <td>Abaya</td>\n",
       "      <td>Rubin</td>\n",
       "      <td>NaN</td>\n",
       "      <td>P</td>\n",
       "      <td>Accused</td>\n",
       "      <td>Diocesan</td>\n",
       "      <td>One of seven priests  named as defendants in  ...</td>\n",
       "      <td>Los Angeles, CA</td>\n",
       "      <td>Source:United Press International  02.08.84; U...</td>\n",
       "    </tr>\n",
       "    <tr>\n",
       "      <th>1</th>\n",
       "      <td>Abdon</td>\n",
       "      <td>Andrew</td>\n",
       "      <td>NaN</td>\n",
       "      <td>B</td>\n",
       "      <td>Settled</td>\n",
       "      <td>Bros Christian School</td>\n",
       "      <td>In separate 1995 lawsuits, 2 brothers and anot...</td>\n",
       "      <td>Santa Fe, NM</td>\n",
       "      <td>Source:Obituary and Assignments  08.17.77;Orti...</td>\n",
       "    </tr>\n",
       "    <tr>\n",
       "      <th>2</th>\n",
       "      <td>Abercrombie</td>\n",
       "      <td>Leonard A.</td>\n",
       "      <td>1946</td>\n",
       "      <td>P</td>\n",
       "      <td>Accused</td>\n",
       "      <td>Diocesan</td>\n",
       "      <td>Letter 7/93 to Pope JP II, Stafford, and Mahon...</td>\n",
       "      <td>Denver, CO</td>\n",
       "      <td>Source:LA Archdiocesan Report 2.17.04 page 3;M...</td>\n",
       "    </tr>\n",
       "    <tr>\n",
       "      <th>3</th>\n",
       "      <td>Abeywickrema</td>\n",
       "      <td>Lionel Augustine</td>\n",
       "      <td>1951</td>\n",
       "      <td>P</td>\n",
       "      <td>Accused</td>\n",
       "      <td>Diocesan</td>\n",
       "      <td>Abeywickrema, originally from Sri Lanka, was a...</td>\n",
       "      <td>Santa Fe, NM</td>\n",
       "      <td>Source:Roswell Daily Record 7.1.93;The New Mex...</td>\n",
       "    </tr>\n",
       "    <tr>\n",
       "      <th>4</th>\n",
       "      <td>Abrams</td>\n",
       "      <td>John L.</td>\n",
       "      <td>&lt; 1950</td>\n",
       "      <td>P</td>\n",
       "      <td>Accused</td>\n",
       "      <td>Diocesan</td>\n",
       "      <td>Some time after 2002 Abrams'  \"victims\" report...</td>\n",
       "      <td>Brooklyn, NY</td>\n",
       "      <td>Source:Statement by Diocese of Brooklyn  11.08...</td>\n",
       "    </tr>\n",
       "  </tbody>\n",
       "</table>\n",
       "</div>"
      ],
      "text/plain": [
       "           Last             First     Ord  T   Status                    D/O  \\\n",
       "0         Abaya             Rubin     NaN  P  Accused               Diocesan   \n",
       "1         Abdon            Andrew     NaN  B  Settled  Bros Christian School   \n",
       "2   Abercrombie        Leonard A.    1946  P  Accused               Diocesan   \n",
       "3  Abeywickrema  Lionel Augustine    1951  P  Accused               Diocesan   \n",
       "4        Abrams           John L.  < 1950  P  Accused               Diocesan   \n",
       "\n",
       "                                               Notes          Diocese  \\\n",
       "0  One of seven priests  named as defendants in  ...  Los Angeles, CA   \n",
       "1  In separate 1995 lawsuits, 2 brothers and anot...     Santa Fe, NM   \n",
       "2  Letter 7/93 to Pope JP II, Stafford, and Mahon...       Denver, CO   \n",
       "3  Abeywickrema, originally from Sri Lanka, was a...     Santa Fe, NM   \n",
       "4  Some time after 2002 Abrams'  \"victims\" report...     Brooklyn, NY   \n",
       "\n",
       "                                  Source/Assignments  \n",
       "0  Source:United Press International  02.08.84; U...  \n",
       "1  Source:Obituary and Assignments  08.17.77;Orti...  \n",
       "2  Source:LA Archdiocesan Report 2.17.04 page 3;M...  \n",
       "3  Source:Roswell Daily Record 7.1.93;The New Mex...  \n",
       "4  Source:Statement by Diocese of Brooklyn  11.08...  "
      ]
     },
     "execution_count": 2,
     "metadata": {},
     "output_type": "execute_result"
    }
   ],
   "source": [
    "df = pandas.read_csv(\"data.csv\")\n",
    "df.head()"
   ]
  },
  {
   "cell_type": "markdown",
   "metadata": {},
   "source": [
    "# Data Cleaning"
   ]
  },
  {
   "cell_type": "markdown",
   "metadata": {},
   "source": [
    "We looked at each of the individual columns and noticed that the 'D/O' column (diocese/order) was particularly messy. For instance, 'Diocesan' is spelt wrong multiple times in the dataset. So, what we did was we manually created a dictionary that auto-corrects all of the entries in the data."
   ]
  },
  {
   "cell_type": "code",
   "execution_count": 3,
   "metadata": {
    "collapsed": false
   },
   "outputs": [
    {
     "data": {
      "text/plain": [
       "['Dicoesan', 'Diocesan', 'Diocesan.', 'Diocese', 'Diocesen', 'Dioscean']"
      ]
     },
     "execution_count": 3,
     "metadata": {},
     "output_type": "execute_result"
    }
   ],
   "source": [
    "# Some of the data in the D/O feature\n",
    "sorted(df['D/O'].unique())[73:79]"
   ]
  },
  {
   "cell_type": "code",
   "execution_count": 4,
   "metadata": {
    "collapsed": false
   },
   "outputs": [
    {
     "data": {
      "text/plain": [
       "['De La Salle Christian Brothers',\n",
       " 'Diocesan',\n",
       " 'Discalced Carmelite Friars',\n",
       " 'Divine Word Missionaries']"
      ]
     },
     "execution_count": 4,
     "metadata": {},
     "output_type": "execute_result"
    }
   ],
   "source": [
    "# Imports our home-made dictionary and auto-corrects the data\n",
    "from ord_dict import *\n",
    "\n",
    "def update_d_o(data):\n",
    "    if data in corrected_d_o:\n",
    "        return corrected_d_o[data]\n",
    "    else:\n",
    "        return data\n",
    "    \n",
    "df['D/O'] = df['D/O'].apply(update_d_o)\n",
    "\n",
    "sorted(df['D/O'].unique())[42:46]  # Much, much better"
   ]
  },
  {
   "cell_type": "markdown",
   "metadata": {},
   "source": [
    "The 'Ord' column was also particularly messy. Some of the years have '<' or '>' prepended to them and others are simply '?', indicating uncertainty in the dataset. So, we went through the data and only pulled out the digits from the column. We put all of the modifiers (<, >, ?, or = if there is no modifier) into a new column called 'Ord_Mod.'"
   ]
  },
  {
   "cell_type": "code",
   "execution_count": 5,
   "metadata": {
    "collapsed": false
   },
   "outputs": [
    {
     "data": {
      "text/html": [
       "<div>\n",
       "<table border=\"1\" class=\"dataframe\">\n",
       "  <thead>\n",
       "    <tr style=\"text-align: right;\">\n",
       "      <th></th>\n",
       "      <th>Last</th>\n",
       "      <th>First</th>\n",
       "      <th>Ord</th>\n",
       "      <th>T</th>\n",
       "      <th>Status</th>\n",
       "      <th>D/O</th>\n",
       "      <th>Notes</th>\n",
       "      <th>Diocese</th>\n",
       "      <th>Source/Assignments</th>\n",
       "      <th>Ord_Mod</th>\n",
       "    </tr>\n",
       "  </thead>\n",
       "  <tbody>\n",
       "    <tr>\n",
       "      <th>0</th>\n",
       "      <td>Abaya</td>\n",
       "      <td>Rubin</td>\n",
       "      <td>0</td>\n",
       "      <td>P</td>\n",
       "      <td>Accused</td>\n",
       "      <td>Diocesan</td>\n",
       "      <td>One of seven priests  named as defendants in  ...</td>\n",
       "      <td>Los Angeles, CA</td>\n",
       "      <td>Source:United Press International  02.08.84; U...</td>\n",
       "      <td>=</td>\n",
       "    </tr>\n",
       "    <tr>\n",
       "      <th>1</th>\n",
       "      <td>Abdon</td>\n",
       "      <td>Andrew</td>\n",
       "      <td>0</td>\n",
       "      <td>B</td>\n",
       "      <td>Settled</td>\n",
       "      <td>Brothers of the Christian Schools</td>\n",
       "      <td>In separate 1995 lawsuits, 2 brothers and anot...</td>\n",
       "      <td>Santa Fe, NM</td>\n",
       "      <td>Source:Obituary and Assignments  08.17.77;Orti...</td>\n",
       "      <td>=</td>\n",
       "    </tr>\n",
       "    <tr>\n",
       "      <th>2</th>\n",
       "      <td>Abercrombie</td>\n",
       "      <td>Leonard A.</td>\n",
       "      <td>1946</td>\n",
       "      <td>P</td>\n",
       "      <td>Accused</td>\n",
       "      <td>Diocesan</td>\n",
       "      <td>Letter 7/93 to Pope JP II, Stafford, and Mahon...</td>\n",
       "      <td>Denver, CO</td>\n",
       "      <td>Source:LA Archdiocesan Report 2.17.04 page 3;M...</td>\n",
       "      <td>=</td>\n",
       "    </tr>\n",
       "    <tr>\n",
       "      <th>3</th>\n",
       "      <td>Abeywickrema</td>\n",
       "      <td>Lionel Augustine</td>\n",
       "      <td>1951</td>\n",
       "      <td>P</td>\n",
       "      <td>Accused</td>\n",
       "      <td>Diocesan</td>\n",
       "      <td>Abeywickrema, originally from Sri Lanka, was a...</td>\n",
       "      <td>Santa Fe, NM</td>\n",
       "      <td>Source:Roswell Daily Record 7.1.93;The New Mex...</td>\n",
       "      <td>=</td>\n",
       "    </tr>\n",
       "    <tr>\n",
       "      <th>4</th>\n",
       "      <td>Abrams</td>\n",
       "      <td>John L.</td>\n",
       "      <td>1950</td>\n",
       "      <td>P</td>\n",
       "      <td>Accused</td>\n",
       "      <td>Diocesan</td>\n",
       "      <td>Some time after 2002 Abrams'  \"victims\" report...</td>\n",
       "      <td>Brooklyn, NY</td>\n",
       "      <td>Source:Statement by Diocese of Brooklyn  11.08...</td>\n",
       "      <td>&lt;</td>\n",
       "    </tr>\n",
       "  </tbody>\n",
       "</table>\n",
       "</div>"
      ],
      "text/plain": [
       "           Last             First   Ord  T   Status  \\\n",
       "0         Abaya             Rubin     0  P  Accused   \n",
       "1         Abdon            Andrew     0  B  Settled   \n",
       "2   Abercrombie        Leonard A.  1946  P  Accused   \n",
       "3  Abeywickrema  Lionel Augustine  1951  P  Accused   \n",
       "4        Abrams           John L.  1950  P  Accused   \n",
       "\n",
       "                                 D/O  \\\n",
       "0                           Diocesan   \n",
       "1  Brothers of the Christian Schools   \n",
       "2                           Diocesan   \n",
       "3                           Diocesan   \n",
       "4                           Diocesan   \n",
       "\n",
       "                                               Notes          Diocese  \\\n",
       "0  One of seven priests  named as defendants in  ...  Los Angeles, CA   \n",
       "1  In separate 1995 lawsuits, 2 brothers and anot...     Santa Fe, NM   \n",
       "2  Letter 7/93 to Pope JP II, Stafford, and Mahon...       Denver, CO   \n",
       "3  Abeywickrema, originally from Sri Lanka, was a...     Santa Fe, NM   \n",
       "4  Some time after 2002 Abrams'  \"victims\" report...     Brooklyn, NY   \n",
       "\n",
       "                                  Source/Assignments Ord_Mod  \n",
       "0  Source:United Press International  02.08.84; U...       =  \n",
       "1  Source:Obituary and Assignments  08.17.77;Orti...       =  \n",
       "2  Source:LA Archdiocesan Report 2.17.04 page 3;M...       =  \n",
       "3  Source:Roswell Daily Record 7.1.93;The New Mex...       =  \n",
       "4  Source:Statement by Diocese of Brooklyn  11.08...       <  "
      ]
     },
     "execution_count": 5,
     "metadata": {},
     "output_type": "execute_result"
    }
   ],
   "source": [
    "def get_modifiers(ord_data):\n",
    "    #input: data column \n",
    "    #output: item or empty string \n",
    "    \n",
    "    #split data on these weird characters we noticed \n",
    "    splitted = str(ord_data).split('\\xc2\\xa0')\n",
    "    \n",
    "    #if the item in the splitted array is a digit, return the number. \n",
    "    #else, forget the weird symbols and return an empty string \n",
    "    for item in splitted:\n",
    "        if not item.isdigit():\n",
    "            return item\n",
    "    return '='\n",
    "\n",
    "# Pulls modifiers\n",
    "df.Ord = df.Ord.fillna(0)\n",
    "df[\"Ord_Mod\"] = df.Ord.apply(get_modifiers)\n",
    "df.Ord_Mod[df.Ord_Mod == 'nan'] = ''\n",
    "\n",
    "# Replaces all of the Ord data with integers\n",
    "for o in range(len(df.Ord)):\n",
    "    o_list = str(df.Ord[o]).split('\\xc2\\xa0')\n",
    "    for item in o_list: \n",
    "        if(item.isdigit()): \n",
    "            df.Ord[o] = int(item)\n",
    "\n",
    "df.head()"
   ]
  },
  {
   "cell_type": "markdown",
   "metadata": {},
   "source": [
    "Finally, we made sure we weren't missing any values in any of the other columns."
   ]
  },
  {
   "cell_type": "code",
   "execution_count": 6,
   "metadata": {
    "collapsed": false
   },
   "outputs": [
    {
     "data": {
      "text/html": [
       "<div>\n",
       "<table border=\"1\" class=\"dataframe\">\n",
       "  <thead>\n",
       "    <tr style=\"text-align: right;\">\n",
       "      <th></th>\n",
       "      <th>Last</th>\n",
       "      <th>First</th>\n",
       "      <th>Ord</th>\n",
       "      <th>T</th>\n",
       "      <th>Status</th>\n",
       "      <th>D/O</th>\n",
       "      <th>Notes</th>\n",
       "      <th>Diocese</th>\n",
       "      <th>Source/Assignments</th>\n",
       "      <th>Ord_Mod</th>\n",
       "    </tr>\n",
       "  </thead>\n",
       "  <tbody>\n",
       "    <tr>\n",
       "      <th>0</th>\n",
       "      <td>Abaya</td>\n",
       "      <td>Rubin</td>\n",
       "      <td>0</td>\n",
       "      <td>P</td>\n",
       "      <td>accused</td>\n",
       "      <td>Diocesan</td>\n",
       "      <td>One of seven priests  named as defendants in  ...</td>\n",
       "      <td>Los Angeles, CA</td>\n",
       "      <td>Source:United Press International  02.08.84; U...</td>\n",
       "      <td>=</td>\n",
       "    </tr>\n",
       "    <tr>\n",
       "      <th>1</th>\n",
       "      <td>Abdon</td>\n",
       "      <td>Andrew</td>\n",
       "      <td>0</td>\n",
       "      <td>B</td>\n",
       "      <td>settled</td>\n",
       "      <td>Brothers of the Christian Schools</td>\n",
       "      <td>In separate 1995 lawsuits, 2 brothers and anot...</td>\n",
       "      <td>Santa Fe, NM</td>\n",
       "      <td>Source:Obituary and Assignments  08.17.77;Orti...</td>\n",
       "      <td>=</td>\n",
       "    </tr>\n",
       "    <tr>\n",
       "      <th>2</th>\n",
       "      <td>Abercrombie</td>\n",
       "      <td>Leonard A.</td>\n",
       "      <td>1946</td>\n",
       "      <td>P</td>\n",
       "      <td>accused</td>\n",
       "      <td>Diocesan</td>\n",
       "      <td>Letter 7/93 to Pope JP II, Stafford, and Mahon...</td>\n",
       "      <td>Denver, CO</td>\n",
       "      <td>Source:LA Archdiocesan Report 2.17.04 page 3;M...</td>\n",
       "      <td>=</td>\n",
       "    </tr>\n",
       "    <tr>\n",
       "      <th>3</th>\n",
       "      <td>Abeywickrema</td>\n",
       "      <td>Lionel Augustine</td>\n",
       "      <td>1951</td>\n",
       "      <td>P</td>\n",
       "      <td>accused</td>\n",
       "      <td>Diocesan</td>\n",
       "      <td>Abeywickrema, originally from Sri Lanka, was a...</td>\n",
       "      <td>Santa Fe, NM</td>\n",
       "      <td>Source:Roswell Daily Record 7.1.93;The New Mex...</td>\n",
       "      <td>=</td>\n",
       "    </tr>\n",
       "    <tr>\n",
       "      <th>4</th>\n",
       "      <td>Abrams</td>\n",
       "      <td>John L.</td>\n",
       "      <td>1950</td>\n",
       "      <td>P</td>\n",
       "      <td>accused</td>\n",
       "      <td>Diocesan</td>\n",
       "      <td>Some time after 2002 Abrams'  \"victims\" report...</td>\n",
       "      <td>Brooklyn, NY</td>\n",
       "      <td>Source:Statement by Diocese of Brooklyn  11.08...</td>\n",
       "      <td>&lt;</td>\n",
       "    </tr>\n",
       "  </tbody>\n",
       "</table>\n",
       "</div>"
      ],
      "text/plain": [
       "           Last             First   Ord  T   Status  \\\n",
       "0         Abaya             Rubin     0  P  accused   \n",
       "1         Abdon            Andrew     0  B  settled   \n",
       "2   Abercrombie        Leonard A.  1946  P  accused   \n",
       "3  Abeywickrema  Lionel Augustine  1951  P  accused   \n",
       "4        Abrams           John L.  1950  P  accused   \n",
       "\n",
       "                                 D/O  \\\n",
       "0                           Diocesan   \n",
       "1  Brothers of the Christian Schools   \n",
       "2                           Diocesan   \n",
       "3                           Diocesan   \n",
       "4                           Diocesan   \n",
       "\n",
       "                                               Notes          Diocese  \\\n",
       "0  One of seven priests  named as defendants in  ...  Los Angeles, CA   \n",
       "1  In separate 1995 lawsuits, 2 brothers and anot...     Santa Fe, NM   \n",
       "2  Letter 7/93 to Pope JP II, Stafford, and Mahon...       Denver, CO   \n",
       "3  Abeywickrema, originally from Sri Lanka, was a...     Santa Fe, NM   \n",
       "4  Some time after 2002 Abrams'  \"victims\" report...     Brooklyn, NY   \n",
       "\n",
       "                                  Source/Assignments Ord_Mod  \n",
       "0  Source:United Press International  02.08.84; U...       =  \n",
       "1  Source:Obituary and Assignments  08.17.77;Orti...       =  \n",
       "2  Source:LA Archdiocesan Report 2.17.04 page 3;M...       =  \n",
       "3  Source:Roswell Daily Record 7.1.93;The New Mex...       =  \n",
       "4  Source:Statement by Diocese of Brooklyn  11.08...       <  "
      ]
     },
     "execution_count": 6,
     "metadata": {},
     "output_type": "execute_result"
    }
   ],
   "source": [
    "''' Fills the rest of the missing values in the data with defaults '''\n",
    "def clean_data(data):\n",
    "    data[\"First\"] = data[\"First\"].fillna(\"\")   \n",
    "    data[\"Status\"] = data[\"Status\"].fillna(\"Unknown\")\n",
    "    data[\"D/O\"] = data[\"D/O\"].fillna(\"Unknown\")\n",
    "    data[\"Notes\"] = data[\"Notes\"].fillna(\"\")\n",
    "    data[data[\"Diocese\"] == \"none\"] = \"Unknown, UNK\"\n",
    "    \n",
    "    # Removes punctuation and lowercases the 'Status' column (\"convicted\" = \"Convicted\", \"sued\" = \"sued.\")\n",
    "    data[\"Status\"] = data[\"Status\"].str.lower()\n",
    "    data[\"Status\"] = data[\"Status\"].str.strip(\".\")\n",
    "    \n",
    "    return data \n",
    "\n",
    "df = clean_data(df)\n",
    "df.head()"
   ]
  },
  {
   "cell_type": "code",
   "execution_count": 7,
   "metadata": {
    "collapsed": true
   },
   "outputs": [],
   "source": [
    "df.to_csv('cleanedData.csv')"
   ]
  },
  {
   "cell_type": "markdown",
   "metadata": {},
   "source": [
    "# Number of Catholics By State"
   ]
  },
  {
   "cell_type": "markdown",
   "metadata": {},
   "source": [
    "We wanted to count how many cases occurred in each state, and in order to normalize these counts, we looked at each state's population as well as the percentage the people reported that they were Catholic. We hoped to see a correlation between the percentage of Catholics and the normalized number of sexual assault cases by state."
   ]
  },
  {
   "cell_type": "code",
   "execution_count": 8,
   "metadata": {
    "collapsed": false
   },
   "outputs": [
    {
     "data": {
      "text/html": [
       "<div>\n",
       "<table border=\"1\" class=\"dataframe\">\n",
       "  <thead>\n",
       "    <tr style=\"text-align: right;\">\n",
       "      <th></th>\n",
       "      <th>State</th>\n",
       "      <th>Population</th>\n",
       "      <th>Percent_Catholic</th>\n",
       "    </tr>\n",
       "  </thead>\n",
       "  <tbody>\n",
       "    <tr>\n",
       "      <th>0</th>\n",
       "      <td>Alabama</td>\n",
       "      <td>4779736</td>\n",
       "      <td>0.07</td>\n",
       "    </tr>\n",
       "    <tr>\n",
       "      <th>1</th>\n",
       "      <td>Alaska</td>\n",
       "      <td>710231</td>\n",
       "      <td>0.16</td>\n",
       "    </tr>\n",
       "    <tr>\n",
       "      <th>2</th>\n",
       "      <td>Arizona</td>\n",
       "      <td>6392017</td>\n",
       "      <td>0.21</td>\n",
       "    </tr>\n",
       "    <tr>\n",
       "      <th>3</th>\n",
       "      <td>Arkansas</td>\n",
       "      <td>2915918</td>\n",
       "      <td>0.08</td>\n",
       "    </tr>\n",
       "    <tr>\n",
       "      <th>4</th>\n",
       "      <td>California</td>\n",
       "      <td>37253956</td>\n",
       "      <td>0.28</td>\n",
       "    </tr>\n",
       "  </tbody>\n",
       "</table>\n",
       "</div>"
      ],
      "text/plain": [
       "        State  Population  Percent_Catholic\n",
       "0     Alabama     4779736              0.07\n",
       "1      Alaska      710231              0.16\n",
       "2     Arizona     6392017              0.21\n",
       "3    Arkansas     2915918              0.08\n",
       "4  California    37253956              0.28"
      ]
     },
     "execution_count": 8,
     "metadata": {},
     "output_type": "execute_result"
    }
   ],
   "source": [
    "# \"Religious fervor\" data\n",
    "rf_df = pandas.read_csv('state_data.csv')\n",
    "rf_df.head()"
   ]
  },
  {
   "cell_type": "markdown",
   "metadata": {},
   "source": [
    "For each individual in the data, we extracted the state of his/her diocese from the 'Diocese' column and counted how many cases occurred in each state. We then normalized each of these counts by the population of the state (as of 2015)."
   ]
  },
  {
   "cell_type": "code",
   "execution_count": 9,
   "metadata": {
    "collapsed": false
   },
   "outputs": [
    {
     "data": {
      "text/html": [
       "<div>\n",
       "<table border=\"1\" class=\"dataframe\">\n",
       "  <thead>\n",
       "    <tr style=\"text-align: right;\">\n",
       "      <th></th>\n",
       "      <th>State</th>\n",
       "      <th>Population</th>\n",
       "      <th>Percent_Catholic</th>\n",
       "      <th>Count</th>\n",
       "      <th>NormalizedCount</th>\n",
       "    </tr>\n",
       "  </thead>\n",
       "  <tbody>\n",
       "    <tr>\n",
       "      <th>0</th>\n",
       "      <td>Alabama</td>\n",
       "      <td>4779736</td>\n",
       "      <td>0.07</td>\n",
       "      <td>14</td>\n",
       "      <td>2.929032e-06</td>\n",
       "    </tr>\n",
       "    <tr>\n",
       "      <th>1</th>\n",
       "      <td>Alaska</td>\n",
       "      <td>710231</td>\n",
       "      <td>0.16</td>\n",
       "      <td>54</td>\n",
       "      <td>7.603160e-05</td>\n",
       "    </tr>\n",
       "    <tr>\n",
       "      <th>2</th>\n",
       "      <td>Arizona</td>\n",
       "      <td>6392017</td>\n",
       "      <td>0.21</td>\n",
       "      <td>61</td>\n",
       "      <td>9.543154e-06</td>\n",
       "    </tr>\n",
       "    <tr>\n",
       "      <th>3</th>\n",
       "      <td>Arkansas</td>\n",
       "      <td>2915918</td>\n",
       "      <td>0.08</td>\n",
       "      <td>2</td>\n",
       "      <td>6.858903e-07</td>\n",
       "    </tr>\n",
       "    <tr>\n",
       "      <th>4</th>\n",
       "      <td>California</td>\n",
       "      <td>37253956</td>\n",
       "      <td>0.28</td>\n",
       "      <td>503</td>\n",
       "      <td>1.350192e-05</td>\n",
       "    </tr>\n",
       "  </tbody>\n",
       "</table>\n",
       "</div>"
      ],
      "text/plain": [
       "        State  Population  Percent_Catholic  Count  NormalizedCount\n",
       "0     Alabama     4779736              0.07     14     2.929032e-06\n",
       "1      Alaska      710231              0.16     54     7.603160e-05\n",
       "2     Arizona     6392017              0.21     61     9.543154e-06\n",
       "3    Arkansas     2915918              0.08      2     6.858903e-07\n",
       "4  California    37253956              0.28    503     1.350192e-05"
      ]
     },
     "execution_count": 9,
     "metadata": {},
     "output_type": "execute_result"
    }
   ],
   "source": [
    "# Dictionary mapping state abbreviations to state names\n",
    "from state_dict import *\n",
    "\n",
    "# Stores counts by state\n",
    "states = {};\n",
    "\n",
    "# Grabs the state abbreviations from 'Diocese' data\n",
    "for l in df.Diocese:\n",
    "    state = l.split(\", \")[1]\n",
    "    if state in state_dict:\n",
    "        state = state_dict[state]\n",
    "    else:\n",
    "        continue\n",
    "    \n",
    "    if state in states.keys():\n",
    "        states[state]+=1; \n",
    "    else: \n",
    "        states[state] =1; \n",
    "\n",
    "# Maps the dictionary to the pandas data frame\n",
    "rf_df['Count'] = rf_df['State'].map(states)\n",
    "rf_df['NormalizedCount'] = rf_df['Count']/rf_df['Population']\n",
    "rf_df.head()"
   ]
  },
  {
   "cell_type": "markdown",
   "metadata": {},
   "source": [
    "We discovered a moderate correlation between the percentage of Catholics in each state and the normalized counts of sexual assault cases. "
   ]
  },
  {
   "cell_type": "code",
   "execution_count": 10,
   "metadata": {
    "collapsed": false
   },
   "outputs": [
    {
     "data": {
      "image/png": "[encoded data removed]",
      "text/plain": [
       "<matplotlib.figure.Figure at 0x7f83ef5b8450>"
      ]
     },
     "metadata": {},
     "output_type": "display_data"
    }
   ],
   "source": [
    "fig, ax = plt.subplots()\n",
    "ax.scatter(rf_df.Percent_Catholic, rf_df.NormalizedCount, alpha=0.5)\n",
    "\n",
    "plt.ylim([0, 1e-4])\n",
    "ax.set_xlabel('Percent Catholic', fontsize=14)\n",
    "ax.set_ylabel('Normalized Count', fontsize=14)\n",
    "\n",
    "ax.grid(True)\n",
    "\n",
    "plt.show()"
   ]
  },
  {
   "cell_type": "code",
   "execution_count": 11,
   "metadata": {
    "collapsed": false
   },
   "outputs": [
    {
     "name": "stdout",
     "output_type": "stream",
     "text": [
      "Pearson Correlation (full data)\n",
      "0.457408208838\n"
     ]
    }
   ],
   "source": [
    "print 'Pearson Correlation (full data)'\n",
    "print scipy.stats.pearsonr(rf_df['Percent_Catholic'], rf_df['NormalizedCount'])[0]"
   ]
  },
  {
   "cell_type": "markdown",
   "metadata": {},
   "source": [
    "We found that there is a stronger correlation for states that have a population larger than 3,000,000."
   ]
  },
  {
   "cell_type": "code",
   "execution_count": 12,
   "metadata": {
    "collapsed": false
   },
   "outputs": [
    {
     "data": {
      "image/png": "[encoded data removed]",
      "text/plain": [
       "<matplotlib.figure.Figure at 0x7f83efdaa3d0>"
      ]
     },
     "metadata": {},
     "output_type": "display_data"
    }
   ],
   "source": [
    "rf_df_trimmed = rf_df[rf_df['Population'] > 3000000]\n",
    "\n",
    "fig, ax = plt.subplots()\n",
    "ax.scatter(rf_df_trimmed.Percent_Catholic, rf_df_trimmed.NormalizedCount, alpha=0.5)\n",
    "\n",
    "plt.ylim([0, 1e-4])\n",
    "ax.set_xlabel('Percent Catholic', fontsize=14)\n",
    "ax.set_ylabel('Normalized Count', fontsize=14)\n",
    "\n",
    "ax.grid(True)\n",
    "plt.show()"
   ]
  },
  {
   "cell_type": "code",
   "execution_count": 13,
   "metadata": {
    "collapsed": false
   },
   "outputs": [
    {
     "name": "stdout",
     "output_type": "stream",
     "text": [
      "Pearson Correlation (pop > 3,000,000)\n",
      "0.58610601131\n"
     ]
    }
   ],
   "source": [
    "print 'Pearson Correlation (pop > 3,000,000)'\n",
    "print scipy.stats.pearsonr(rf_df_trimmed['Percent_Catholic'], rf_df_trimmed['NormalizedCount'])[0]"
   ]
  }
 ],
 "metadata": {
  "kernelspec": {
   "display_name": "Python 2",
   "language": "python",
   "name": "python2"
  },
  "language_info": {
   "codemirror_mode": {
    "name": "ipython",
    "version": 2
   },
   "file_extension": ".py",
   "mimetype": "text/x-python",
   "name": "python",
   "nbconvert_exporter": "python",
   "pygments_lexer": "ipython2",
   "version": "2.7.11"
  }
 },
 "nbformat": 4,
 "nbformat_minor": 0
}
