{
 "cells": [
  {
   "cell_type": "markdown",
   "metadata": {},
   "source": [
    "# Data Cleaning and Exploration\n",
    "### Jay Woo and Casey Alvarado\n",
    "\n",
    "We explored data about sexual assault cases committed by high-ranking Roman Catholic officals in the USA. In this notebook, we wrote about our initial findings from the dataset."
   ]
  },
  {
   "cell_type": "code",
   "execution_count": 232,
   "metadata": {
    "collapsed": false
   },
   "outputs": [],
   "source": [
    "# Imports\n",
    "import pandas \n",
    "import scipy\n",
    "import matplotlib.pyplot as plt\n",
    "import seaborn as sns\n",
    "import vincent\n",
    "import numpy as np\n",
    "import plotly.plotly as py\n",
    "import plotly.graph_objs as go\n",
    "\n",
    "%matplotlib inline"
   ]
  },
  {
   "cell_type": "code",
   "execution_count": 261,
   "metadata": {
    "collapsed": false
   },
   "outputs": [
    {
     "data": {
      "text/html": [
       "\n",
       "           <script>\n",
       "               \n",
       "                function vct_load_lib(url, callback){\n",
       "                      if(typeof d3 !== 'undefined' &&\n",
       "                         url === 'http://d3js.org/d3.v3.min.js'){\n",
       "                        callback()\n",
       "                      }\n",
       "                      var s = document.createElement('script');\n",
       "                      s.src = url;\n",
       "                      s.async = true;\n",
       "                      s.onreadystatechange = s.onload = callback;\n",
       "                      s.onerror = function(){\n",
       "                        console.warn(\"failed to load library \" + url);\n",
       "                        };\n",
       "                      document.getElementsByTagName(\"head\")[0].appendChild(s);\n",
       "                };\n",
       "                var vincent_event = new CustomEvent(\n",
       "                  \"vincent_libs_loaded\",\n",
       "                  {bubbles: true, cancelable: true}\n",
       "                );\n",
       "                \n",
       "               function load_all_libs(){\n",
       "                  console.log('Loading Vincent libs...')\n",
       "                  vct_load_lib('http://d3js.org/d3.v3.min.js', function(){\n",
       "                  vct_load_lib('http://d3js.org/d3.geo.projection.v0.min.js', function(){\n",
       "                  vct_load_lib('http://wrobstory.github.io/d3-cloud/d3.layout.cloud.js', function(){\n",
       "                  vct_load_lib('http://wrobstory.github.io/vega/vega.v1.3.3.js', function(){\n",
       "                  window.dispatchEvent(vincent_event);\n",
       "                  });\n",
       "                  });\n",
       "                  });\n",
       "                  });\n",
       "               };\n",
       "               if(typeof define === \"function\" && define.amd){\n",
       "                    if (window['d3'] === undefined ||\n",
       "                        window['topojson'] === undefined){\n",
       "                        require.config(\n",
       "                            {paths: {\n",
       "                              d3: 'http://d3js.org/d3.v3.min',\n",
       "                              topojson: 'http://d3js.org/topojson.v1.min'\n",
       "                              }\n",
       "                            }\n",
       "                          );\n",
       "                        require([\"d3\"], function(d3){\n",
       "                            console.log('Loading Vincent from require.js...')\n",
       "                            window.d3 = d3;\n",
       "                            require([\"topojson\"], function(topojson){\n",
       "                                window.topojson = topojson;\n",
       "                                load_all_libs();\n",
       "                            });\n",
       "                        });\n",
       "                    } else {\n",
       "                        load_all_libs();\n",
       "                    };\n",
       "               }else{\n",
       "                    console.log('Require.js not found, loading manually...')\n",
       "                    load_all_libs();\n",
       "               };\n",
       "\n",
       "           </script>"
      ],
      "text/plain": [
       "<IPython.core.display.HTML object>"
      ]
     },
     "metadata": {},
     "output_type": "display_data"
    }
   ],
   "source": [
    "vincent.core.initialize_notebook()"
   ]
  },
  {
   "cell_type": "markdown",
   "metadata": {},
   "source": [
    "Some of the features are self-explanatory (name, notes, source). The other features are outlined below:\n",
    "\n",
    "* Ord - year when the official was ordained\n",
    "* T - type (P = Priest, B = Brother, S = Seminarian, D = Deacon, N = Nun)\n",
    "* D/O - diocesan/order employee\n",
    "* Diocese - primary diocese in which the individual worked"
   ]
  },
  {
   "cell_type": "code",
   "execution_count": 188,
   "metadata": {
    "collapsed": false
   },
   "outputs": [
    {
     "data": {
      "text/html": [
       "<div>\n",
       "<table border=\"1\" class=\"dataframe\">\n",
       "  <thead>\n",
       "    <tr style=\"text-align: right;\">\n",
       "      <th></th>\n",
       "      <th>Last</th>\n",
       "      <th>First</th>\n",
       "      <th>Ord</th>\n",
       "      <th>T</th>\n",
       "      <th>Status</th>\n",
       "      <th>D/O</th>\n",
       "      <th>Notes</th>\n",
       "      <th>Diocese</th>\n",
       "      <th>Source/Assignments</th>\n",
       "    </tr>\n",
       "  </thead>\n",
       "  <tbody>\n",
       "    <tr>\n",
       "      <th>0</th>\n",
       "      <td>Abaya</td>\n",
       "      <td>Rubin</td>\n",
       "      <td>NaN</td>\n",
       "      <td>P</td>\n",
       "      <td>Accused</td>\n",
       "      <td>Diocesan</td>\n",
       "      <td>One of seven priests  named as defendants in  ...</td>\n",
       "      <td>Los Angeles, CA</td>\n",
       "      <td>Source:United Press International  02.08.84; U...</td>\n",
       "    </tr>\n",
       "    <tr>\n",
       "      <th>1</th>\n",
       "      <td>Abdon</td>\n",
       "      <td>Andrew</td>\n",
       "      <td>NaN</td>\n",
       "      <td>B</td>\n",
       "      <td>Settled</td>\n",
       "      <td>Bros Christian School</td>\n",
       "      <td>In separate 1995 lawsuits, 2 brothers and anot...</td>\n",
       "      <td>Santa Fe, NM</td>\n",
       "      <td>Source:Obituary and Assignments  08.17.77;Orti...</td>\n",
       "    </tr>\n",
       "    <tr>\n",
       "      <th>2</th>\n",
       "      <td>Abercrombie</td>\n",
       "      <td>Leonard A.</td>\n",
       "      <td>1946</td>\n",
       "      <td>P</td>\n",
       "      <td>Accused</td>\n",
       "      <td>Diocesan</td>\n",
       "      <td>Letter 7/93 to Pope JP II, Stafford, and Mahon...</td>\n",
       "      <td>Denver, CO</td>\n",
       "      <td>Source:LA Archdiocesan Report 2.17.04 page 3;M...</td>\n",
       "    </tr>\n",
       "    <tr>\n",
       "      <th>3</th>\n",
       "      <td>Abeywickrema</td>\n",
       "      <td>Lionel Augustine</td>\n",
       "      <td>1951</td>\n",
       "      <td>P</td>\n",
       "      <td>Accused</td>\n",
       "      <td>Diocesan</td>\n",
       "      <td>Abeywickrema, originally from Sri Lanka, was a...</td>\n",
       "      <td>Santa Fe, NM</td>\n",
       "      <td>Source:Roswell Daily Record 7.1.93;The New Mex...</td>\n",
       "    </tr>\n",
       "    <tr>\n",
       "      <th>4</th>\n",
       "      <td>Abrams</td>\n",
       "      <td>John L.</td>\n",
       "      <td>&lt; 1950</td>\n",
       "      <td>P</td>\n",
       "      <td>Accused</td>\n",
       "      <td>Diocesan</td>\n",
       "      <td>Some time after 2002 Abrams'  \"victims\" report...</td>\n",
       "      <td>Brooklyn, NY</td>\n",
       "      <td>Source:Statement by Diocese of Brooklyn  11.08...</td>\n",
       "    </tr>\n",
       "  </tbody>\n",
       "</table>\n",
       "</div>"
      ],
      "text/plain": [
       "           Last             First     Ord  T   Status                    D/O  \\\n",
       "0         Abaya             Rubin     NaN  P  Accused               Diocesan   \n",
       "1         Abdon            Andrew     NaN  B  Settled  Bros Christian School   \n",
       "2   Abercrombie        Leonard A.    1946  P  Accused               Diocesan   \n",
       "3  Abeywickrema  Lionel Augustine    1951  P  Accused               Diocesan   \n",
       "4        Abrams           John L.  < 1950  P  Accused               Diocesan   \n",
       "\n",
       "                                               Notes          Diocese  \\\n",
       "0  One of seven priests  named as defendants in  ...  Los Angeles, CA   \n",
       "1  In separate 1995 lawsuits, 2 brothers and anot...     Santa Fe, NM   \n",
       "2  Letter 7/93 to Pope JP II, Stafford, and Mahon...       Denver, CO   \n",
       "3  Abeywickrema, originally from Sri Lanka, was a...     Santa Fe, NM   \n",
       "4  Some time after 2002 Abrams'  \"victims\" report...     Brooklyn, NY   \n",
       "\n",
       "                                  Source/Assignments  \n",
       "0  Source:United Press International  02.08.84; U...  \n",
       "1  Source:Obituary and Assignments  08.17.77;Orti...  \n",
       "2  Source:LA Archdiocesan Report 2.17.04 page 3;M...  \n",
       "3  Source:Roswell Daily Record 7.1.93;The New Mex...  \n",
       "4  Source:Statement by Diocese of Brooklyn  11.08...  "
      ]
     },
     "execution_count": 188,
     "metadata": {},
     "output_type": "execute_result"
    }
   ],
   "source": [
    "df = pandas.read_csv(\"data.csv\")\n",
    "df.head()"
   ]
  },
  {
   "cell_type": "markdown",
   "metadata": {},
   "source": [
    "# Data Cleaning"
   ]
  },
  {
   "cell_type": "markdown",
   "metadata": {},
   "source": [
    "We looked at each of the individual columns and noticed that the 'D/O' column (diocese/order) was particularly messy. For instance, 'Diocesan' is spelled wrong multiple times in the dataset. So, what we did was we manually created a dictionary that auto-corrects all of the entries in the data."
   ]
  },
  {
   "cell_type": "code",
   "execution_count": 189,
   "metadata": {
    "collapsed": false
   },
   "outputs": [
    {
     "data": {
      "text/plain": [
       "['Dicoesan', 'Diocesan', 'Diocesan.', 'Diocese', 'Diocesen', 'Dioscean']"
      ]
     },
     "execution_count": 189,
     "metadata": {},
     "output_type": "execute_result"
    }
   ],
   "source": [
    "# Some of the data in the D/O feature\n",
    "sorted(df['D/O'].unique())[73:79]"
   ]
  },
  {
   "cell_type": "code",
   "execution_count": 190,
   "metadata": {
    "collapsed": false
   },
   "outputs": [
    {
     "data": {
      "text/plain": [
       "['De La Salle Christian Brothers',\n",
       " 'Diocesan',\n",
       " 'Discalced Carmelite Friars',\n",
       " 'Divine Word Missionaries']"
      ]
     },
     "execution_count": 190,
     "metadata": {},
     "output_type": "execute_result"
    }
   ],
   "source": [
    "# Imports our home-made dictionary and auto-corrects the data\n",
    "from ord_dict import *\n",
    "\n",
    "def update_d_o(data):\n",
    "    if data in corrected_d_o:\n",
    "        return corrected_d_o[data]\n",
    "    else:\n",
    "        return data\n",
    "    \n",
    "df['D/O'] = df['D/O'].apply(update_d_o)\n",
    "\n",
    "sorted(df['D/O'].unique())[42:46]  # Much, much better"
   ]
  },
  {
   "cell_type": "markdown",
   "metadata": {},
   "source": [
    "The 'Ord' column was also particularly messy. Some of the years have '<' or '>' prepended to them and others are simply '?', indicating uncertainty in the dataset. So, we went through the data and only pulled out the digits from the column. We put all of the modifiers (<, >, ?, or = if there is no modifier) into a new column called 'Ord_Mod.'"
   ]
  },
  {
   "cell_type": "code",
   "execution_count": 191,
   "metadata": {
    "collapsed": false
   },
   "outputs": [
    {
     "data": {
      "text/html": [
       "<div>\n",
       "<table border=\"1\" class=\"dataframe\">\n",
       "  <thead>\n",
       "    <tr style=\"text-align: right;\">\n",
       "      <th></th>\n",
       "      <th>Last</th>\n",
       "      <th>First</th>\n",
       "      <th>Ord</th>\n",
       "      <th>T</th>\n",
       "      <th>Status</th>\n",
       "      <th>D/O</th>\n",
       "      <th>Notes</th>\n",
       "      <th>Diocese</th>\n",
       "      <th>Source/Assignments</th>\n",
       "      <th>Ord_Mod</th>\n",
       "    </tr>\n",
       "  </thead>\n",
       "  <tbody>\n",
       "    <tr>\n",
       "      <th>0</th>\n",
       "      <td>Abaya</td>\n",
       "      <td>Rubin</td>\n",
       "      <td>0</td>\n",
       "      <td>P</td>\n",
       "      <td>Accused</td>\n",
       "      <td>Diocesan</td>\n",
       "      <td>One of seven priests  named as defendants in  ...</td>\n",
       "      <td>Los Angeles, CA</td>\n",
       "      <td>Source:United Press International  02.08.84; U...</td>\n",
       "      <td>=</td>\n",
       "    </tr>\n",
       "    <tr>\n",
       "      <th>1</th>\n",
       "      <td>Abdon</td>\n",
       "      <td>Andrew</td>\n",
       "      <td>0</td>\n",
       "      <td>B</td>\n",
       "      <td>Settled</td>\n",
       "      <td>Brothers of the Christian Schools</td>\n",
       "      <td>In separate 1995 lawsuits, 2 brothers and anot...</td>\n",
       "      <td>Santa Fe, NM</td>\n",
       "      <td>Source:Obituary and Assignments  08.17.77;Orti...</td>\n",
       "      <td>=</td>\n",
       "    </tr>\n",
       "    <tr>\n",
       "      <th>2</th>\n",
       "      <td>Abercrombie</td>\n",
       "      <td>Leonard A.</td>\n",
       "      <td>1946</td>\n",
       "      <td>P</td>\n",
       "      <td>Accused</td>\n",
       "      <td>Diocesan</td>\n",
       "      <td>Letter 7/93 to Pope JP II, Stafford, and Mahon...</td>\n",
       "      <td>Denver, CO</td>\n",
       "      <td>Source:LA Archdiocesan Report 2.17.04 page 3;M...</td>\n",
       "      <td>=</td>\n",
       "    </tr>\n",
       "    <tr>\n",
       "      <th>3</th>\n",
       "      <td>Abeywickrema</td>\n",
       "      <td>Lionel Augustine</td>\n",
       "      <td>1951</td>\n",
       "      <td>P</td>\n",
       "      <td>Accused</td>\n",
       "      <td>Diocesan</td>\n",
       "      <td>Abeywickrema, originally from Sri Lanka, was a...</td>\n",
       "      <td>Santa Fe, NM</td>\n",
       "      <td>Source:Roswell Daily Record 7.1.93;The New Mex...</td>\n",
       "      <td>=</td>\n",
       "    </tr>\n",
       "    <tr>\n",
       "      <th>4</th>\n",
       "      <td>Abrams</td>\n",
       "      <td>John L.</td>\n",
       "      <td>1950</td>\n",
       "      <td>P</td>\n",
       "      <td>Accused</td>\n",
       "      <td>Diocesan</td>\n",
       "      <td>Some time after 2002 Abrams'  \"victims\" report...</td>\n",
       "      <td>Brooklyn, NY</td>\n",
       "      <td>Source:Statement by Diocese of Brooklyn  11.08...</td>\n",
       "      <td>&lt;</td>\n",
       "    </tr>\n",
       "  </tbody>\n",
       "</table>\n",
       "</div>"
      ],
      "text/plain": [
       "           Last             First   Ord  T   Status  \\\n",
       "0         Abaya             Rubin     0  P  Accused   \n",
       "1         Abdon            Andrew     0  B  Settled   \n",
       "2   Abercrombie        Leonard A.  1946  P  Accused   \n",
       "3  Abeywickrema  Lionel Augustine  1951  P  Accused   \n",
       "4        Abrams           John L.  1950  P  Accused   \n",
       "\n",
       "                                 D/O  \\\n",
       "0                           Diocesan   \n",
       "1  Brothers of the Christian Schools   \n",
       "2                           Diocesan   \n",
       "3                           Diocesan   \n",
       "4                           Diocesan   \n",
       "\n",
       "                                               Notes          Diocese  \\\n",
       "0  One of seven priests  named as defendants in  ...  Los Angeles, CA   \n",
       "1  In separate 1995 lawsuits, 2 brothers and anot...     Santa Fe, NM   \n",
       "2  Letter 7/93 to Pope JP II, Stafford, and Mahon...       Denver, CO   \n",
       "3  Abeywickrema, originally from Sri Lanka, was a...     Santa Fe, NM   \n",
       "4  Some time after 2002 Abrams'  \"victims\" report...     Brooklyn, NY   \n",
       "\n",
       "                                  Source/Assignments Ord_Mod  \n",
       "0  Source:United Press International  02.08.84; U...       =  \n",
       "1  Source:Obituary and Assignments  08.17.77;Orti...       =  \n",
       "2  Source:LA Archdiocesan Report 2.17.04 page 3;M...       =  \n",
       "3  Source:Roswell Daily Record 7.1.93;The New Mex...       =  \n",
       "4  Source:Statement by Diocese of Brooklyn  11.08...       <  "
      ]
     },
     "execution_count": 191,
     "metadata": {},
     "output_type": "execute_result"
    }
   ],
   "source": [
    "def get_modifiers(ord_data):\n",
    "    #input: data column \n",
    "    #output: item or empty string \n",
    "    \n",
    "    #split data on these weird characters we noticed \n",
    "    splitted = str(ord_data).split('\\xc2\\xa0')\n",
    "    \n",
    "    #if the item in the splitted array is a digit, return the number. \n",
    "    #else, forget the weird symbols and return an empty string \n",
    "    for item in splitted:\n",
    "        if not item.isdigit():\n",
    "            return item\n",
    "    return '='\n",
    "\n",
    "# Pulls modifiers\n",
    "df.Ord = df.Ord.fillna(0)\n",
    "df[\"Ord_Mod\"] = df.Ord.apply(get_modifiers)\n",
    "df.Ord_Mod[df.Ord_Mod == 'nan'] = ''\n",
    "\n",
    "# Replaces all of the Ord data with integers\n",
    "for o in range(len(df.Ord)):\n",
    "    o_list = str(df.Ord[o]).split('\\xc2\\xa0')\n",
    "    for item in o_list: \n",
    "        if(item.isdigit()): \n",
    "            df.Ord[o] = int(item)\n",
    "\n",
    "df.head()"
   ]
  },
  {
   "cell_type": "markdown",
   "metadata": {},
   "source": [
    "Finally, we made sure we weren't missing any values in any of the other columns."
   ]
  },
  {
   "cell_type": "code",
   "execution_count": 192,
   "metadata": {
    "collapsed": false
   },
   "outputs": [
    {
     "data": {
      "text/html": [
       "<div>\n",
       "<table border=\"1\" class=\"dataframe\">\n",
       "  <thead>\n",
       "    <tr style=\"text-align: right;\">\n",
       "      <th></th>\n",
       "      <th>Last</th>\n",
       "      <th>First</th>\n",
       "      <th>Ord</th>\n",
       "      <th>T</th>\n",
       "      <th>Status</th>\n",
       "      <th>D/O</th>\n",
       "      <th>Notes</th>\n",
       "      <th>Diocese</th>\n",
       "      <th>Source/Assignments</th>\n",
       "      <th>Ord_Mod</th>\n",
       "    </tr>\n",
       "  </thead>\n",
       "  <tbody>\n",
       "    <tr>\n",
       "      <th>0</th>\n",
       "      <td>Abaya</td>\n",
       "      <td>Rubin</td>\n",
       "      <td>0</td>\n",
       "      <td>P</td>\n",
       "      <td>accused</td>\n",
       "      <td>Diocesan</td>\n",
       "      <td>One of seven priests  named as defendants in  ...</td>\n",
       "      <td>Los Angeles, CA</td>\n",
       "      <td>Source:United Press International  02.08.84; U...</td>\n",
       "      <td>=</td>\n",
       "    </tr>\n",
       "    <tr>\n",
       "      <th>1</th>\n",
       "      <td>Abdon</td>\n",
       "      <td>Andrew</td>\n",
       "      <td>0</td>\n",
       "      <td>B</td>\n",
       "      <td>settled</td>\n",
       "      <td>Brothers of the Christian Schools</td>\n",
       "      <td>In separate 1995 lawsuits, 2 brothers and anot...</td>\n",
       "      <td>Santa Fe, NM</td>\n",
       "      <td>Source:Obituary and Assignments  08.17.77;Orti...</td>\n",
       "      <td>=</td>\n",
       "    </tr>\n",
       "    <tr>\n",
       "      <th>2</th>\n",
       "      <td>Abercrombie</td>\n",
       "      <td>Leonard A.</td>\n",
       "      <td>1946</td>\n",
       "      <td>P</td>\n",
       "      <td>accused</td>\n",
       "      <td>Diocesan</td>\n",
       "      <td>Letter 7/93 to Pope JP II, Stafford, and Mahon...</td>\n",
       "      <td>Denver, CO</td>\n",
       "      <td>Source:LA Archdiocesan Report 2.17.04 page 3;M...</td>\n",
       "      <td>=</td>\n",
       "    </tr>\n",
       "    <tr>\n",
       "      <th>3</th>\n",
       "      <td>Abeywickrema</td>\n",
       "      <td>Lionel Augustine</td>\n",
       "      <td>1951</td>\n",
       "      <td>P</td>\n",
       "      <td>accused</td>\n",
       "      <td>Diocesan</td>\n",
       "      <td>Abeywickrema, originally from Sri Lanka, was a...</td>\n",
       "      <td>Santa Fe, NM</td>\n",
       "      <td>Source:Roswell Daily Record 7.1.93;The New Mex...</td>\n",
       "      <td>=</td>\n",
       "    </tr>\n",
       "    <tr>\n",
       "      <th>4</th>\n",
       "      <td>Abrams</td>\n",
       "      <td>John L.</td>\n",
       "      <td>1950</td>\n",
       "      <td>P</td>\n",
       "      <td>accused</td>\n",
       "      <td>Diocesan</td>\n",
       "      <td>Some time after 2002 Abrams'  \"victims\" report...</td>\n",
       "      <td>Brooklyn, NY</td>\n",
       "      <td>Source:Statement by Diocese of Brooklyn  11.08...</td>\n",
       "      <td>&lt;</td>\n",
       "    </tr>\n",
       "  </tbody>\n",
       "</table>\n",
       "</div>"
      ],
      "text/plain": [
       "           Last             First   Ord  T   Status  \\\n",
       "0         Abaya             Rubin     0  P  accused   \n",
       "1         Abdon            Andrew     0  B  settled   \n",
       "2   Abercrombie        Leonard A.  1946  P  accused   \n",
       "3  Abeywickrema  Lionel Augustine  1951  P  accused   \n",
       "4        Abrams           John L.  1950  P  accused   \n",
       "\n",
       "                                 D/O  \\\n",
       "0                           Diocesan   \n",
       "1  Brothers of the Christian Schools   \n",
       "2                           Diocesan   \n",
       "3                           Diocesan   \n",
       "4                           Diocesan   \n",
       "\n",
       "                                               Notes          Diocese  \\\n",
       "0  One of seven priests  named as defendants in  ...  Los Angeles, CA   \n",
       "1  In separate 1995 lawsuits, 2 brothers and anot...     Santa Fe, NM   \n",
       "2  Letter 7/93 to Pope JP II, Stafford, and Mahon...       Denver, CO   \n",
       "3  Abeywickrema, originally from Sri Lanka, was a...     Santa Fe, NM   \n",
       "4  Some time after 2002 Abrams'  \"victims\" report...     Brooklyn, NY   \n",
       "\n",
       "                                  Source/Assignments Ord_Mod  \n",
       "0  Source:United Press International  02.08.84; U...       =  \n",
       "1  Source:Obituary and Assignments  08.17.77;Orti...       =  \n",
       "2  Source:LA Archdiocesan Report 2.17.04 page 3;M...       =  \n",
       "3  Source:Roswell Daily Record 7.1.93;The New Mex...       =  \n",
       "4  Source:Statement by Diocese of Brooklyn  11.08...       <  "
      ]
     },
     "execution_count": 192,
     "metadata": {},
     "output_type": "execute_result"
    }
   ],
   "source": [
    "''' Fills the rest of the missing values in the data with defaults '''\n",
    "def clean_data(data):\n",
    "    data[\"First\"] = data[\"First\"].fillna(\"\")   \n",
    "    data[\"Status\"] = data[\"Status\"].fillna(\"Unknown\")\n",
    "    data[\"D/O\"] = data[\"D/O\"].fillna(\"Unknown\")\n",
    "    data[\"Notes\"] = data[\"Notes\"].fillna(\"\")\n",
    "    data[data[\"Diocese\"] == \"none\"] = \"Unknown, UNK\"\n",
    "    \n",
    "    # Removes punctuation and lowercases the 'Status' column (\"convicted\" = \"Convicted\", \"sued\" = \"sued.\")\n",
    "    data[\"Status\"] = data[\"Status\"].str.lower()\n",
    "    data[\"Status\"] = data[\"Status\"].str.strip(\".\")\n",
    "    \n",
    "    return data \n",
    "\n",
    "df = clean_data(df)\n",
    "df.head()"
   ]
  },
  {
   "cell_type": "code",
   "execution_count": 193,
   "metadata": {
    "collapsed": true
   },
   "outputs": [],
   "source": [
    "df.to_csv('cleanedData.csv')"
   ]
  },
  {
   "cell_type": "markdown",
   "metadata": {},
   "source": [
    "# Number of Catholics By State"
   ]
  },
  {
   "cell_type": "markdown",
   "metadata": {},
   "source": [
    "We wanted to count how many cases occurred in each state, and in order to normalize these counts, we looked at each state's population as well as the percentage the people reported that they were Catholic. We hoped to see a correlation between the percentage of Catholics and the normalized number of sexual assault cases by state."
   ]
  },
  {
   "cell_type": "code",
   "execution_count": 194,
   "metadata": {
    "collapsed": false
   },
   "outputs": [
    {
     "data": {
      "text/html": [
       "<div>\n",
       "<table border=\"1\" class=\"dataframe\">\n",
       "  <thead>\n",
       "    <tr style=\"text-align: right;\">\n",
       "      <th></th>\n",
       "      <th>State</th>\n",
       "      <th>Abbrev</th>\n",
       "      <th>Population</th>\n",
       "      <th>Percent_Catholic</th>\n",
       "    </tr>\n",
       "  </thead>\n",
       "  <tbody>\n",
       "    <tr>\n",
       "      <th>0</th>\n",
       "      <td>Alabama</td>\n",
       "      <td>AL</td>\n",
       "      <td>4779736</td>\n",
       "      <td>0.07</td>\n",
       "    </tr>\n",
       "    <tr>\n",
       "      <th>1</th>\n",
       "      <td>Alaska</td>\n",
       "      <td>AK</td>\n",
       "      <td>710231</td>\n",
       "      <td>0.16</td>\n",
       "    </tr>\n",
       "    <tr>\n",
       "      <th>2</th>\n",
       "      <td>Arizona</td>\n",
       "      <td>AZ</td>\n",
       "      <td>6392017</td>\n",
       "      <td>0.21</td>\n",
       "    </tr>\n",
       "    <tr>\n",
       "      <th>3</th>\n",
       "      <td>Arkansas</td>\n",
       "      <td>AR</td>\n",
       "      <td>2915918</td>\n",
       "      <td>0.08</td>\n",
       "    </tr>\n",
       "    <tr>\n",
       "      <th>4</th>\n",
       "      <td>California</td>\n",
       "      <td>CA</td>\n",
       "      <td>37253956</td>\n",
       "      <td>0.28</td>\n",
       "    </tr>\n",
       "  </tbody>\n",
       "</table>\n",
       "</div>"
      ],
      "text/plain": [
       "        State Abbrev  Population  Percent_Catholic\n",
       "0     Alabama     AL     4779736              0.07\n",
       "1      Alaska     AK      710231              0.16\n",
       "2     Arizona     AZ     6392017              0.21\n",
       "3    Arkansas     AR     2915918              0.08\n",
       "4  California     CA    37253956              0.28"
      ]
     },
     "execution_count": 194,
     "metadata": {},
     "output_type": "execute_result"
    }
   ],
   "source": [
    "# \"Religious fervor\" data\n",
    "rf_df = pandas.read_csv('state_data.csv')\n",
    "rf_df.head()"
   ]
  },
  {
   "cell_type": "markdown",
   "metadata": {},
   "source": [
    "For each individual in the data, we extracted the state of his/her diocese from the 'Diocese' column and counted how many cases occurred in each state. We then normalized each of these counts by the population of the state (as of 2015)."
   ]
  },
  {
   "cell_type": "code",
   "execution_count": 195,
   "metadata": {
    "collapsed": false
   },
   "outputs": [
    {
     "data": {
      "text/html": [
       "<div>\n",
       "<table border=\"1\" class=\"dataframe\">\n",
       "  <thead>\n",
       "    <tr style=\"text-align: right;\">\n",
       "      <th></th>\n",
       "      <th>State</th>\n",
       "      <th>Abbrev</th>\n",
       "      <th>Population</th>\n",
       "      <th>Percent_Catholic</th>\n",
       "      <th>Count</th>\n",
       "      <th>NormalizedCount</th>\n",
       "    </tr>\n",
       "  </thead>\n",
       "  <tbody>\n",
       "    <tr>\n",
       "      <th>0</th>\n",
       "      <td>Alabama</td>\n",
       "      <td>AL</td>\n",
       "      <td>4779736</td>\n",
       "      <td>0.07</td>\n",
       "      <td>14</td>\n",
       "      <td>2.929032e-06</td>\n",
       "    </tr>\n",
       "    <tr>\n",
       "      <th>1</th>\n",
       "      <td>Alaska</td>\n",
       "      <td>AK</td>\n",
       "      <td>710231</td>\n",
       "      <td>0.16</td>\n",
       "      <td>54</td>\n",
       "      <td>7.603160e-05</td>\n",
       "    </tr>\n",
       "    <tr>\n",
       "      <th>2</th>\n",
       "      <td>Arizona</td>\n",
       "      <td>AZ</td>\n",
       "      <td>6392017</td>\n",
       "      <td>0.21</td>\n",
       "      <td>61</td>\n",
       "      <td>9.543154e-06</td>\n",
       "    </tr>\n",
       "    <tr>\n",
       "      <th>3</th>\n",
       "      <td>Arkansas</td>\n",
       "      <td>AR</td>\n",
       "      <td>2915918</td>\n",
       "      <td>0.08</td>\n",
       "      <td>2</td>\n",
       "      <td>6.858903e-07</td>\n",
       "    </tr>\n",
       "    <tr>\n",
       "      <th>4</th>\n",
       "      <td>California</td>\n",
       "      <td>CA</td>\n",
       "      <td>37253956</td>\n",
       "      <td>0.28</td>\n",
       "      <td>503</td>\n",
       "      <td>1.350192e-05</td>\n",
       "    </tr>\n",
       "  </tbody>\n",
       "</table>\n",
       "</div>"
      ],
      "text/plain": [
       "        State Abbrev  Population  Percent_Catholic  Count  NormalizedCount\n",
       "0     Alabama     AL     4779736              0.07     14     2.929032e-06\n",
       "1      Alaska     AK      710231              0.16     54     7.603160e-05\n",
       "2     Arizona     AZ     6392017              0.21     61     9.543154e-06\n",
       "3    Arkansas     AR     2915918              0.08      2     6.858903e-07\n",
       "4  California     CA    37253956              0.28    503     1.350192e-05"
      ]
     },
     "execution_count": 195,
     "metadata": {},
     "output_type": "execute_result"
    }
   ],
   "source": [
    "# Dictionary mapping state abbreviations to state names\n",
    "from state_dict import *\n",
    "\n",
    "# Stores counts by state\n",
    "states = {};\n",
    "\n",
    "# Grabs the state abbreviations from 'Diocese' data\n",
    "for l in df.Diocese:\n",
    "    state = l.split(\", \")[1]\n",
    "    if state in state_dict:\n",
    "        state = state_dict[state]\n",
    "    else:\n",
    "        continue\n",
    "    \n",
    "    if state in states.keys():\n",
    "        states[state]+=1; \n",
    "    else: \n",
    "        states[state] =1; \n",
    "\n",
    "# Maps the dictionary to the pandas data frame\n",
    "rf_df['Count'] = rf_df['State'].map(states)\n",
    "rf_df['NormalizedCount'] = rf_df['Count']/rf_df['Population']\n",
    "rf_df.head()"
   ]
  },
  {
   "cell_type": "markdown",
   "metadata": {},
   "source": [
    "# Bar plot of states with highest cases"
   ]
  },
  {
   "cell_type": "code",
   "execution_count": 196,
   "metadata": {
    "collapsed": false
   },
   "outputs": [
    {
     "data": {
      "text/plain": [
       "{'Alabama': 14,\n",
       " 'Alaska': 54,\n",
       " 'Arizona': 61,\n",
       " 'Arkansas': 2,\n",
       " 'California': 503,\n",
       " 'Colorado': 29,\n",
       " 'Connecticut': 90,\n",
       " 'Delaware': 38,\n",
       " 'District of Columbia': 26,\n",
       " 'Florida': 101,\n",
       " 'Georgia': 8,\n",
       " 'Hawaii': 18,\n",
       " 'Idaho': 7,\n",
       " 'Illinois': 238,\n",
       " 'Indiana': 47,\n",
       " 'Iowa': 82,\n",
       " 'Kansas': 21,\n",
       " 'Kentucky': 99,\n",
       " 'Louisiana': 75,\n",
       " 'Maine': 49,\n",
       " 'Maryland': 69,\n",
       " 'Massachusetts': 376,\n",
       " 'Michigan': 112,\n",
       " 'Minnesota': 187,\n",
       " 'Mississippi': 8,\n",
       " 'Missouri': 108,\n",
       " 'Montana': 50,\n",
       " 'Nebraska': 15,\n",
       " 'Nevada': 6,\n",
       " 'New Hampshire': 90,\n",
       " 'New Jersey': 148,\n",
       " 'New Mexico': 71,\n",
       " 'New York': 297,\n",
       " 'North Carolina': 14,\n",
       " 'North Dakota': 13,\n",
       " 'Ohio': 137,\n",
       " 'Oklahoma': 8,\n",
       " 'Oregon': 93,\n",
       " 'Pennsylvania': 278,\n",
       " 'Rhode Island': 35,\n",
       " 'South Carolina': 12,\n",
       " 'South Dakota': 32,\n",
       " 'Tennessee': 17,\n",
       " 'Texas': 127,\n",
       " 'Utah': 4,\n",
       " 'Vermont': 15,\n",
       " 'Virginia': 22,\n",
       " 'Washington': 91,\n",
       " 'West Virginia': 6,\n",
       " 'Wisconsin': 121,\n",
       " 'Wyoming': 2}"
      ]
     },
     "execution_count": 196,
     "metadata": {},
     "output_type": "execute_result"
    }
   ],
   "source": [
    "states"
   ]
  },
  {
   "cell_type": "code",
   "execution_count": 197,
   "metadata": {
    "collapsed": false
   },
   "outputs": [
    {
     "data": {
      "text/plain": [
       "<matplotlib.text.Text at 0x7fac84035f90>"
      ]
     },
     "execution_count": 197,
     "metadata": {},
     "output_type": "execute_result"
    },
    {
     "data": {
      "image/png": "[encoded data removed]",
      "text/plain": [
       "<matplotlib.figure.Figure at 0x7fac83d52d50>"
      ]
     },
     "metadata": {},
     "output_type": "display_data"
    }
   ],
   "source": [
    "plt.figure(figsize=(20,10))\n",
    "ax = sns.barplot(x=rf_df.Abbrev, y=rf_df.Count)\n",
    "plt.xlabel('State')\n",
    "plt.ylabel('Case count')\n",
    "plt.title('Bar Plot of cases in each state')"
   ]
  },
  {
   "cell_type": "markdown",
   "metadata": {},
   "source": [
    "The bar plot shows that CA, MA, and NY had the most cases, out of all of the states. This, of course, might be because they are some of the largest states in the US. We tried to normalize, in column \"NormalizedCount\". We will plot that data in a scatter plot, but we wanted to visualize all of the cases in each state."
   ]
  },
  {
   "cell_type": "markdown",
   "metadata": {},
   "source": [
    "# Correlation between catholics in each state and cases "
   ]
  },
  {
   "cell_type": "markdown",
   "metadata": {},
   "source": [
    "We discovered a moderate correlation between the percentage of Catholics in each state and the normalized counts of sexual assault cases. "
   ]
  },
  {
   "cell_type": "code",
   "execution_count": 198,
   "metadata": {
    "collapsed": false
   },
   "outputs": [
    {
     "data": {
      "image/png": "[encoded data removed]",
      "text/plain": [
       "<matplotlib.figure.Figure at 0x7fac83e44790>"
      ]
     },
     "metadata": {},
     "output_type": "display_data"
    }
   ],
   "source": [
    "sns.jointplot(x='Percent_Catholic', y='NormalizedCount', data=rf_df)\n",
    "plt.ylim([0, 1e-4])\n",
    "\n",
    "ax.set_xlabel('Percent Catholic', fontsize=14)\n",
    "ax.set_ylabel('Normalized Count', fontsize=14)\n",
    "\n",
    "ax.grid(True)\n",
    "\n",
    "plt.show()"
   ]
  },
  {
   "cell_type": "code",
   "execution_count": 199,
   "metadata": {
    "collapsed": false
   },
   "outputs": [
    {
     "name": "stdout",
     "output_type": "stream",
     "text": [
      "Pearson Correlation (full data)\n",
      "0.457408208838\n"
     ]
    }
   ],
   "source": [
    "print 'Pearson Correlation (full data)'\n",
    "print scipy.stats.pearsonr(rf_df['Percent_Catholic'], rf_df['NormalizedCount'])[0]"
   ]
  },
  {
   "cell_type": "markdown",
   "metadata": {},
   "source": [
    "The Pearson correlation for the scatter plot showing the percent catholic of a state and the normalized number of sexual assault cases per state was positive and high, **0.46**. \n",
    "We also found that there is a stronger correlation for states that have a population larger than 3,000,000. This, below, produced a Pearson correlation of **0.59**"
   ]
  },
  {
   "cell_type": "code",
   "execution_count": 200,
   "metadata": {
    "collapsed": false
   },
   "outputs": [
    {
     "data": {
      "image/png": "[encoded data removed]",
      "text/plain": [
       "<matplotlib.figure.Figure at 0x7fac83e12150>"
      ]
     },
     "metadata": {},
     "output_type": "display_data"
    }
   ],
   "source": [
    "rf_df_trimmed = rf_df[rf_df['Population'] > 3000000]\n",
    "sns.jointplot(x='Percent_Catholic', y='NormalizedCount', data=rf_df_trimmed)\n",
    "\n",
    "plt.ylim([0, 1e-4])\n",
    "ax.set_xlabel('Percent Catholic', fontsize=14)\n",
    "ax.set_ylabel('Normalized Count', fontsize=14)\n",
    "\n",
    "ax.grid(True)\n",
    "plt.show()"
   ]
  },
  {
   "cell_type": "code",
   "execution_count": 201,
   "metadata": {
    "collapsed": false
   },
   "outputs": [
    {
     "name": "stdout",
     "output_type": "stream",
     "text": [
      "Pearson Correlation (pop > 3,000,000)\n",
      "0.58610601131\n"
     ]
    }
   ],
   "source": [
    "print 'Pearson Correlation (pop > 3,000,000)'\n",
    "print scipy.stats.pearsonr(rf_df_trimmed['Percent_Catholic'], rf_df_trimmed['NormalizedCount'])[0]"
   ]
  },
  {
   "cell_type": "markdown",
   "metadata": {},
   "source": [
    "As seen above, the Pearson correlation for large states is both positive and large. These scatter plots really motivated us and make us feel so passionately about why we are doing this project. Therefore, this or something similar to this is the visualization we want to show. We want to show this trend and strong correlation."
   ]
  },
  {
   "cell_type": "markdown",
   "metadata": {
    "collapsed": true
   },
   "source": [
    "# exploring status of charges. \n"
   ]
  },
  {
   "cell_type": "code",
   "execution_count": 202,
   "metadata": {
    "collapsed": false
   },
   "outputs": [
    {
     "data": {
      "text/plain": [
       "array(['accused', 'settled', 'convicted', 'sued', 'charged', 'arrested',\n",
       "       'charges dropped', 'acquitted', 'none', 'indicted', 'cleared',\n",
       "       'suez', 'unknown, unk', 'reinstated', 'police report',\n",
       "       'suit withdrawn', 'not guilty', 'unknown', 'sentenced',\n",
       "       \"ret'd to duty\"], dtype=object)"
      ]
     },
     "execution_count": 202,
     "metadata": {},
     "output_type": "execute_result"
    }
   ],
   "source": [
    "df.Status.unique()"
   ]
  },
  {
   "cell_type": "code",
   "execution_count": 203,
   "metadata": {
    "collapsed": false
   },
   "outputs": [
    {
     "data": {
      "text/plain": [
       "accused            1782\n",
       "sued               1297\n",
       "convicted           449\n",
       "settled             428\n",
       "arrested             70\n",
       "charged              28\n",
       "none                 15\n",
       "indicted             15\n",
       "acquitted            13\n",
       "reinstated            9\n",
       "cleared               7\n",
       "unknown, unk          7\n",
       "unknown               5\n",
       "sentenced             3\n",
       "suit withdrawn        2\n",
       "charges dropped       2\n",
       "police report         2\n",
       "not guilty            1\n",
       "ret'd to duty         1\n",
       "suez                  1\n",
       "Name: Status, dtype: int64"
      ]
     },
     "execution_count": 203,
     "metadata": {},
     "output_type": "execute_result"
    }
   ],
   "source": [
    "df.Status.value_counts()"
   ]
  },
  {
   "cell_type": "code",
   "execution_count": 204,
   "metadata": {
    "collapsed": false
   },
   "outputs": [
    {
     "data": {
      "text/plain": [
       "incriminated    1865\n",
       "accused         1792\n",
       "other            480\n",
       "Name: Status, dtype: int64"
      ]
     },
     "execution_count": 204,
     "metadata": {},
     "output_type": "execute_result"
    }
   ],
   "source": [
    "new_statuses = {\"none\": \"other\",\n",
    "                \"ret'd to duty\": \"accused\",\n",
    "                \"charges dropped\": \"other\",\n",
    "                \"acquitted\": \"other\",\n",
    "                \"suit withdrawn\": \"other\",\n",
    "                \"reinstated\": \"accused\",\n",
    "                \"settled\": \"other\",\n",
    "                \"police report\": \"incriminated\",\n",
    "                \"sued\": \"incriminated\",\n",
    "                \"suez\": \"incriminated\",\n",
    "                \"convicted\": \"incriminated\",\n",
    "                \"arrested\": \"incriminated\",\n",
    "                \"indicted\": \"incriminated\",\n",
    "                \"unknown, unk\": \"other\", \n",
    "                \"cleared\" : \"other\", \n",
    "                \"charged\" : \"incriminated\", \n",
    "                \"sentenced\" : \"incriminated\", \n",
    "                \"unknown\" : \"other\", \n",
    "                \"not guilty\" : \"other\"\n",
    "                }\n",
    "\n",
    "def change_statuses(data):\n",
    "    if data in new_statuses:\n",
    "        return new_statuses[data]\n",
    "    else:\n",
    "        return data\n",
    "    \n",
    "df.Status = df.Status.apply(change_statuses)\n",
    "df.Status.value_counts()"
   ]
  },
  {
   "cell_type": "code",
   "execution_count": 205,
   "metadata": {
    "collapsed": false
   },
   "outputs": [],
   "source": [
    "def make_counts_of_Statuses(data, typeOfP): \n",
    "    accused = 0; \n",
    "    incriminated = 0; \n",
    "    notGuilty = 0; \n",
    "    uk = 0; \n",
    "    other = 0; \n",
    "#     print(data[data[\"T\"] == typeOfP].Status)\n",
    "    for status in data[data[\"T\"] == typeOfP].Status:\n",
    "        if (status == \"accused\"):\n",
    "            accused += 1; \n",
    "        if (status == \"incriminated\"): \n",
    "            incriminated +=1; \n",
    "        if (status == \"not guilty\"): \n",
    "            notGuilty +=1; \n",
    "        if (status == \"unknown\"): \n",
    "            uk +=1; \n",
    "        if (status == \"other\"): \n",
    "            other +=1; \n",
    "    total = accused + incriminated + notGuilty + uk + other\n",
    "#     percentAccused = accused /(total)\n",
    "#     percentIncriminated = incriminated /total \n",
    "#     percentNotGuilty = notGuilty/total \n",
    "#     percentuk = uk /total \n",
    "    return [accused, incriminated, notGuilty, uk, other]"
   ]
  },
  {
   "cell_type": "code",
   "execution_count": 206,
   "metadata": {
    "collapsed": false
   },
   "outputs": [
    {
     "name": "stdout",
     "output_type": "stream",
     "text": [
      "[90, 154, 0, 0, 33]\n",
      "244\n",
      "244\n",
      "[90, 334]\n"
     ]
    },
    {
     "data": {
      "image/png": "[encoded data removed]",
      "text/plain": [
       "<matplotlib.figure.Figure at 0x7fac83d924d0>"
      ]
     },
     "metadata": {},
     "output_type": "display_data"
    }
   ],
   "source": [
    "d = make_counts_of_Statuses(df, \"B\")\n",
    "print(d)\n",
    "# total = sns.barplot(x = [0], y = d[len(d)-1], color = \"black\")\n",
    "# print(d[1])\n",
    "# print(d[1] + d[2])\n",
    "plt2 = sns.barplot(x = [0], y = d[0] , color = \"blue\")\n",
    "print(d[1] + d[0])\n",
    "d[1] = d[1] + d[0]\n",
    "print(d[1])\n",
    "print([d[0], d[0] + d[1]])\n",
    "v = [d[0], d[0] + d[1]] \n",
    "# plt1 = sns.barplot(x = [0], y = v, color = \"red\")\n",
    "\n",
    "# plt3 = sns.barplot(x = [0], y = d[2], color = \"green\")\n",
    "# plt4 = sns.barplot(x = [0], y = d[3], color = \"yellow\")"
   ]
  },
  {
   "cell_type": "code",
   "execution_count": 207,
   "metadata": {
    "collapsed": false
   },
   "outputs": [
    {
     "name": "stdout",
     "output_type": "stream",
     "text": [
      "   accused  incriminated  not guilty  unknown  other\n",
      "0       90           154           0        0     33\n"
     ]
    },
    {
     "data": {
      "text/plain": [
       "<matplotlib.axes._subplots.AxesSubplot at 0x7fac8343c110>"
      ]
     },
     "execution_count": 207,
     "metadata": {},
     "output_type": "execute_result"
    },
    {
     "data": {
      "image/png": "[encoded data removed]",
      "text/plain": [
       "<matplotlib.figure.Figure at 0x7fac837c5650>"
      ]
     },
     "metadata": {},
     "output_type": "display_data"
    }
   ],
   "source": [
    "d = make_counts_of_Statuses(df, \"B\")\n",
    "# print(d)\n",
    "d = np.array(d)\n",
    "\n",
    "dataframe = pandas.DataFrame([d], columns = [\"accused\", \"incriminated\", \"not guilty\", \"unknown\", \"other\"])\n",
    "print(dataframe)\n",
    "dataframe.to_csv('Brothers.csv')\n",
    "dataframe.plot(kind = 'bar', stacked=True)"
   ]
  },
  {
   "cell_type": "code",
   "execution_count": 216,
   "metadata": {
    "collapsed": false
   },
   "outputs": [
    {
     "data": {
      "text/html": [
       "<div>\n",
       "<table border=\"1\" class=\"dataframe\">\n",
       "  <thead>\n",
       "    <tr style=\"text-align: right;\">\n",
       "      <th></th>\n",
       "      <th>Unnamed: 0</th>\n",
       "      <th>State</th>\n",
       "      <th>Abbrev</th>\n",
       "      <th>Population</th>\n",
       "      <th>Percent_Catholic</th>\n",
       "      <th>Count</th>\n",
       "      <th>NormalizedCount</th>\n",
       "      <th>Accused</th>\n",
       "      <th>Incriminated</th>\n",
       "      <th>Other</th>\n",
       "    </tr>\n",
       "  </thead>\n",
       "  <tbody>\n",
       "    <tr>\n",
       "      <th>0</th>\n",
       "      <td>0</td>\n",
       "      <td>Alabama</td>\n",
       "      <td>AL</td>\n",
       "      <td>4779736</td>\n",
       "      <td>0.07</td>\n",
       "      <td>14</td>\n",
       "      <td>2.929032e-06</td>\n",
       "      <td>8</td>\n",
       "      <td>6</td>\n",
       "      <td>0</td>\n",
       "    </tr>\n",
       "    <tr>\n",
       "      <th>1</th>\n",
       "      <td>1</td>\n",
       "      <td>Alaska</td>\n",
       "      <td>AK</td>\n",
       "      <td>710231</td>\n",
       "      <td>0.16</td>\n",
       "      <td>54</td>\n",
       "      <td>7.603160e-05</td>\n",
       "      <td>32</td>\n",
       "      <td>21</td>\n",
       "      <td>1</td>\n",
       "    </tr>\n",
       "    <tr>\n",
       "      <th>2</th>\n",
       "      <td>2</td>\n",
       "      <td>Arizona</td>\n",
       "      <td>AZ</td>\n",
       "      <td>6392017</td>\n",
       "      <td>0.21</td>\n",
       "      <td>61</td>\n",
       "      <td>9.543154e-06</td>\n",
       "      <td>26</td>\n",
       "      <td>35</td>\n",
       "      <td>0</td>\n",
       "    </tr>\n",
       "    <tr>\n",
       "      <th>3</th>\n",
       "      <td>3</td>\n",
       "      <td>Arkansas</td>\n",
       "      <td>AR</td>\n",
       "      <td>2915918</td>\n",
       "      <td>0.08</td>\n",
       "      <td>2</td>\n",
       "      <td>6.858903e-07</td>\n",
       "      <td>0</td>\n",
       "      <td>2</td>\n",
       "      <td>0</td>\n",
       "    </tr>\n",
       "    <tr>\n",
       "      <th>4</th>\n",
       "      <td>4</td>\n",
       "      <td>California</td>\n",
       "      <td>CA</td>\n",
       "      <td>37253956</td>\n",
       "      <td>0.28</td>\n",
       "      <td>503</td>\n",
       "      <td>1.350192e-05</td>\n",
       "      <td>146</td>\n",
       "      <td>352</td>\n",
       "      <td>5</td>\n",
       "    </tr>\n",
       "  </tbody>\n",
       "</table>\n",
       "</div>"
      ],
      "text/plain": [
       "   Unnamed: 0       State Abbrev  Population  Percent_Catholic  Count  \\\n",
       "0           0     Alabama     AL     4779736              0.07     14   \n",
       "1           1      Alaska     AK      710231              0.16     54   \n",
       "2           2     Arizona     AZ     6392017              0.21     61   \n",
       "3           3    Arkansas     AR     2915918              0.08      2   \n",
       "4           4  California     CA    37253956              0.28    503   \n",
       "\n",
       "   NormalizedCount  Accused  Incriminated  Other  \n",
       "0     2.929032e-06        8             6      0  \n",
       "1     7.603160e-05       32            21      1  \n",
       "2     9.543154e-06       26            35      0  \n",
       "3     6.858903e-07        0             2      0  \n",
       "4     1.350192e-05      146           352      5  "
      ]
     },
     "execution_count": 216,
     "metadata": {},
     "output_type": "execute_result"
    }
   ],
   "source": [
    "df2 = pandas.read_csv(\"full_state_data.csv\")\n",
    "df2.head()"
   ]
  },
  {
   "cell_type": "code",
   "execution_count": 221,
   "metadata": {
    "collapsed": false
   },
   "outputs": [
    {
     "name": "stdout",
     "output_type": "stream",
     "text": [
      "1797.0\n",
      "2289\n",
      "40.0\n",
      "4126.0\n"
     ]
    }
   ],
   "source": [
    "print(df2.Accused.sum())\n",
    "print(df2.Incriminated.sum())\n",
    "print(df2.Other.sum())\n",
    "print(df2.Accused.sum() + df2.Incriminated.sum() + df2.Other.sum())"
   ]
  },
  {
   "cell_type": "code",
   "execution_count": 231,
   "metadata": {
    "collapsed": false
   },
   "outputs": [
    {
     "name": "stdout",
     "output_type": "stream",
     "text": [
      "Unnamed: 0                    0\n",
      "State                   Alabama\n",
      "Abbrev                       AL\n",
      "Population              4779736\n",
      "Percent_Catholic           0.07\n",
      "Count                        14\n",
      "NormalizedCount     2.92903e-06\n",
      "Accused                       8\n",
      "Incriminated                  6\n",
      "Other                         0\n",
      "Name: 0, dtype: object\n"
     ]
    },
    {
     "ename": "PlotlyLocalCredentialsError",
     "evalue": "\nCouldn't find a 'username', 'api-key' pair for you on your local machine. To sign in temporarily (until you stop running Python), run:\n>>> import plotly.plotly as py\n>>> py.sign_in('username', 'api_key')\n\nEven better, save your credentials permanently using the 'tools' module:\n>>> import plotly.tools as tls\n>>> tls.set_credentials_file(username='username', api_key='api-key')\n\nFor more help, see https://plot.ly/python.\n",
     "output_type": "error",
     "traceback": [
      "\u001b[1;31m---------------------------------------------------------------------------\u001b[0m",
      "\u001b[1;31mPlotlyLocalCredentialsError\u001b[0m               Traceback (most recent call last)",
      "\u001b[1;32m<ipython-input-231-0c6161e4778c>\u001b[0m in \u001b[0;36m<module>\u001b[1;34m()\u001b[0m\n\u001b[0;32m      1\u001b[0m \u001b[1;32mprint\u001b[0m\u001b[1;33m(\u001b[0m\u001b[0mdf2\u001b[0m\u001b[1;33m.\u001b[0m\u001b[0mloc\u001b[0m\u001b[1;33m[\u001b[0m\u001b[1;36m0\u001b[0m\u001b[1;33m]\u001b[0m\u001b[1;33m)\u001b[0m\u001b[1;33m\u001b[0m\u001b[0m\n\u001b[1;32m----> 2\u001b[1;33m \u001b[0mdonutChart\u001b[0m\u001b[1;33m(\u001b[0m\u001b[0mdf2\u001b[0m\u001b[1;33m.\u001b[0m\u001b[0mloc\u001b[0m\u001b[1;33m[\u001b[0m\u001b[1;36m0\u001b[0m\u001b[1;33m]\u001b[0m\u001b[1;33m)\u001b[0m\u001b[1;33m\u001b[0m\u001b[0m\n\u001b[0m",
      "\u001b[1;32m<ipython-input-222-c5278b03fd67>\u001b[0m in \u001b[0;36mdonutChart\u001b[1;34m(dataRow)\u001b[0m\n\u001b[0;32m     41\u001b[0m     }\n\u001b[0;32m     42\u001b[0m \u001b[1;33m\u001b[0m\u001b[0m\n\u001b[1;32m---> 43\u001b[1;33m     \u001b[0murl\u001b[0m \u001b[1;33m=\u001b[0m \u001b[0mpy\u001b[0m\u001b[1;33m.\u001b[0m\u001b[0mplot\u001b[0m\u001b[1;33m(\u001b[0m\u001b[0mfig\u001b[0m\u001b[1;33m,\u001b[0m \u001b[0mfilename\u001b[0m\u001b[1;33m=\u001b[0m\u001b[1;34m'Global Emissions 1990-2011'\u001b[0m\u001b[1;33m)\u001b[0m\u001b[1;33m\u001b[0m\u001b[0m\n\u001b[0m",
      "\u001b[1;32m/home/casey/anaconda/lib/python2.7/site-packages/plotly/plotly/plotly.pyc\u001b[0m in \u001b[0;36mplot\u001b[1;34m(figure_or_data, validate, **plot_options)\u001b[0m\n\u001b[0;32m    239\u001b[0m \u001b[1;33m\u001b[0m\u001b[0m\n\u001b[0;32m    240\u001b[0m     \u001b[0mplot_options\u001b[0m \u001b[1;33m=\u001b[0m \u001b[0m_plot_option_logic\u001b[0m\u001b[1;33m(\u001b[0m\u001b[0mplot_options\u001b[0m\u001b[1;33m)\u001b[0m\u001b[1;33m\u001b[0m\u001b[0m\n\u001b[1;32m--> 241\u001b[1;33m     \u001b[0mres\u001b[0m \u001b[1;33m=\u001b[0m \u001b[0m_send_to_plotly\u001b[0m\u001b[1;33m(\u001b[0m\u001b[0mfigure\u001b[0m\u001b[1;33m,\u001b[0m \u001b[1;33m**\u001b[0m\u001b[0mplot_options\u001b[0m\u001b[1;33m)\u001b[0m\u001b[1;33m\u001b[0m\u001b[0m\n\u001b[0m\u001b[0;32m    242\u001b[0m     \u001b[1;32mif\u001b[0m \u001b[0mres\u001b[0m\u001b[1;33m[\u001b[0m\u001b[1;34m'error'\u001b[0m\u001b[1;33m]\u001b[0m \u001b[1;33m==\u001b[0m \u001b[1;34m''\u001b[0m\u001b[1;33m:\u001b[0m\u001b[1;33m\u001b[0m\u001b[0m\n\u001b[0;32m    243\u001b[0m         \u001b[1;32mif\u001b[0m \u001b[0mplot_options\u001b[0m\u001b[1;33m[\u001b[0m\u001b[1;34m'auto_open'\u001b[0m\u001b[1;33m]\u001b[0m\u001b[1;33m:\u001b[0m\u001b[1;33m\u001b[0m\u001b[0m\n",
      "\u001b[1;32m/home/casey/anaconda/lib/python2.7/site-packages/plotly/plotly/plotly.pyc\u001b[0m in \u001b[0;36m_send_to_plotly\u001b[1;34m(figure, **plot_options)\u001b[0m\n\u001b[0;32m   1374\u001b[0m                       cls=utils.PlotlyJSONEncoder)\n\u001b[0;32m   1375\u001b[0m     \u001b[0mcredentials\u001b[0m \u001b[1;33m=\u001b[0m \u001b[0mget_credentials\u001b[0m\u001b[1;33m(\u001b[0m\u001b[1;33m)\u001b[0m\u001b[1;33m\u001b[0m\u001b[0m\n\u001b[1;32m-> 1376\u001b[1;33m     \u001b[0mvalidate_credentials\u001b[0m\u001b[1;33m(\u001b[0m\u001b[0mcredentials\u001b[0m\u001b[1;33m)\u001b[0m\u001b[1;33m\u001b[0m\u001b[0m\n\u001b[0m\u001b[0;32m   1377\u001b[0m     \u001b[0musername\u001b[0m \u001b[1;33m=\u001b[0m \u001b[0mcredentials\u001b[0m\u001b[1;33m[\u001b[0m\u001b[1;34m'username'\u001b[0m\u001b[1;33m]\u001b[0m\u001b[1;33m\u001b[0m\u001b[0m\n\u001b[0;32m   1378\u001b[0m     \u001b[0mapi_key\u001b[0m \u001b[1;33m=\u001b[0m \u001b[0mcredentials\u001b[0m\u001b[1;33m[\u001b[0m\u001b[1;34m'api_key'\u001b[0m\u001b[1;33m]\u001b[0m\u001b[1;33m\u001b[0m\u001b[0m\n",
      "\u001b[1;32m/home/casey/anaconda/lib/python2.7/site-packages/plotly/plotly/plotly.pyc\u001b[0m in \u001b[0;36mvalidate_credentials\u001b[1;34m(credentials)\u001b[0m\n\u001b[0;32m   1323\u001b[0m     \u001b[0mapi_key\u001b[0m \u001b[1;33m=\u001b[0m \u001b[0mcredentials\u001b[0m\u001b[1;33m.\u001b[0m\u001b[0mget\u001b[0m\u001b[1;33m(\u001b[0m\u001b[1;34m'api_key'\u001b[0m\u001b[1;33m)\u001b[0m\u001b[1;33m\u001b[0m\u001b[0m\n\u001b[0;32m   1324\u001b[0m     \u001b[1;32mif\u001b[0m \u001b[1;32mnot\u001b[0m \u001b[0musername\u001b[0m \u001b[1;32mor\u001b[0m \u001b[1;32mnot\u001b[0m \u001b[0mapi_key\u001b[0m\u001b[1;33m:\u001b[0m\u001b[1;33m\u001b[0m\u001b[0m\n\u001b[1;32m-> 1325\u001b[1;33m         \u001b[1;32mraise\u001b[0m \u001b[0mexceptions\u001b[0m\u001b[1;33m.\u001b[0m\u001b[0mPlotlyLocalCredentialsError\u001b[0m\u001b[1;33m(\u001b[0m\u001b[1;33m)\u001b[0m\u001b[1;33m\u001b[0m\u001b[0m\n\u001b[0m\u001b[0;32m   1326\u001b[0m \u001b[1;33m\u001b[0m\u001b[0m\n\u001b[0;32m   1327\u001b[0m \u001b[1;33m\u001b[0m\u001b[0m\n",
      "\u001b[1;31mPlotlyLocalCredentialsError\u001b[0m: \nCouldn't find a 'username', 'api-key' pair for you on your local machine. To sign in temporarily (until you stop running Python), run:\n>>> import plotly.plotly as py\n>>> py.sign_in('username', 'api_key')\n\nEven better, save your credentials permanently using the 'tools' module:\n>>> import plotly.tools as tls\n>>> tls.set_credentials_file(username='username', api_key='api-key')\n\nFor more help, see https://plot.ly/python.\n"
     ]
    }
   ],
   "source": [
    "print(df2.loc[0])\n",
    "donutChart(df2.loc[0])"
   ]
  },
  {
   "cell_type": "code",
   "execution_count": 276,
   "metadata": {
    "collapsed": true
   },
   "outputs": [],
   "source": [
    "def makePie(dataRow):\n",
    "    stateMap = {'accused': dataRow.Accused, 'incriminated': dataRow.Incriminated, 'other': dataRow.Other }\n",
    "    donut = vincent.Pie(stateMap, inner_radius=150)\n",
    "    donut.colors(brew=\"Set2\")\n",
    "    donut.legend(dataRow.State)\n",
    "    return donut"
   ]
  },
  {
   "cell_type": "code",
   "execution_count": 278,
   "metadata": {
    "collapsed": false
   },
   "outputs": [
    {
     "data": {
      "text/html": [
       "<div id=\"visb208e8cc6be146609c8d1a776c75e477\"></div>\n",
       "<script>\n",
       "   ( function() {\n",
       "     var _do_plot = function() {\n",
       "       if (typeof vg === 'undefined') {\n",
       "         window.addEventListener('vincent_libs_loaded', _do_plot)\n",
       "         return;\n",
       "       }\n",
       "       vg.parse.spec({\"axes\": [], \"data\": [{\"name\": \"table\", \"values\": [{\"col\": \"data\", \"idx\": \"accused\", \"val\": 8.0}, {\"col\": \"data\", \"idx\": \"incriminated\", \"val\": 6}, {\"col\": \"data\", \"idx\": \"other\", \"val\": 0.0}]}], \"height\": 500, \"legends\": [{\"fill\": \"color\", \"offset\": 0, \"properties\": {}, \"title\": \"Alabama\"}], \"marks\": [{\"from\": {\"data\": \"table\", \"transform\": [{\"type\": \"pie\", \"value\": \"data.val\"}]}, \"properties\": {\"enter\": {\"endAngle\": {\"field\": \"endAngle\"}, \"fill\": {\"field\": \"data.idx\", \"scale\": \"color\"}, \"innerRadius\": {\"value\": 150}, \"outerRadius\": {\"value\": 250}, \"startAngle\": {\"field\": \"startAngle\"}, \"stroke\": {\"value\": \"white\"}, \"x\": {\"group\": \"width\", \"mult\": 0.5}, \"y\": {\"group\": \"height\", \"mult\": 0.5}}}, \"type\": \"arc\"}], \"padding\": \"auto\", \"scales\": [{\"domain\": {\"data\": \"table\", \"field\": \"data.idx\"}, \"name\": \"color\", \"range\": [\"#66c2a5\", \"#fc8d62\", \"#8da0cb\", \"#e78ac3\", \"#a6d854\", \"#ffd92f\", \"#e5c494\", \"#b3b3b3\"], \"type\": \"ordinal\"}], \"width\": 960}, function(chart) {\n",
       "         chart({el: \"#visb208e8cc6be146609c8d1a776c75e477\"}).update();\n",
       "       });\n",
       "     };\n",
       "     _do_plot();\n",
       "   })();\n",
       "</script>\n",
       "<style>.vega canvas {width: 100%;}</style>\n",
       "        "
      ],
      "text/plain": [
       "<vincent.charts.Pie at 0x7fac83dae8d0>"
      ]
     },
     "execution_count": 278,
     "metadata": {},
     "output_type": "execute_result"
    }
   ],
   "source": [
    "d = makePie(df2.loc[0])\n",
    "\n",
    "# stateMap = {'accused': df2.loc[0].Accused, 'incriminated': df2.loc[0].Incriminated, 'other': df2.loc[0].Other }\n",
    "# donut = vincent.Pie(stateMap, inner_radius=150)\n",
    "# donut.colors(brew=\"Set2\")\n",
    "# donut.legend(df2.loc[0].State)"
   ]
  },
  {
   "cell_type": "code",
   "execution_count": null,
   "metadata": {
    "collapsed": true
   },
   "outputs": [],
   "source": []
  },
  {
   "cell_type": "code",
   "execution_count": null,
   "metadata": {
    "collapsed": true
   },
   "outputs": [],
   "source": []
  }
 ],
 "metadata": {
  "kernelspec": {
   "display_name": "Python 2",
   "language": "python",
   "name": "python2"
  },
  "language_info": {
   "codemirror_mode": {
    "name": "ipython",
    "version": 2
   },
   "file_extension": ".py",
   "mimetype": "text/x-python",
   "name": "python",
   "nbconvert_exporter": "python",
   "pygments_lexer": "ipython2",
   "version": "2.7.11"
  }
 },
 "nbformat": 4,
 "nbformat_minor": 0
}
