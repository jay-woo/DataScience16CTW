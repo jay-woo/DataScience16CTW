{
 "cells": [
  {
   "cell_type": "markdown",
   "metadata": {},
   "source": [
    "Names: Casey Alvarado and Jay Woo\n",
    "\n",
    "In this notebook, we will try to make map iterations of displaying our data."
   ]
  },
  {
   "cell_type": "code",
   "execution_count": 15,
   "metadata": {
    "collapsed": false
   },
   "outputs": [],
   "source": [
    "import pandas \n",
    "import matplotlib.pyplot as plt\n",
    "import seaborn as sns\n",
    "import vincent\n",
    "import numpy as np\n",
    "%matplotlib inline"
   ]
  },
  {
   "cell_type": "code",
   "execution_count": 16,
   "metadata": {
    "collapsed": true
   },
   "outputs": [],
   "source": [
    "df = pandas.read_csv('cleanedData.csv')"
   ]
  },
  {
   "cell_type": "code",
   "execution_count": 17,
   "metadata": {
    "collapsed": false
   },
   "outputs": [
    {
     "data": {
      "text/html": [
       "<div>\n",
       "<table border=\"1\" class=\"dataframe\">\n",
       "  <thead>\n",
       "    <tr style=\"text-align: right;\">\n",
       "      <th></th>\n",
       "      <th>Unnamed: 0</th>\n",
       "      <th>Last</th>\n",
       "      <th>First</th>\n",
       "      <th>Ord</th>\n",
       "      <th>T</th>\n",
       "      <th>Status</th>\n",
       "      <th>D/O</th>\n",
       "      <th>Notes</th>\n",
       "      <th>Diocese</th>\n",
       "      <th>Source/Assignments</th>\n",
       "      <th>Ord_Mod</th>\n",
       "    </tr>\n",
       "  </thead>\n",
       "  <tbody>\n",
       "    <tr>\n",
       "      <th>0</th>\n",
       "      <td>0</td>\n",
       "      <td>Abaya</td>\n",
       "      <td>Rubin</td>\n",
       "      <td>0</td>\n",
       "      <td>P</td>\n",
       "      <td>accused</td>\n",
       "      <td>Diocesan</td>\n",
       "      <td>One of seven priests  named as defendants in  ...</td>\n",
       "      <td>Los Angeles, CA</td>\n",
       "      <td>Source:United Press International  02.08.84; U...</td>\n",
       "      <td>=</td>\n",
       "    </tr>\n",
       "    <tr>\n",
       "      <th>1</th>\n",
       "      <td>1</td>\n",
       "      <td>Abdon</td>\n",
       "      <td>Andrew</td>\n",
       "      <td>0</td>\n",
       "      <td>B</td>\n",
       "      <td>settled</td>\n",
       "      <td>Brothers of the Christian Schools</td>\n",
       "      <td>In separate 1995 lawsuits, 2 brothers and anot...</td>\n",
       "      <td>Santa Fe, NM</td>\n",
       "      <td>Source:Obituary and Assignments  08.17.77;Orti...</td>\n",
       "      <td>=</td>\n",
       "    </tr>\n",
       "    <tr>\n",
       "      <th>2</th>\n",
       "      <td>2</td>\n",
       "      <td>Abercrombie</td>\n",
       "      <td>Leonard A.</td>\n",
       "      <td>1946</td>\n",
       "      <td>P</td>\n",
       "      <td>accused</td>\n",
       "      <td>Diocesan</td>\n",
       "      <td>Letter 7/93 to Pope JP II, Stafford, and Mahon...</td>\n",
       "      <td>Denver, CO</td>\n",
       "      <td>Source:LA Archdiocesan Report 2.17.04 page 3;M...</td>\n",
       "      <td>=</td>\n",
       "    </tr>\n",
       "    <tr>\n",
       "      <th>3</th>\n",
       "      <td>3</td>\n",
       "      <td>Abeywickrema</td>\n",
       "      <td>Lionel Augustine</td>\n",
       "      <td>1951</td>\n",
       "      <td>P</td>\n",
       "      <td>accused</td>\n",
       "      <td>Diocesan</td>\n",
       "      <td>Abeywickrema, originally from Sri Lanka, was a...</td>\n",
       "      <td>Santa Fe, NM</td>\n",
       "      <td>Source:Roswell Daily Record 7.1.93;The New Mex...</td>\n",
       "      <td>=</td>\n",
       "    </tr>\n",
       "    <tr>\n",
       "      <th>4</th>\n",
       "      <td>4</td>\n",
       "      <td>Abrams</td>\n",
       "      <td>John L.</td>\n",
       "      <td>1950</td>\n",
       "      <td>P</td>\n",
       "      <td>accused</td>\n",
       "      <td>Diocesan</td>\n",
       "      <td>Some time after 2002 Abrams'  \"victims\" report...</td>\n",
       "      <td>Brooklyn, NY</td>\n",
       "      <td>Source:Statement by Diocese of Brooklyn  11.08...</td>\n",
       "      <td>&lt;</td>\n",
       "    </tr>\n",
       "  </tbody>\n",
       "</table>\n",
       "</div>"
      ],
      "text/plain": [
       "   Unnamed: 0          Last             First   Ord  T   Status  \\\n",
       "0           0         Abaya             Rubin     0  P  accused   \n",
       "1           1         Abdon            Andrew     0  B  settled   \n",
       "2           2   Abercrombie        Leonard A.  1946  P  accused   \n",
       "3           3  Abeywickrema  Lionel Augustine  1951  P  accused   \n",
       "4           4        Abrams           John L.  1950  P  accused   \n",
       "\n",
       "                                 D/O  \\\n",
       "0                           Diocesan   \n",
       "1  Brothers of the Christian Schools   \n",
       "2                           Diocesan   \n",
       "3                           Diocesan   \n",
       "4                           Diocesan   \n",
       "\n",
       "                                               Notes          Diocese  \\\n",
       "0  One of seven priests  named as defendants in  ...  Los Angeles, CA   \n",
       "1  In separate 1995 lawsuits, 2 brothers and anot...     Santa Fe, NM   \n",
       "2  Letter 7/93 to Pope JP II, Stafford, and Mahon...       Denver, CO   \n",
       "3  Abeywickrema, originally from Sri Lanka, was a...     Santa Fe, NM   \n",
       "4  Some time after 2002 Abrams'  \"victims\" report...     Brooklyn, NY   \n",
       "\n",
       "                                  Source/Assignments Ord_Mod  \n",
       "0  Source:United Press International  02.08.84; U...       =  \n",
       "1  Source:Obituary and Assignments  08.17.77;Orti...       =  \n",
       "2  Source:LA Archdiocesan Report 2.17.04 page 3;M...       =  \n",
       "3  Source:Roswell Daily Record 7.1.93;The New Mex...       =  \n",
       "4  Source:Statement by Diocese of Brooklyn  11.08...       <  "
      ]
     },
     "execution_count": 17,
     "metadata": {},
     "output_type": "execute_result"
    }
   ],
   "source": [
    "df.head()"
   ]
  },
  {
   "cell_type": "code",
   "execution_count": 21,
   "metadata": {
    "collapsed": false
   },
   "outputs": [
    {
     "name": "stdout",
     "output_type": "stream",
     "text": [
      "{'Mississippi': 8, 'Oklahoma': 8, 'Delaware': 38, 'Minnesota': 187, 'Alaska': 54, 'Illinois': 238, 'Arkansas': 2, 'New Mexico': 71, 'Indiana': 47, 'Maryland': 69, 'Louisiana': 75, 'Texas': 127, 'Wyoming': 2, 'Tennessee': 17, 'Iowa': 82, 'Wisconsin': 121, 'Arizona': 61, 'Michigan': 112, 'Kansas': 21, 'Utah': 4, 'Virginia': 22, 'Oregon': 93, 'Connecticut': 90, 'Montana': 50, 'New Hampshire': 90, 'Massachusetts': 376, 'West Virginia': 6, 'South Carolina': 12, 'California': 503, 'Vermont': 15, 'Georgia': 8, 'North Dakota': 13, 'Pennsylvania': 278, 'Florida': 101, 'Hawaii': 18, 'Kentucky': 99, 'Rhode Island': 35, 'Nebraska': 15, 'Missouri': 108, 'Ohio': 137, 'Alabama': 14, 'South Dakota': 32, 'Colorado': 29, 'Idaho': 7, 'New Jersey': 148, 'Washington': 91, 'North Carolina': 14, 'New York': 297, 'District of Columbia': 26, 'Nevada': 6, 'Maine': 49}\n"
     ]
    }
   ],
   "source": [
    "from state_dict import *\n",
    "\n",
    "states = {};\n",
    "\n",
    "for l in df.Diocese:\n",
    "    state = l.split(\", \")[1]\n",
    "    if state in state_dict:\n",
    "        state = state_dict[state]\n",
    "    else:\n",
    "        continue\n",
    "    \n",
    "    if state in states.keys():\n",
    "        states[state]+=1; \n",
    "    else: \n",
    "        states[state] =1; \n",
    "\n",
    "print states"
   ]
  },
  {
   "cell_type": "code",
   "execution_count": 22,
   "metadata": {
    "collapsed": false
   },
   "outputs": [
    {
     "data": {
      "text/plain": [
       "<matplotlib.axes._subplots.AxesSubplot at 0x7f9b2125db50>"
      ]
     },
     "execution_count": 22,
     "metadata": {},
     "output_type": "execute_result"
    },
    {
     "data": {
      "image/png": "[encoded data removed]",
      "text/plain": [
       "<matplotlib.figure.Figure at 0x7f9b2124d8d0>"
      ]
     },
     "metadata": {},
     "output_type": "display_data"
    }
   ],
   "source": [
    "plt.figure(figsize=(20,10))\n",
    "sns.barplot(x=states.keys(), y=states.values())"
   ]
  },
  {
   "cell_type": "code",
   "execution_count": 23,
   "metadata": {
    "collapsed": false
   },
   "outputs": [
    {
     "data": {
      "text/html": [
       "<div>\n",
       "<table border=\"1\" class=\"dataframe\">\n",
       "  <thead>\n",
       "    <tr style=\"text-align: right;\">\n",
       "      <th></th>\n",
       "      <th>State</th>\n",
       "      <th>Count</th>\n",
       "    </tr>\n",
       "  </thead>\n",
       "  <tbody>\n",
       "    <tr>\n",
       "      <th>0</th>\n",
       "      <td>Mississippi</td>\n",
       "      <td>8</td>\n",
       "    </tr>\n",
       "    <tr>\n",
       "      <th>1</th>\n",
       "      <td>Oklahoma</td>\n",
       "      <td>8</td>\n",
       "    </tr>\n",
       "    <tr>\n",
       "      <th>2</th>\n",
       "      <td>Delaware</td>\n",
       "      <td>38</td>\n",
       "    </tr>\n",
       "    <tr>\n",
       "      <th>3</th>\n",
       "      <td>Minnesota</td>\n",
       "      <td>187</td>\n",
       "    </tr>\n",
       "    <tr>\n",
       "      <th>4</th>\n",
       "      <td>Alaska</td>\n",
       "      <td>54</td>\n",
       "    </tr>\n",
       "  </tbody>\n",
       "</table>\n",
       "</div>"
      ],
      "text/plain": [
       "         State  Count\n",
       "0  Mississippi      8\n",
       "1     Oklahoma      8\n",
       "2     Delaware     38\n",
       "3    Minnesota    187\n",
       "4       Alaska     54"
      ]
     },
     "execution_count": 23,
     "metadata": {},
     "output_type": "execute_result"
    }
   ],
   "source": [
    "states_df = pandas.DataFrame(states.items(), columns=['State', 'Count'])\n",
    "states_df.head()"
   ]
  },
  {
   "cell_type": "markdown",
   "metadata": {},
   "source": [
    "# Iteration #1: Using Vincent"
   ]
  },
  {
   "cell_type": "markdown",
   "metadata": {},
   "source": [
    "Vincent allows python to use Vega, which builds on D3. "
   ]
  },
  {
   "cell_type": "code",
   "execution_count": 28,
   "metadata": {
    "collapsed": false
   },
   "outputs": [
    {
     "data": {
      "text/html": [
       "\n",
       "           <script>\n",
       "               \n",
       "                function vct_load_lib(url, callback){\n",
       "                      if(typeof d3 !== 'undefined' &&\n",
       "                         url === 'http://d3js.org/d3.v3.min.js'){\n",
       "                        callback()\n",
       "                      }\n",
       "                      var s = document.createElement('script');\n",
       "                      s.src = url;\n",
       "                      s.async = true;\n",
       "                      s.onreadystatechange = s.onload = callback;\n",
       "                      s.onerror = function(){\n",
       "                        console.warn(\"failed to load library \" + url);\n",
       "                        };\n",
       "                      document.getElementsByTagName(\"head\")[0].appendChild(s);\n",
       "                };\n",
       "                var vincent_event = new CustomEvent(\n",
       "                  \"vincent_libs_loaded\",\n",
       "                  {bubbles: true, cancelable: true}\n",
       "                );\n",
       "                \n",
       "               function load_all_libs(){\n",
       "                  console.log('Loading Vincent libs...')\n",
       "                  vct_load_lib('http://d3js.org/d3.v3.min.js', function(){\n",
       "                  vct_load_lib('http://d3js.org/d3.geo.projection.v0.min.js', function(){\n",
       "                  vct_load_lib('http://wrobstory.github.io/d3-cloud/d3.layout.cloud.js', function(){\n",
       "                  vct_load_lib('http://wrobstory.github.io/vega/vega.v1.3.3.js', function(){\n",
       "                  window.dispatchEvent(vincent_event);\n",
       "                  });\n",
       "                  });\n",
       "                  });\n",
       "                  });\n",
       "               };\n",
       "               if(typeof define === \"function\" && define.amd){\n",
       "                    if (window['d3'] === undefined ||\n",
       "                        window['topojson'] === undefined){\n",
       "                        require.config(\n",
       "                            {paths: {\n",
       "                              d3: 'http://d3js.org/d3.v3.min',\n",
       "                              topojson: 'http://d3js.org/topojson.v1.min'\n",
       "                              }\n",
       "                            }\n",
       "                          );\n",
       "                        require([\"d3\"], function(d3){\n",
       "                            console.log('Loading Vincent from require.js...')\n",
       "                            window.d3 = d3;\n",
       "                            require([\"topojson\"], function(topojson){\n",
       "                                window.topojson = topojson;\n",
       "                                load_all_libs();\n",
       "                            });\n",
       "                        });\n",
       "                    } else {\n",
       "                        load_all_libs();\n",
       "                    };\n",
       "               }else{\n",
       "                    console.log('Require.js not found, loading manually...')\n",
       "                    load_all_libs();\n",
       "               };\n",
       "\n",
       "           </script>"
      ],
      "text/plain": [
       "<IPython.core.display.HTML object>"
      ]
     },
     "metadata": {},
     "output_type": "display_data"
    },
    {
     "data": {
      "text/html": [
       "<div id=\"visec28aa12598c40da9f8ebfa29f999192\"></div>\n",
       "<script>\n",
       "   ( function() {\n",
       "     var _do_plot = function() {\n",
       "       if (typeof vg === 'undefined') {\n",
       "         window.addEventListener('vincent_libs_loaded', _do_plot)\n",
       "         return;\n",
       "       }\n",
       "       vg.parse.spec({\"axes\": [], \"data\": [{\"name\": \"table\", \"values\": [{\"x\": \"Mississippi\", \"y\": 8}, {\"x\": \"Oklahoma\", \"y\": 8}, {\"x\": \"Delaware\", \"y\": 38}, {\"x\": \"Minnesota\", \"y\": 187}, {\"x\": \"Alaska\", \"y\": 54}, {\"x\": \"Illinois\", \"y\": 238}, {\"x\": \"Arkansas\", \"y\": 2}, {\"x\": \"New Mexico\", \"y\": 71}, {\"x\": \"Indiana\", \"y\": 47}, {\"x\": \"Maryland\", \"y\": 69}, {\"x\": \"Louisiana\", \"y\": 75}, {\"x\": \"Texas\", \"y\": 127}, {\"x\": \"Wyoming\", \"y\": 2}, {\"x\": \"Tennessee\", \"y\": 17}, {\"x\": \"Iowa\", \"y\": 82}, {\"x\": \"Wisconsin\", \"y\": 121}, {\"x\": \"Arizona\", \"y\": 61}, {\"x\": \"Michigan\", \"y\": 112}, {\"x\": \"Kansas\", \"y\": 21}, {\"x\": \"Utah\", \"y\": 4}, {\"x\": \"Virginia\", \"y\": 22}, {\"x\": \"Oregon\", \"y\": 93}, {\"x\": \"Connecticut\", \"y\": 90}, {\"x\": \"Montana\", \"y\": 50}, {\"x\": \"New Hampshire\", \"y\": 90}, {\"x\": \"Massachusetts\", \"y\": 376}, {\"x\": \"West Virginia\", \"y\": 6}, {\"x\": \"South Carolina\", \"y\": 12}, {\"x\": \"California\", \"y\": 503}, {\"x\": \"Vermont\", \"y\": 15}, {\"x\": \"Georgia\", \"y\": 8}, {\"x\": \"North Dakota\", \"y\": 13}, {\"x\": \"Pennsylvania\", \"y\": 278}, {\"x\": \"Florida\", \"y\": 101}, {\"x\": \"Hawaii\", \"y\": 18}, {\"x\": \"Kentucky\", \"y\": 99}, {\"x\": \"Rhode Island\", \"y\": 35}, {\"x\": \"Nebraska\", \"y\": 15}, {\"x\": \"Missouri\", \"y\": 108}, {\"x\": \"Ohio\", \"y\": 137}, {\"x\": \"Alabama\", \"y\": 14}, {\"x\": \"South Dakota\", \"y\": 32}, {\"x\": \"Colorado\", \"y\": 29}, {\"x\": \"Idaho\", \"y\": 7}, {\"x\": \"New Jersey\", \"y\": 148}, {\"x\": \"Washington\", \"y\": 91}, {\"x\": \"North Carolina\", \"y\": 14}, {\"x\": \"New York\", \"y\": 297}, {\"x\": \"District of Columbia\", \"y\": 26}, {\"x\": \"Nevada\", \"y\": 6}, {\"x\": \"Maine\", \"y\": 49}]}, {\"format\": {\"feature\": \"us_states.geo\", \"type\": \"topojson\"}, \"name\": \"states\", \"transform\": [{\"as\": \"value\", \"default\": \"noval\", \"key\": \"data.properties.NAME\", \"type\": \"zip\", \"with\": \"table\", \"withKey\": \"data.x\"}, {\"test\": \"d.path!='noval' && d.value!='noval'\", \"type\": \"filter\"}, {\"projection\": \"albersUsa\", \"scale\": 1000, \"translate\": [480, 250], \"type\": \"geopath\", \"value\": \"data\"}], \"url\": \"us_states.topo.json\"}], \"height\": 500, \"legends\": [], \"marks\": [{\"from\": {\"data\": \"states\"}, \"properties\": {\"enter\": {\"path\": {\"field\": \"path\"}, \"stroke\": {\"value\": \"#000000\"}}, \"update\": {\"fill\": {\"field\": \"value.data.y\", \"scale\": \"color\"}}}, \"type\": \"path\"}], \"padding\": \"auto\", \"scales\": [{\"domain\": [0, 100, 200, 300, 400, 500, 600], \"name\": \"color\", \"range\": [\"#f7fcf0\", \"#e0f3db\", \"#ccebc5\", \"#a8ddb5\", \"#7bccc4\", \"#4eb3d3\", \"#2b8cbe\", \"#0868ac\", \"#084081\"], \"type\": \"threshold\"}], \"width\": 960}, function(chart) {\n",
       "         chart({el: \"#visec28aa12598c40da9f8ebfa29f999192\"}).update();\n",
       "       });\n",
       "     };\n",
       "     _do_plot();\n",
       "   })();\n",
       "</script>\n",
       "<style>.vega canvas {width: 100%;}</style>\n",
       "        "
      ],
      "text/plain": [
       "<IPython.core.display.HTML object>"
      ]
     },
     "metadata": {},
     "output_type": "display_data"
    }
   ],
   "source": [
    "vincent.core.initialize_notebook()\n",
    "\n",
    "state_topo = r'us_states.topo.json'\n",
    "geo_data = [{'name': 'states',\n",
    "             'url': state_topo,\n",
    "             'feature': 'us_states.geo'}\n",
    "             ]\n",
    "vis = vincent.Map(data=states_df, geo_data=geo_data, scale=1000, projection='albersUsa',\n",
    "                 data_bind='Count', data_key='State',\n",
    "                 map_key={'states': 'properties.NAME'})\n",
    "\n",
    "vis.to_json('vega.json')\n",
    "vis.scales[0].type='threshold'\n",
    "vis.scales['color'].type = 'threshold'\n",
    "vis.scales['color'].domain = [0, 100, 200, 300,  400,  500, 600]\n",
    "vis.display()"
   ]
  },
  {
   "cell_type": "markdown",
   "metadata": {},
   "source": [
    "# Iteration #2: Using Bokeh"
   ]
  },
  {
   "cell_type": "markdown",
   "metadata": {},
   "source": [
    "from tutorial:http://bokeh.pydata.org/en/latest/docs/gallery/texas.html"
   ]
  },
  {
   "cell_type": "code",
   "execution_count": null,
   "metadata": {
    "collapsed": true
   },
   "outputs": [],
   "source": [
    "from bokeh.models import HoverTool\n",
    "from bokeh.plotting import figure, show, output_file, ColumnDataSource\n",
    "from bokeh.sampledata.us_counties import data as counties\n",
    "from bokeh.sampledata.unemployment import data as unemployment\n",
    "\n",
    "counties = {\n",
    "    code: county for code, county in counties.items() if county[\"state\"] == \"tx\"\n",
    "}\n",
    "\n",
    "county_xs = [county[\"lons\"] for county in counties.values()]\n",
    "county_ys = [county[\"lats\"] for county in counties.values()]\n",
    "\n",
    "colors = [\"#F1EEF6\", \"#D4B9DA\", \"#C994C7\", \"#DF65B0\", \"#DD1C77\", \"#980043\"]\n",
    "\n",
    "county_names = [county['name'] for county in counties.values()]\n",
    "county_rates = [unemployment[county_id] for county_id in counties]\n",
    "county_colors = [colors[int(rate/3)] for rate in county_rates]\n",
    "\n",
    "source = ColumnDataSource(data=dict(\n",
    "    x=county_xs,\n",
    "    y=county_ys,\n",
    "    color=county_colors,\n",
    "    name=county_names,\n",
    "    rate=county_rates,\n",
    "))\n",
    "\n",
    "TOOLS=\"pan,wheel_zoom,box_zoom,reset,hover,save\"\n",
    "\n",
    "p = figure(title=\"Texas Unemployment 2009\", tools=TOOLS)\n",
    "\n",
    "p.patches('x', 'y', source=source,\n",
    "          fill_color='color', fill_alpha=0.7,\n",
    "          line_color=\"white\", line_width=0.5)\n",
    "\n",
    "hover = p.select_one(HoverTool)\n",
    "hover.point_policy = \"follow_mouse\"\n",
    "hover.tooltips = [\n",
    "    (\"Name\", \"@name\"),\n",
    "    (\"Unemployment rate)\", \"@rate%\"),\n",
    "    (\"(Long, Lat)\", \"($x, $y)\"),\n",
    "]\n",
    "\n",
    "output_file(\"texas.html\", title=\"texas.py example\")\n",
    "\n",
    "show(p)"
   ]
  }
 ],
 "metadata": {
  "kernelspec": {
   "display_name": "Python 2",
   "language": "python",
   "name": "python2"
  },
  "language_info": {
   "codemirror_mode": {
    "name": "ipython",
    "version": 2
   },
   "file_extension": ".py",
   "mimetype": "text/x-python",
   "name": "python",
   "nbconvert_exporter": "python",
   "pygments_lexer": "ipython2",
   "version": "2.7.11"
  }
 },
 "nbformat": 4,
 "nbformat_minor": 0
}
