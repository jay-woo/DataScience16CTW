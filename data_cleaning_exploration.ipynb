{
 "cells": [
  {
   "cell_type": "markdown",
   "metadata": {},
   "source": [
    "# Data Cleaning and Exploration\n",
    "### Jay Woo and Casey Alvarado\n",
    "\n",
    "We explored data about sexual assault cases committed by high-ranking Roman Catholic officals in the USA. In this notebook, we wrote about our initial findings from the dataset."
   ]
  },
  {
   "cell_type": "code",
   "execution_count": 2,
   "metadata": {
    "collapsed": false
   },
   "outputs": [
    {
     "name": "stderr",
     "output_type": "stream",
     "text": [
      "/home/casey/anaconda/lib/python2.7/site-packages/matplotlib/__init__.py:872: UserWarning: axes.color_cycle is deprecated and replaced with axes.prop_cycle; please use the latter.\n",
      "  warnings.warn(self.msg_depr % (key, alt_key))\n"
     ]
    }
   ],
   "source": [
    "# Imports\n",
    "import pandas \n",
    "import scipy\n",
    "import matplotlib.pyplot as plt\n",
    "import seaborn as sns\n",
    "import vincent\n",
    "import numpy as np\n",
    "%matplotlib inline"
   ]
  },
  {
   "cell_type": "markdown",
   "metadata": {},
   "source": [
    "Some of the features are self-explanatory (name, notes, source). The other features are outlined below:\n",
    "\n",
    "* Ord - year when the official was ordained\n",
    "* T - type (P = Priest, B = Brother, S = Seminarian, D = Deacon, N = Nun)\n",
    "* D/O - diocesan/order employee\n",
    "* Diocese - primary diocese in which the individual worked"
   ]
  },
  {
   "cell_type": "code",
   "execution_count": 3,
   "metadata": {
    "collapsed": false
   },
   "outputs": [
    {
     "data": {
      "text/html": [
       "<div>\n",
       "<table border=\"1\" class=\"dataframe\">\n",
       "  <thead>\n",
       "    <tr style=\"text-align: right;\">\n",
       "      <th></th>\n",
       "      <th>Last</th>\n",
       "      <th>First</th>\n",
       "      <th>Ord</th>\n",
       "      <th>T</th>\n",
       "      <th>Status</th>\n",
       "      <th>D/O</th>\n",
       "      <th>Notes</th>\n",
       "      <th>Diocese</th>\n",
       "      <th>Source/Assignments</th>\n",
       "    </tr>\n",
       "  </thead>\n",
       "  <tbody>\n",
       "    <tr>\n",
       "      <th>0</th>\n",
       "      <td>Abaya</td>\n",
       "      <td>Rubin</td>\n",
       "      <td>NaN</td>\n",
       "      <td>P</td>\n",
       "      <td>Accused</td>\n",
       "      <td>Diocesan</td>\n",
       "      <td>One of seven priests  named as defendants in  ...</td>\n",
       "      <td>Los Angeles, CA</td>\n",
       "      <td>Source:United Press International  02.08.84; U...</td>\n",
       "    </tr>\n",
       "    <tr>\n",
       "      <th>1</th>\n",
       "      <td>Abdon</td>\n",
       "      <td>Andrew</td>\n",
       "      <td>NaN</td>\n",
       "      <td>B</td>\n",
       "      <td>Settled</td>\n",
       "      <td>Bros Christian School</td>\n",
       "      <td>In separate 1995 lawsuits, 2 brothers and anot...</td>\n",
       "      <td>Santa Fe, NM</td>\n",
       "      <td>Source:Obituary and Assignments  08.17.77;Orti...</td>\n",
       "    </tr>\n",
       "    <tr>\n",
       "      <th>2</th>\n",
       "      <td>Abercrombie</td>\n",
       "      <td>Leonard A.</td>\n",
       "      <td>1946</td>\n",
       "      <td>P</td>\n",
       "      <td>Accused</td>\n",
       "      <td>Diocesan</td>\n",
       "      <td>Letter 7/93 to Pope JP II, Stafford, and Mahon...</td>\n",
       "      <td>Denver, CO</td>\n",
       "      <td>Source:LA Archdiocesan Report 2.17.04 page 3;M...</td>\n",
       "    </tr>\n",
       "    <tr>\n",
       "      <th>3</th>\n",
       "      <td>Abeywickrema</td>\n",
       "      <td>Lionel Augustine</td>\n",
       "      <td>1951</td>\n",
       "      <td>P</td>\n",
       "      <td>Accused</td>\n",
       "      <td>Diocesan</td>\n",
       "      <td>Abeywickrema, originally from Sri Lanka, was a...</td>\n",
       "      <td>Santa Fe, NM</td>\n",
       "      <td>Source:Roswell Daily Record 7.1.93;The New Mex...</td>\n",
       "    </tr>\n",
       "    <tr>\n",
       "      <th>4</th>\n",
       "      <td>Abrams</td>\n",
       "      <td>John L.</td>\n",
       "      <td>&lt; 1950</td>\n",
       "      <td>P</td>\n",
       "      <td>Accused</td>\n",
       "      <td>Diocesan</td>\n",
       "      <td>Some time after 2002 Abrams'  \"victims\" report...</td>\n",
       "      <td>Brooklyn, NY</td>\n",
       "      <td>Source:Statement by Diocese of Brooklyn  11.08...</td>\n",
       "    </tr>\n",
       "  </tbody>\n",
       "</table>\n",
       "</div>"
      ],
      "text/plain": [
       "           Last             First     Ord  T   Status                    D/O  \\\n",
       "0         Abaya             Rubin     NaN  P  Accused               Diocesan   \n",
       "1         Abdon            Andrew     NaN  B  Settled  Bros Christian School   \n",
       "2   Abercrombie        Leonard A.    1946  P  Accused               Diocesan   \n",
       "3  Abeywickrema  Lionel Augustine    1951  P  Accused               Diocesan   \n",
       "4        Abrams           John L.  < 1950  P  Accused               Diocesan   \n",
       "\n",
       "                                               Notes          Diocese  \\\n",
       "0  One of seven priests  named as defendants in  ...  Los Angeles, CA   \n",
       "1  In separate 1995 lawsuits, 2 brothers and anot...     Santa Fe, NM   \n",
       "2  Letter 7/93 to Pope JP II, Stafford, and Mahon...       Denver, CO   \n",
       "3  Abeywickrema, originally from Sri Lanka, was a...     Santa Fe, NM   \n",
       "4  Some time after 2002 Abrams'  \"victims\" report...     Brooklyn, NY   \n",
       "\n",
       "                                  Source/Assignments  \n",
       "0  Source:United Press International  02.08.84; U...  \n",
       "1  Source:Obituary and Assignments  08.17.77;Orti...  \n",
       "2  Source:LA Archdiocesan Report 2.17.04 page 3;M...  \n",
       "3  Source:Roswell Daily Record 7.1.93;The New Mex...  \n",
       "4  Source:Statement by Diocese of Brooklyn  11.08...  "
      ]
     },
     "execution_count": 3,
     "metadata": {},
     "output_type": "execute_result"
    }
   ],
   "source": [
    "df = pandas.read_csv(\"data.csv\")\n",
    "df.head()"
   ]
  },
  {
   "cell_type": "markdown",
   "metadata": {},
   "source": [
    "# Data Cleaning"
   ]
  },
  {
   "cell_type": "markdown",
   "metadata": {},
   "source": [
    "We looked at each of the individual columns and noticed that the 'D/O' column (diocese/order) was particularly messy. For instance, 'Diocesan' is spelled wrong multiple times in the dataset. So, what we did was we manually created a dictionary that auto-corrects all of the entries in the data."
   ]
  },
  {
   "cell_type": "code",
   "execution_count": 4,
   "metadata": {
    "collapsed": false
   },
   "outputs": [
    {
     "data": {
      "text/plain": [
       "['Dicoesan', 'Diocesan', 'Diocesan.', 'Diocese', 'Diocesen', 'Dioscean']"
      ]
     },
     "execution_count": 4,
     "metadata": {},
     "output_type": "execute_result"
    }
   ],
   "source": [
    "# Some of the data in the D/O feature\n",
    "sorted(df['D/O'].unique())[73:79]"
   ]
  },
  {
   "cell_type": "code",
   "execution_count": 5,
   "metadata": {
    "collapsed": false
   },
   "outputs": [
    {
     "data": {
      "text/plain": [
       "['De La Salle Christian Brothers',\n",
       " 'Diocesan',\n",
       " 'Discalced Carmelite Friars',\n",
       " 'Divine Word Missionaries']"
      ]
     },
     "execution_count": 5,
     "metadata": {},
     "output_type": "execute_result"
    }
   ],
   "source": [
    "# Imports our home-made dictionary and auto-corrects the data\n",
    "from ord_dict import *\n",
    "\n",
    "def update_d_o(data):\n",
    "    if data in corrected_d_o:\n",
    "        return corrected_d_o[data]\n",
    "    else:\n",
    "        return data\n",
    "    \n",
    "df['D/O'] = df['D/O'].apply(update_d_o)\n",
    "\n",
    "sorted(df['D/O'].unique())[42:46]  # Much, much better"
   ]
  },
  {
   "cell_type": "markdown",
   "metadata": {},
   "source": [
    "The 'Ord' column was also particularly messy. Some of the years have '<' or '>' prepended to them and others are simply '?', indicating uncertainty in the dataset. So, we went through the data and only pulled out the digits from the column. We put all of the modifiers (<, >, ?, or = if there is no modifier) into a new column called 'Ord_Mod.'"
   ]
  },
  {
   "cell_type": "code",
   "execution_count": 6,
   "metadata": {
    "collapsed": false
   },
   "outputs": [
    {
     "data": {
      "text/html": [
       "<div>\n",
       "<table border=\"1\" class=\"dataframe\">\n",
       "  <thead>\n",
       "    <tr style=\"text-align: right;\">\n",
       "      <th></th>\n",
       "      <th>Last</th>\n",
       "      <th>First</th>\n",
       "      <th>Ord</th>\n",
       "      <th>T</th>\n",
       "      <th>Status</th>\n",
       "      <th>D/O</th>\n",
       "      <th>Notes</th>\n",
       "      <th>Diocese</th>\n",
       "      <th>Source/Assignments</th>\n",
       "      <th>Ord_Mod</th>\n",
       "    </tr>\n",
       "  </thead>\n",
       "  <tbody>\n",
       "    <tr>\n",
       "      <th>0</th>\n",
       "      <td>Abaya</td>\n",
       "      <td>Rubin</td>\n",
       "      <td>0</td>\n",
       "      <td>P</td>\n",
       "      <td>Accused</td>\n",
       "      <td>Diocesan</td>\n",
       "      <td>One of seven priests  named as defendants in  ...</td>\n",
       "      <td>Los Angeles, CA</td>\n",
       "      <td>Source:United Press International  02.08.84; U...</td>\n",
       "      <td>=</td>\n",
       "    </tr>\n",
       "    <tr>\n",
       "      <th>1</th>\n",
       "      <td>Abdon</td>\n",
       "      <td>Andrew</td>\n",
       "      <td>0</td>\n",
       "      <td>B</td>\n",
       "      <td>Settled</td>\n",
       "      <td>Brothers of the Christian Schools</td>\n",
       "      <td>In separate 1995 lawsuits, 2 brothers and anot...</td>\n",
       "      <td>Santa Fe, NM</td>\n",
       "      <td>Source:Obituary and Assignments  08.17.77;Orti...</td>\n",
       "      <td>=</td>\n",
       "    </tr>\n",
       "    <tr>\n",
       "      <th>2</th>\n",
       "      <td>Abercrombie</td>\n",
       "      <td>Leonard A.</td>\n",
       "      <td>1946</td>\n",
       "      <td>P</td>\n",
       "      <td>Accused</td>\n",
       "      <td>Diocesan</td>\n",
       "      <td>Letter 7/93 to Pope JP II, Stafford, and Mahon...</td>\n",
       "      <td>Denver, CO</td>\n",
       "      <td>Source:LA Archdiocesan Report 2.17.04 page 3;M...</td>\n",
       "      <td>=</td>\n",
       "    </tr>\n",
       "    <tr>\n",
       "      <th>3</th>\n",
       "      <td>Abeywickrema</td>\n",
       "      <td>Lionel Augustine</td>\n",
       "      <td>1951</td>\n",
       "      <td>P</td>\n",
       "      <td>Accused</td>\n",
       "      <td>Diocesan</td>\n",
       "      <td>Abeywickrema, originally from Sri Lanka, was a...</td>\n",
       "      <td>Santa Fe, NM</td>\n",
       "      <td>Source:Roswell Daily Record 7.1.93;The New Mex...</td>\n",
       "      <td>=</td>\n",
       "    </tr>\n",
       "    <tr>\n",
       "      <th>4</th>\n",
       "      <td>Abrams</td>\n",
       "      <td>John L.</td>\n",
       "      <td>1950</td>\n",
       "      <td>P</td>\n",
       "      <td>Accused</td>\n",
       "      <td>Diocesan</td>\n",
       "      <td>Some time after 2002 Abrams'  \"victims\" report...</td>\n",
       "      <td>Brooklyn, NY</td>\n",
       "      <td>Source:Statement by Diocese of Brooklyn  11.08...</td>\n",
       "      <td>&lt;</td>\n",
       "    </tr>\n",
       "  </tbody>\n",
       "</table>\n",
       "</div>"
      ],
      "text/plain": [
       "           Last             First   Ord  T   Status  \\\n",
       "0         Abaya             Rubin     0  P  Accused   \n",
       "1         Abdon            Andrew     0  B  Settled   \n",
       "2   Abercrombie        Leonard A.  1946  P  Accused   \n",
       "3  Abeywickrema  Lionel Augustine  1951  P  Accused   \n",
       "4        Abrams           John L.  1950  P  Accused   \n",
       "\n",
       "                                 D/O  \\\n",
       "0                           Diocesan   \n",
       "1  Brothers of the Christian Schools   \n",
       "2                           Diocesan   \n",
       "3                           Diocesan   \n",
       "4                           Diocesan   \n",
       "\n",
       "                                               Notes          Diocese  \\\n",
       "0  One of seven priests  named as defendants in  ...  Los Angeles, CA   \n",
       "1  In separate 1995 lawsuits, 2 brothers and anot...     Santa Fe, NM   \n",
       "2  Letter 7/93 to Pope JP II, Stafford, and Mahon...       Denver, CO   \n",
       "3  Abeywickrema, originally from Sri Lanka, was a...     Santa Fe, NM   \n",
       "4  Some time after 2002 Abrams'  \"victims\" report...     Brooklyn, NY   \n",
       "\n",
       "                                  Source/Assignments Ord_Mod  \n",
       "0  Source:United Press International  02.08.84; U...       =  \n",
       "1  Source:Obituary and Assignments  08.17.77;Orti...       =  \n",
       "2  Source:LA Archdiocesan Report 2.17.04 page 3;M...       =  \n",
       "3  Source:Roswell Daily Record 7.1.93;The New Mex...       =  \n",
       "4  Source:Statement by Diocese of Brooklyn  11.08...       <  "
      ]
     },
     "execution_count": 6,
     "metadata": {},
     "output_type": "execute_result"
    }
   ],
   "source": [
    "def get_modifiers(ord_data):\n",
    "    #input: data column \n",
    "    #output: item or empty string \n",
    "    \n",
    "    #split data on these weird characters we noticed \n",
    "    splitted = str(ord_data).split('\\xc2\\xa0')\n",
    "    \n",
    "    #if the item in the splitted array is a digit, return the number. \n",
    "    #else, forget the weird symbols and return an empty string \n",
    "    for item in splitted:\n",
    "        if not item.isdigit():\n",
    "            return item\n",
    "    return '='\n",
    "\n",
    "# Pulls modifiers\n",
    "df.Ord = df.Ord.fillna(0)\n",
    "df[\"Ord_Mod\"] = df.Ord.apply(get_modifiers)\n",
    "df.Ord_Mod[df.Ord_Mod == 'nan'] = ''\n",
    "\n",
    "# Replaces all of the Ord data with integers\n",
    "for o in range(len(df.Ord)):\n",
    "    o_list = str(df.Ord[o]).split('\\xc2\\xa0')\n",
    "    for item in o_list: \n",
    "        if(item.isdigit()): \n",
    "            df.Ord[o] = int(item)\n",
    "\n",
    "df.head()"
   ]
  },
  {
   "cell_type": "markdown",
   "metadata": {},
   "source": [
    "Finally, we made sure we weren't missing any values in any of the other columns."
   ]
  },
  {
   "cell_type": "code",
   "execution_count": 7,
   "metadata": {
    "collapsed": false
   },
   "outputs": [
    {
     "data": {
      "text/html": [
       "<div>\n",
       "<table border=\"1\" class=\"dataframe\">\n",
       "  <thead>\n",
       "    <tr style=\"text-align: right;\">\n",
       "      <th></th>\n",
       "      <th>Last</th>\n",
       "      <th>First</th>\n",
       "      <th>Ord</th>\n",
       "      <th>T</th>\n",
       "      <th>Status</th>\n",
       "      <th>D/O</th>\n",
       "      <th>Notes</th>\n",
       "      <th>Diocese</th>\n",
       "      <th>Source/Assignments</th>\n",
       "      <th>Ord_Mod</th>\n",
       "    </tr>\n",
       "  </thead>\n",
       "  <tbody>\n",
       "    <tr>\n",
       "      <th>0</th>\n",
       "      <td>Abaya</td>\n",
       "      <td>Rubin</td>\n",
       "      <td>0</td>\n",
       "      <td>P</td>\n",
       "      <td>accused</td>\n",
       "      <td>Diocesan</td>\n",
       "      <td>One of seven priests  named as defendants in  ...</td>\n",
       "      <td>Los Angeles, CA</td>\n",
       "      <td>Source:United Press International  02.08.84; U...</td>\n",
       "      <td>=</td>\n",
       "    </tr>\n",
       "    <tr>\n",
       "      <th>1</th>\n",
       "      <td>Abdon</td>\n",
       "      <td>Andrew</td>\n",
       "      <td>0</td>\n",
       "      <td>B</td>\n",
       "      <td>settled</td>\n",
       "      <td>Brothers of the Christian Schools</td>\n",
       "      <td>In separate 1995 lawsuits, 2 brothers and anot...</td>\n",
       "      <td>Santa Fe, NM</td>\n",
       "      <td>Source:Obituary and Assignments  08.17.77;Orti...</td>\n",
       "      <td>=</td>\n",
       "    </tr>\n",
       "    <tr>\n",
       "      <th>2</th>\n",
       "      <td>Abercrombie</td>\n",
       "      <td>Leonard A.</td>\n",
       "      <td>1946</td>\n",
       "      <td>P</td>\n",
       "      <td>accused</td>\n",
       "      <td>Diocesan</td>\n",
       "      <td>Letter 7/93 to Pope JP II, Stafford, and Mahon...</td>\n",
       "      <td>Denver, CO</td>\n",
       "      <td>Source:LA Archdiocesan Report 2.17.04 page 3;M...</td>\n",
       "      <td>=</td>\n",
       "    </tr>\n",
       "    <tr>\n",
       "      <th>3</th>\n",
       "      <td>Abeywickrema</td>\n",
       "      <td>Lionel Augustine</td>\n",
       "      <td>1951</td>\n",
       "      <td>P</td>\n",
       "      <td>accused</td>\n",
       "      <td>Diocesan</td>\n",
       "      <td>Abeywickrema, originally from Sri Lanka, was a...</td>\n",
       "      <td>Santa Fe, NM</td>\n",
       "      <td>Source:Roswell Daily Record 7.1.93;The New Mex...</td>\n",
       "      <td>=</td>\n",
       "    </tr>\n",
       "    <tr>\n",
       "      <th>4</th>\n",
       "      <td>Abrams</td>\n",
       "      <td>John L.</td>\n",
       "      <td>1950</td>\n",
       "      <td>P</td>\n",
       "      <td>accused</td>\n",
       "      <td>Diocesan</td>\n",
       "      <td>Some time after 2002 Abrams'  \"victims\" report...</td>\n",
       "      <td>Brooklyn, NY</td>\n",
       "      <td>Source:Statement by Diocese of Brooklyn  11.08...</td>\n",
       "      <td>&lt;</td>\n",
       "    </tr>\n",
       "  </tbody>\n",
       "</table>\n",
       "</div>"
      ],
      "text/plain": [
       "           Last             First   Ord  T   Status  \\\n",
       "0         Abaya             Rubin     0  P  accused   \n",
       "1         Abdon            Andrew     0  B  settled   \n",
       "2   Abercrombie        Leonard A.  1946  P  accused   \n",
       "3  Abeywickrema  Lionel Augustine  1951  P  accused   \n",
       "4        Abrams           John L.  1950  P  accused   \n",
       "\n",
       "                                 D/O  \\\n",
       "0                           Diocesan   \n",
       "1  Brothers of the Christian Schools   \n",
       "2                           Diocesan   \n",
       "3                           Diocesan   \n",
       "4                           Diocesan   \n",
       "\n",
       "                                               Notes          Diocese  \\\n",
       "0  One of seven priests  named as defendants in  ...  Los Angeles, CA   \n",
       "1  In separate 1995 lawsuits, 2 brothers and anot...     Santa Fe, NM   \n",
       "2  Letter 7/93 to Pope JP II, Stafford, and Mahon...       Denver, CO   \n",
       "3  Abeywickrema, originally from Sri Lanka, was a...     Santa Fe, NM   \n",
       "4  Some time after 2002 Abrams'  \"victims\" report...     Brooklyn, NY   \n",
       "\n",
       "                                  Source/Assignments Ord_Mod  \n",
       "0  Source:United Press International  02.08.84; U...       =  \n",
       "1  Source:Obituary and Assignments  08.17.77;Orti...       =  \n",
       "2  Source:LA Archdiocesan Report 2.17.04 page 3;M...       =  \n",
       "3  Source:Roswell Daily Record 7.1.93;The New Mex...       =  \n",
       "4  Source:Statement by Diocese of Brooklyn  11.08...       <  "
      ]
     },
     "execution_count": 7,
     "metadata": {},
     "output_type": "execute_result"
    }
   ],
   "source": [
    "''' Fills the rest of the missing values in the data with defaults '''\n",
    "def clean_data(data):\n",
    "    data[\"First\"] = data[\"First\"].fillna(\"\")   \n",
    "    data[\"Status\"] = data[\"Status\"].fillna(\"Unknown\")\n",
    "    data[\"D/O\"] = data[\"D/O\"].fillna(\"Unknown\")\n",
    "    data[\"Notes\"] = data[\"Notes\"].fillna(\"\")\n",
    "    data[data[\"Diocese\"] == \"none\"] = \"Unknown, UNK\"\n",
    "    \n",
    "    # Removes punctuation and lowercases the 'Status' column (\"convicted\" = \"Convicted\", \"sued\" = \"sued.\")\n",
    "    data[\"Status\"] = data[\"Status\"].str.lower()\n",
    "    data[\"Status\"] = data[\"Status\"].str.strip(\".\")\n",
    "    \n",
    "    return data \n",
    "\n",
    "df = clean_data(df)\n",
    "df.head()"
   ]
  },
  {
   "cell_type": "code",
   "execution_count": 8,
   "metadata": {
    "collapsed": true
   },
   "outputs": [],
   "source": [
    "df.to_csv('cleanedData.csv')"
   ]
  },
  {
   "cell_type": "markdown",
   "metadata": {},
   "source": [
    "# Number of Catholics By State"
   ]
  },
  {
   "cell_type": "markdown",
   "metadata": {},
   "source": [
    "We wanted to count how many cases occurred in each state, and in order to normalize these counts, we looked at each state's population as well as the percentage the people reported that they were Catholic. We hoped to see a correlation between the percentage of Catholics and the normalized number of sexual assault cases by state."
   ]
  },
  {
   "cell_type": "code",
   "execution_count": 9,
   "metadata": {
    "collapsed": false
   },
   "outputs": [
    {
     "data": {
      "text/html": [
       "<div>\n",
       "<table border=\"1\" class=\"dataframe\">\n",
       "  <thead>\n",
       "    <tr style=\"text-align: right;\">\n",
       "      <th></th>\n",
       "      <th>State</th>\n",
       "      <th>Abbrev</th>\n",
       "      <th>Population</th>\n",
       "      <th>Percent_Catholic</th>\n",
       "    </tr>\n",
       "  </thead>\n",
       "  <tbody>\n",
       "    <tr>\n",
       "      <th>0</th>\n",
       "      <td>Alabama</td>\n",
       "      <td>AL</td>\n",
       "      <td>4779736</td>\n",
       "      <td>0.07</td>\n",
       "    </tr>\n",
       "    <tr>\n",
       "      <th>1</th>\n",
       "      <td>Alaska</td>\n",
       "      <td>AK</td>\n",
       "      <td>710231</td>\n",
       "      <td>0.16</td>\n",
       "    </tr>\n",
       "    <tr>\n",
       "      <th>2</th>\n",
       "      <td>Arizona</td>\n",
       "      <td>AZ</td>\n",
       "      <td>6392017</td>\n",
       "      <td>0.21</td>\n",
       "    </tr>\n",
       "    <tr>\n",
       "      <th>3</th>\n",
       "      <td>Arkansas</td>\n",
       "      <td>AR</td>\n",
       "      <td>2915918</td>\n",
       "      <td>0.08</td>\n",
       "    </tr>\n",
       "    <tr>\n",
       "      <th>4</th>\n",
       "      <td>California</td>\n",
       "      <td>CA</td>\n",
       "      <td>37253956</td>\n",
       "      <td>0.28</td>\n",
       "    </tr>\n",
       "  </tbody>\n",
       "</table>\n",
       "</div>"
      ],
      "text/plain": [
       "        State Abbrev  Population  Percent_Catholic\n",
       "0     Alabama     AL     4779736              0.07\n",
       "1      Alaska     AK      710231              0.16\n",
       "2     Arizona     AZ     6392017              0.21\n",
       "3    Arkansas     AR     2915918              0.08\n",
       "4  California     CA    37253956              0.28"
      ]
     },
     "execution_count": 9,
     "metadata": {},
     "output_type": "execute_result"
    }
   ],
   "source": [
    "# \"Religious fervor\" data\n",
    "rf_df = pandas.read_csv('state_data.csv')\n",
    "rf_df.head()"
   ]
  },
  {
   "cell_type": "markdown",
   "metadata": {},
   "source": [
    "For each individual in the data, we extracted the state of his/her diocese from the 'Diocese' column and counted how many cases occurred in each state. We then normalized each of these counts by the population of the state (as of 2015)."
   ]
  },
  {
   "cell_type": "code",
   "execution_count": 29,
   "metadata": {
    "collapsed": false
   },
   "outputs": [
    {
     "name": "stderr",
     "output_type": "stream",
     "text": [
      "/home/casey/anaconda/lib/python2.7/site-packages/ipykernel/__main__.py:12: SettingWithCopyWarning: \n",
      "A value is trying to be set on a copy of a slice from a DataFrame.\n",
      "Try using .loc[row_indexer,col_indexer] = value instead\n",
      "\n",
      "See the caveats in the documentation: http://pandas.pydata.org/pandas-docs/stable/indexing.html#indexing-view-versus-copy\n"
     ]
    },
    {
     "data": {
      "text/html": [
       "<div>\n",
       "<table border=\"1\" class=\"dataframe\">\n",
       "  <thead>\n",
       "    <tr style=\"text-align: right;\">\n",
       "      <th></th>\n",
       "      <th>State</th>\n",
       "      <th>Abbrev</th>\n",
       "      <th>Population</th>\n",
       "      <th>Percent_Catholic</th>\n",
       "      <th>Count</th>\n",
       "      <th>NormalizedCount</th>\n",
       "    </tr>\n",
       "  </thead>\n",
       "  <tbody>\n",
       "    <tr>\n",
       "      <th>0</th>\n",
       "      <td>Alabama</td>\n",
       "      <td>AL</td>\n",
       "      <td>4779736</td>\n",
       "      <td>0.07</td>\n",
       "      <td>14</td>\n",
       "      <td>2.929032e-06</td>\n",
       "    </tr>\n",
       "    <tr>\n",
       "      <th>1</th>\n",
       "      <td>Alaska</td>\n",
       "      <td>AK</td>\n",
       "      <td>710231</td>\n",
       "      <td>0.16</td>\n",
       "      <td>54</td>\n",
       "      <td>7.603160e-05</td>\n",
       "    </tr>\n",
       "    <tr>\n",
       "      <th>2</th>\n",
       "      <td>Arizona</td>\n",
       "      <td>AZ</td>\n",
       "      <td>6392017</td>\n",
       "      <td>0.21</td>\n",
       "      <td>61</td>\n",
       "      <td>9.543154e-06</td>\n",
       "    </tr>\n",
       "    <tr>\n",
       "      <th>3</th>\n",
       "      <td>Arkansas</td>\n",
       "      <td>AR</td>\n",
       "      <td>2915918</td>\n",
       "      <td>0.08</td>\n",
       "      <td>2</td>\n",
       "      <td>6.858903e-07</td>\n",
       "    </tr>\n",
       "    <tr>\n",
       "      <th>4</th>\n",
       "      <td>California</td>\n",
       "      <td>CA</td>\n",
       "      <td>37253956</td>\n",
       "      <td>0.28</td>\n",
       "      <td>503</td>\n",
       "      <td>1.350192e-05</td>\n",
       "    </tr>\n",
       "  </tbody>\n",
       "</table>\n",
       "</div>"
      ],
      "text/plain": [
       "        State Abbrev  Population  Percent_Catholic  Count  NormalizedCount\n",
       "0     Alabama     AL     4779736              0.07     14     2.929032e-06\n",
       "1      Alaska     AK      710231              0.16     54     7.603160e-05\n",
       "2     Arizona     AZ     6392017              0.21     61     9.543154e-06\n",
       "3    Arkansas     AR     2915918              0.08      2     6.858903e-07\n",
       "4  California     CA    37253956              0.28    503     1.350192e-05"
      ]
     },
     "execution_count": 29,
     "metadata": {},
     "output_type": "execute_result"
    }
   ],
   "source": [
    "# Dictionary mapping state abbreviations to state names\n",
    "from state_dict import *\n",
    "\n",
    "# Stores counts by state\n",
    "states = {};\n",
    "\n",
    "# Grabs the state abbreviations from 'Diocese' data\n",
    "for l in df.Diocese:\n",
    "    state = l.split(\", \")[1]\n",
    "    if state in state_dict:\n",
    "        state = state_dict[state]\n",
    "    else:\n",
    "        continue\n",
    "    \n",
    "    if state in states.keys():\n",
    "        states[state]+=1; \n",
    "    else: \n",
    "        states[state] =1; \n",
    "\n",
    "# Maps the dictionary to the pandas data frame\n",
    "rf_df['Count'] = rf_df['State'].map(states)\n",
    "rf_df['NormalizedCount'] = rf_df['Count']/rf_df['Population']\n",
    "rf_df.head()"
   ]
  },
  {
   "cell_type": "markdown",
   "metadata": {},
   "source": [
    "# Bar plot of states with highest cases"
   ]
  },
  {
   "cell_type": "code",
   "execution_count": 11,
   "metadata": {
    "collapsed": false
   },
   "outputs": [
    {
     "data": {
      "text/plain": [
       "{'Alabama': 14,\n",
       " 'Alaska': 54,\n",
       " 'Arizona': 61,\n",
       " 'Arkansas': 2,\n",
       " 'California': 503,\n",
       " 'Colorado': 29,\n",
       " 'Connecticut': 90,\n",
       " 'Delaware': 38,\n",
       " 'District of Columbia': 26,\n",
       " 'Florida': 101,\n",
       " 'Georgia': 8,\n",
       " 'Hawaii': 18,\n",
       " 'Idaho': 7,\n",
       " 'Illinois': 238,\n",
       " 'Indiana': 47,\n",
       " 'Iowa': 82,\n",
       " 'Kansas': 21,\n",
       " 'Kentucky': 99,\n",
       " 'Louisiana': 75,\n",
       " 'Maine': 49,\n",
       " 'Maryland': 69,\n",
       " 'Massachusetts': 376,\n",
       " 'Michigan': 112,\n",
       " 'Minnesota': 187,\n",
       " 'Mississippi': 8,\n",
       " 'Missouri': 108,\n",
       " 'Montana': 50,\n",
       " 'Nebraska': 15,\n",
       " 'Nevada': 6,\n",
       " 'New Hampshire': 90,\n",
       " 'New Jersey': 148,\n",
       " 'New Mexico': 71,\n",
       " 'New York': 297,\n",
       " 'North Carolina': 14,\n",
       " 'North Dakota': 13,\n",
       " 'Ohio': 137,\n",
       " 'Oklahoma': 8,\n",
       " 'Oregon': 93,\n",
       " 'Pennsylvania': 278,\n",
       " 'Rhode Island': 35,\n",
       " 'South Carolina': 12,\n",
       " 'South Dakota': 32,\n",
       " 'Tennessee': 17,\n",
       " 'Texas': 127,\n",
       " 'Utah': 4,\n",
       " 'Vermont': 15,\n",
       " 'Virginia': 22,\n",
       " 'Washington': 91,\n",
       " 'West Virginia': 6,\n",
       " 'Wisconsin': 121,\n",
       " 'Wyoming': 2}"
      ]
     },
     "execution_count": 11,
     "metadata": {},
     "output_type": "execute_result"
    }
   ],
   "source": [
    "states"
   ]
  },
  {
   "cell_type": "code",
   "execution_count": 12,
   "metadata": {
    "collapsed": false
   },
   "outputs": [
    {
     "name": "stderr",
     "output_type": "stream",
     "text": [
      "/home/casey/anaconda/lib/python2.7/site-packages/matplotlib/__init__.py:892: UserWarning: axes.color_cycle is deprecated and replaced with axes.prop_cycle; please use the latter.\n",
      "  warnings.warn(self.msg_depr % (key, alt_key))\n"
     ]
    },
    {
     "data": {
      "text/plain": [
       "<matplotlib.text.Text at 0x7f64767cce50>"
      ]
     },
     "execution_count": 12,
     "metadata": {},
     "output_type": "execute_result"
    },
    {
     "data": {
      "image/png": "[encoded data removed]",
      "text/plain": [
       "<matplotlib.figure.Figure at 0x7f64ac5719d0>"
      ]
     },
     "metadata": {},
     "output_type": "display_data"
    }
   ],
   "source": [
    "plt.figure(figsize=(20,10))\n",
    "ax = sns.barplot(x=rf_df.Abbrev, y=rf_df.Count)\n",
    "plt.xlabel('State')\n",
    "plt.ylabel('Case count')\n",
    "plt.title('Bar Plot of cases in each state')"
   ]
  },
  {
   "cell_type": "markdown",
   "metadata": {},
   "source": [
    "The bar plot shows that CA, MA, and NY had the most cases, out of all of the states. This, of course, might be because they are some of the largest states in the US. We tried to normalize, in column \"NormalizedCount\". We will plot that data in a scatter plot, but we wanted to visualize all of the cases in each state."
   ]
  },
  {
   "cell_type": "markdown",
   "metadata": {},
   "source": [
    "# Correlation between catholics in each state and cases "
   ]
  },
  {
   "cell_type": "markdown",
   "metadata": {},
   "source": [
    "We discovered a moderate correlation between the percentage of Catholics in each state and the normalized counts of sexual assault cases. "
   ]
  },
  {
   "cell_type": "code",
   "execution_count": 13,
   "metadata": {
    "collapsed": false
   },
   "outputs": [
    {
     "data": {
      "image/png": "[encoded data removed]",
      "text/plain": [
       "<matplotlib.figure.Figure at 0x7f64ace0bf50>"
      ]
     },
     "metadata": {},
     "output_type": "display_data"
    }
   ],
   "source": [
    "sns.jointplot(x='Percent_Catholic', y='NormalizedCount', data=rf_df)\n",
    "plt.ylim([0, 1e-4])\n",
    "\n",
    "ax.set_xlabel('Percent Catholic', fontsize=14)\n",
    "ax.set_ylabel('Normalized Count', fontsize=14)\n",
    "\n",
    "ax.grid(True)\n",
    "\n",
    "plt.show()"
   ]
  },
  {
   "cell_type": "code",
   "execution_count": 14,
   "metadata": {
    "collapsed": false
   },
   "outputs": [
    {
     "name": "stdout",
     "output_type": "stream",
     "text": [
      "Pearson Correlation (full data)\n",
      "0.457408208838\n"
     ]
    }
   ],
   "source": [
    "print 'Pearson Correlation (full data)'\n",
    "print scipy.stats.pearsonr(rf_df['Percent_Catholic'], rf_df['NormalizedCount'])[0]"
   ]
  },
  {
   "cell_type": "markdown",
   "metadata": {},
   "source": [
    "The Pearson correlation for the scatter plot showing the percent catholic of a state and the normalized number of sexual assault cases per state was positive and high, **0.46**. \n",
    "We also found that there is a stronger correlation for states that have a population larger than 3,000,000. This, below, produced a Pearson correlation of **0.59**"
   ]
  },
  {
   "cell_type": "code",
   "execution_count": 15,
   "metadata": {
    "collapsed": false
   },
   "outputs": [
    {
     "data": {
      "image/png": "[encoded data removed]",
      "text/plain": [
       "<matplotlib.figure.Figure at 0x7f6475e69350>"
      ]
     },
     "metadata": {},
     "output_type": "display_data"
    }
   ],
   "source": [
    "rf_df_trimmed = rf_df[rf_df['Population'] > 3000000]\n",
    "sns.jointplot(x='Percent_Catholic', y='NormalizedCount', data=rf_df_trimmed)\n",
    "\n",
    "plt.ylim([0, 1e-4])\n",
    "ax.set_xlabel('Percent Catholic', fontsize=14)\n",
    "ax.set_ylabel('Normalized Count', fontsize=14)\n",
    "\n",
    "ax.grid(True)\n",
    "plt.show()"
   ]
  },
  {
   "cell_type": "code",
   "execution_count": 16,
   "metadata": {
    "collapsed": false
   },
   "outputs": [
    {
     "name": "stdout",
     "output_type": "stream",
     "text": [
      "Pearson Correlation (pop > 3,000,000)\n",
      "0.58610601131\n"
     ]
    }
   ],
   "source": [
    "print 'Pearson Correlation (pop > 3,000,000)'\n",
    "print scipy.stats.pearsonr(rf_df_trimmed['Percent_Catholic'], rf_df_trimmed['NormalizedCount'])[0]"
   ]
  },
  {
   "cell_type": "markdown",
   "metadata": {},
   "source": [
    "As seen above, the Pearson correlation for large states is both positive and large. These scatter plots really motivated us and make us feel so passionately about why we are doing this project. Therefore, this or something similar to this is the visualization we want to show. We want to show this trend and strong correlation."
   ]
  },
  {
   "cell_type": "markdown",
   "metadata": {
    "collapsed": true
   },
   "source": [
    "# exploring status of charges. \n"
   ]
  },
  {
   "cell_type": "code",
   "execution_count": 18,
   "metadata": {
    "collapsed": false
   },
   "outputs": [
    {
     "data": {
      "text/plain": [
       "array(['accused', 'settled', 'convicted', 'sued', 'charged', 'arrested',\n",
       "       'charges dropped', 'acquitted', 'none', 'indicted', 'cleared',\n",
       "       'suez', 'unknown, unk', 'reinstated', 'police report',\n",
       "       'suit withdrawn', 'not guilty', 'unknown', 'sentenced',\n",
       "       \"ret'd to duty\"], dtype=object)"
      ]
     },
     "execution_count": 18,
     "metadata": {},
     "output_type": "execute_result"
    }
   ],
   "source": [
    "df.Status.unique()"
   ]
  },
  {
   "cell_type": "code",
   "execution_count": 22,
   "metadata": {
    "collapsed": false
   },
   "outputs": [
    {
     "data": {
      "text/plain": [
       "accused            1782\n",
       "sued               1297\n",
       "convicted           449\n",
       "settled             428\n",
       "arrested             70\n",
       "charged              28\n",
       "none                 15\n",
       "indicted             15\n",
       "acquitted            13\n",
       "reinstated            9\n",
       "cleared               7\n",
       "unknown, unk          7\n",
       "unknown               5\n",
       "sentenced             3\n",
       "suit withdrawn        2\n",
       "charges dropped       2\n",
       "police report         2\n",
       "not guilty            1\n",
       "ret'd to duty         1\n",
       "suez                  1\n",
       "Name: Status, dtype: int64"
      ]
     },
     "execution_count": 22,
     "metadata": {},
     "output_type": "execute_result"
    }
   ],
   "source": [
    "df.Status.value_counts()"
   ]
  },
  {
   "cell_type": "code",
   "execution_count": 28,
   "metadata": {
    "collapsed": false
   },
   "outputs": [
    {
     "data": {
      "text/plain": [
       "incriminated    2262\n",
       "accused         1797\n",
       "cleared           34\n",
       "charged           28\n",
       "unknown           12\n",
       "sentenced          3\n",
       "not guilty         1\n",
       "Name: Status, dtype: int64"
      ]
     },
     "execution_count": 28,
     "metadata": {},
     "output_type": "execute_result"
    }
   ],
   "source": [
    "new_statuses = {\"none\": \"accused\",\n",
    "                \"ret'd to duty\": \"cleared\",\n",
    "                \"charges dropped\": \"cleared\",\n",
    "                \"acquitted\": \"cleared\",\n",
    "                \"suit withdrawn\": \"cleared\",\n",
    "                \"reinstated\": \"cleared\",\n",
    "                \"settled\": \"incriminated\",\n",
    "                \"police report\": \"incriminated\",\n",
    "                \"sued\": \"incriminated\",\n",
    "                \"suez\": \"incriminated\",\n",
    "                \"convicted\": \"incriminated\",\n",
    "                \"arrested\": \"incriminated\",\n",
    "                \"indicted\": \"incriminated\",\n",
    "                \"unknown, unk\": \"unknown\"}\n",
    "\n",
    "def change_statuses(data):\n",
    "    if data in new_statuses:\n",
    "        return new_statuses[data]\n",
    "    else:\n",
    "        return data\n",
    "    \n",
    "df.Status.apply(change_statuses).value_counts()"
   ]
  },
  {
   "cell_type": "code",
   "execution_count": null,
   "metadata": {
    "collapsed": true
   },
   "outputs": [],
   "source": [
    "charges = {}\n",
    "\n",
    "for row in df:\n",
    "    if state in charges.keys(): \n",
    "        if (df.Status == \"none\"       \n",
    "    else: \n",
    "        "
   ]
  },
  {
   "cell_type": "code",
   "execution_count": null,
   "metadata": {
    "collapsed": true
   },
   "outputs": [],
   "source": [
    "charges = {}\n",
    "\n",
    "# Grabs the state abbreviations from 'Diocese' data\n",
    "for l in df.Diocese:\n",
    "    state = l.split(\", \")[1]\n",
    "    if state in state_dict:\n",
    "        state = state_dict[state]\n",
    "    else:\n",
    "        continue\n",
    "    \n",
    "    if state in states.keys():\n",
    "        list_val = charges[states];\n",
    "        if (df.Status == \"none\"): \n",
    "            \n",
    "            \n",
    "    else: \n",
    "        states[state] =1; "
   ]
  }
 ],
 "metadata": {
  "kernelspec": {
   "display_name": "Python 2",
   "language": "python",
   "name": "python2"
  },
  "language_info": {
   "codemirror_mode": {
    "name": "ipython",
    "version": 2
   },
   "file_extension": ".py",
   "mimetype": "text/x-python",
   "name": "python",
   "nbconvert_exporter": "python",
   "pygments_lexer": "ipython2",
   "version": "2.7.11"
  }
 },
 "nbformat": 4,
 "nbformat_minor": 0
}
