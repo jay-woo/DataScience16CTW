{
 "cells": [
  {
   "cell_type": "markdown",
   "metadata": {},
   "source": [
    "# Visualization Iterations\n",
    "### Casey Alvarado and Jay Woo\n",
    "\n",
    "In this notebook, we attempted a bunch of different visualization methods to see if which would work best (if at all) for our storytelling purposes."
   ]
  },
  {
   "cell_type": "code",
   "execution_count": 8,
   "metadata": {
    "collapsed": false
   },
   "outputs": [],
   "source": [
    "import pandas \n",
    "import matplotlib.pyplot as plt\n",
    "import seaborn as sns\n",
    "import vincent\n",
    "import numpy as np\n",
    "import operator\n",
    "%matplotlib inline"
   ]
  },
  {
   "cell_type": "code",
   "execution_count": 2,
   "metadata": {
    "collapsed": true
   },
   "outputs": [],
   "source": [
    "df = pandas.read_csv('cleanedData.csv')"
   ]
  },
  {
   "cell_type": "code",
   "execution_count": 3,
   "metadata": {
    "collapsed": false
   },
   "outputs": [
    {
     "data": {
      "text/html": [
       "<div>\n",
       "<table border=\"1\" class=\"dataframe\">\n",
       "  <thead>\n",
       "    <tr style=\"text-align: right;\">\n",
       "      <th></th>\n",
       "      <th>Unnamed: 0</th>\n",
       "      <th>Last</th>\n",
       "      <th>First</th>\n",
       "      <th>Ord</th>\n",
       "      <th>T</th>\n",
       "      <th>Status</th>\n",
       "      <th>D/O</th>\n",
       "      <th>Notes</th>\n",
       "      <th>Diocese</th>\n",
       "      <th>Source/Assignments</th>\n",
       "      <th>Ord_Mod</th>\n",
       "    </tr>\n",
       "  </thead>\n",
       "  <tbody>\n",
       "    <tr>\n",
       "      <th>0</th>\n",
       "      <td>0</td>\n",
       "      <td>Abaya</td>\n",
       "      <td>Rubin</td>\n",
       "      <td>0</td>\n",
       "      <td>P</td>\n",
       "      <td>accused</td>\n",
       "      <td>Diocesan</td>\n",
       "      <td>One of seven priests  named as defendants in  ...</td>\n",
       "      <td>Los Angeles, CA</td>\n",
       "      <td>Source:United Press International  02.08.84; U...</td>\n",
       "      <td>=</td>\n",
       "    </tr>\n",
       "    <tr>\n",
       "      <th>1</th>\n",
       "      <td>1</td>\n",
       "      <td>Abdon</td>\n",
       "      <td>Andrew</td>\n",
       "      <td>0</td>\n",
       "      <td>B</td>\n",
       "      <td>settled</td>\n",
       "      <td>Brothers of the Christian Schools</td>\n",
       "      <td>In separate 1995 lawsuits, 2 brothers and anot...</td>\n",
       "      <td>Santa Fe, NM</td>\n",
       "      <td>Source:Obituary and Assignments  08.17.77;Orti...</td>\n",
       "      <td>=</td>\n",
       "    </tr>\n",
       "    <tr>\n",
       "      <th>2</th>\n",
       "      <td>2</td>\n",
       "      <td>Abercrombie</td>\n",
       "      <td>Leonard A.</td>\n",
       "      <td>1946</td>\n",
       "      <td>P</td>\n",
       "      <td>accused</td>\n",
       "      <td>Diocesan</td>\n",
       "      <td>Letter 7/93 to Pope JP II, Stafford, and Mahon...</td>\n",
       "      <td>Denver, CO</td>\n",
       "      <td>Source:LA Archdiocesan Report 2.17.04 page 3;M...</td>\n",
       "      <td>=</td>\n",
       "    </tr>\n",
       "    <tr>\n",
       "      <th>3</th>\n",
       "      <td>3</td>\n",
       "      <td>Abeywickrema</td>\n",
       "      <td>Lionel Augustine</td>\n",
       "      <td>1951</td>\n",
       "      <td>P</td>\n",
       "      <td>accused</td>\n",
       "      <td>Diocesan</td>\n",
       "      <td>Abeywickrema, originally from Sri Lanka, was a...</td>\n",
       "      <td>Santa Fe, NM</td>\n",
       "      <td>Source:Roswell Daily Record 7.1.93;The New Mex...</td>\n",
       "      <td>=</td>\n",
       "    </tr>\n",
       "    <tr>\n",
       "      <th>4</th>\n",
       "      <td>4</td>\n",
       "      <td>Abrams</td>\n",
       "      <td>John L.</td>\n",
       "      <td>1950</td>\n",
       "      <td>P</td>\n",
       "      <td>accused</td>\n",
       "      <td>Diocesan</td>\n",
       "      <td>Some time after 2002 Abrams'  \"victims\" report...</td>\n",
       "      <td>Brooklyn, NY</td>\n",
       "      <td>Source:Statement by Diocese of Brooklyn  11.08...</td>\n",
       "      <td>&lt;</td>\n",
       "    </tr>\n",
       "  </tbody>\n",
       "</table>\n",
       "</div>"
      ],
      "text/plain": [
       "   Unnamed: 0          Last             First   Ord  T   Status  \\\n",
       "0           0         Abaya             Rubin     0  P  accused   \n",
       "1           1         Abdon            Andrew     0  B  settled   \n",
       "2           2   Abercrombie        Leonard A.  1946  P  accused   \n",
       "3           3  Abeywickrema  Lionel Augustine  1951  P  accused   \n",
       "4           4        Abrams           John L.  1950  P  accused   \n",
       "\n",
       "                                 D/O  \\\n",
       "0                           Diocesan   \n",
       "1  Brothers of the Christian Schools   \n",
       "2                           Diocesan   \n",
       "3                           Diocesan   \n",
       "4                           Diocesan   \n",
       "\n",
       "                                               Notes          Diocese  \\\n",
       "0  One of seven priests  named as defendants in  ...  Los Angeles, CA   \n",
       "1  In separate 1995 lawsuits, 2 brothers and anot...     Santa Fe, NM   \n",
       "2  Letter 7/93 to Pope JP II, Stafford, and Mahon...       Denver, CO   \n",
       "3  Abeywickrema, originally from Sri Lanka, was a...     Santa Fe, NM   \n",
       "4  Some time after 2002 Abrams'  \"victims\" report...     Brooklyn, NY   \n",
       "\n",
       "                                  Source/Assignments Ord_Mod  \n",
       "0  Source:United Press International  02.08.84; U...       =  \n",
       "1  Source:Obituary and Assignments  08.17.77;Orti...       =  \n",
       "2  Source:LA Archdiocesan Report 2.17.04 page 3;M...       =  \n",
       "3  Source:Roswell Daily Record 7.1.93;The New Mex...       =  \n",
       "4  Source:Statement by Diocese of Brooklyn  11.08...       <  "
      ]
     },
     "execution_count": 3,
     "metadata": {},
     "output_type": "execute_result"
    }
   ],
   "source": [
    "df.head()"
   ]
  },
  {
   "cell_type": "markdown",
   "metadata": {},
   "source": [
    "We got the number of sexual assault cases by state and saved that information into a dictionary."
   ]
  },
  {
   "cell_type": "code",
   "execution_count": 21,
   "metadata": {
    "collapsed": false
   },
   "outputs": [
    {
     "data": {
      "text/html": [
       "<div>\n",
       "<table border=\"1\" class=\"dataframe\">\n",
       "  <thead>\n",
       "    <tr style=\"text-align: right;\">\n",
       "      <th></th>\n",
       "      <th>State</th>\n",
       "      <th>Count</th>\n",
       "    </tr>\n",
       "  </thead>\n",
       "  <tbody>\n",
       "    <tr>\n",
       "      <th>0</th>\n",
       "      <td>Mississippi</td>\n",
       "      <td>8</td>\n",
       "    </tr>\n",
       "    <tr>\n",
       "      <th>1</th>\n",
       "      <td>Oklahoma</td>\n",
       "      <td>8</td>\n",
       "    </tr>\n",
       "    <tr>\n",
       "      <th>2</th>\n",
       "      <td>Delaware</td>\n",
       "      <td>38</td>\n",
       "    </tr>\n",
       "    <tr>\n",
       "      <th>3</th>\n",
       "      <td>Minnesota</td>\n",
       "      <td>187</td>\n",
       "    </tr>\n",
       "    <tr>\n",
       "      <th>4</th>\n",
       "      <td>Alaska</td>\n",
       "      <td>54</td>\n",
       "    </tr>\n",
       "    <tr>\n",
       "      <th>5</th>\n",
       "      <td>Illinois</td>\n",
       "      <td>238</td>\n",
       "    </tr>\n",
       "    <tr>\n",
       "      <th>6</th>\n",
       "      <td>Arkansas</td>\n",
       "      <td>2</td>\n",
       "    </tr>\n",
       "    <tr>\n",
       "      <th>7</th>\n",
       "      <td>New Mexico</td>\n",
       "      <td>71</td>\n",
       "    </tr>\n",
       "    <tr>\n",
       "      <th>8</th>\n",
       "      <td>Indiana</td>\n",
       "      <td>47</td>\n",
       "    </tr>\n",
       "    <tr>\n",
       "      <th>9</th>\n",
       "      <td>Maryland</td>\n",
       "      <td>69</td>\n",
       "    </tr>\n",
       "  </tbody>\n",
       "</table>\n",
       "</div>"
      ],
      "text/plain": [
       "         State  Count\n",
       "0  Mississippi      8\n",
       "1     Oklahoma      8\n",
       "2     Delaware     38\n",
       "3    Minnesota    187\n",
       "4       Alaska     54\n",
       "5     Illinois    238\n",
       "6     Arkansas      2\n",
       "7   New Mexico     71\n",
       "8      Indiana     47\n",
       "9     Maryland     69"
      ]
     },
     "execution_count": 21,
     "metadata": {},
     "output_type": "execute_result"
    }
   ],
   "source": [
    "from state_dict import *\n",
    "\n",
    "states = {};\n",
    "\n",
    "for l in df.Diocese:\n",
    "    state = l.split(\", \")[1]\n",
    "    if state in state_dict:\n",
    "        state = state_dict[state]\n",
    "    else:\n",
    "        continue\n",
    "    \n",
    "    if state in states.keys():\n",
    "        states[state]+=1; \n",
    "    else: \n",
    "        states[state] =1; "
   ]
  },
  {
   "cell_type": "markdown",
   "metadata": {},
   "source": [
    "We also looked at religious demographic data by state to normalize the data."
   ]
  },
  {
   "cell_type": "code",
   "execution_count": 27,
   "metadata": {
    "collapsed": false
   },
   "outputs": [
    {
     "data": {
      "text/html": [
       "<div>\n",
       "<table border=\"1\" class=\"dataframe\">\n",
       "  <thead>\n",
       "    <tr style=\"text-align: right;\">\n",
       "      <th></th>\n",
       "      <th>State</th>\n",
       "      <th>Population</th>\n",
       "      <th>Percent_Catholic</th>\n",
       "      <th>Count</th>\n",
       "      <th>NormalizedCount</th>\n",
       "    </tr>\n",
       "  </thead>\n",
       "  <tbody>\n",
       "    <tr>\n",
       "      <th>0</th>\n",
       "      <td>Alabama</td>\n",
       "      <td>4779736</td>\n",
       "      <td>0.07</td>\n",
       "      <td>14</td>\n",
       "      <td>2.929032e-06</td>\n",
       "    </tr>\n",
       "    <tr>\n",
       "      <th>1</th>\n",
       "      <td>Alaska</td>\n",
       "      <td>710231</td>\n",
       "      <td>0.16</td>\n",
       "      <td>54</td>\n",
       "      <td>7.603160e-05</td>\n",
       "    </tr>\n",
       "    <tr>\n",
       "      <th>2</th>\n",
       "      <td>Arizona</td>\n",
       "      <td>6392017</td>\n",
       "      <td>0.21</td>\n",
       "      <td>61</td>\n",
       "      <td>9.543154e-06</td>\n",
       "    </tr>\n",
       "    <tr>\n",
       "      <th>3</th>\n",
       "      <td>Arkansas</td>\n",
       "      <td>2915918</td>\n",
       "      <td>0.08</td>\n",
       "      <td>2</td>\n",
       "      <td>6.858903e-07</td>\n",
       "    </tr>\n",
       "    <tr>\n",
       "      <th>4</th>\n",
       "      <td>California</td>\n",
       "      <td>37253956</td>\n",
       "      <td>0.28</td>\n",
       "      <td>503</td>\n",
       "      <td>1.350192e-05</td>\n",
       "    </tr>\n",
       "  </tbody>\n",
       "</table>\n",
       "</div>"
      ],
      "text/plain": [
       "        State  Population  Percent_Catholic  Count  NormalizedCount\n",
       "0     Alabama     4779736              0.07     14     2.929032e-06\n",
       "1      Alaska      710231              0.16     54     7.603160e-05\n",
       "2     Arizona     6392017              0.21     61     9.543154e-06\n",
       "3    Arkansas     2915918              0.08      2     6.858903e-07\n",
       "4  California    37253956              0.28    503     1.350192e-05"
      ]
     },
     "execution_count": 27,
     "metadata": {},
     "output_type": "execute_result"
    }
   ],
   "source": [
    "# \"Religious fervor\" data\n",
    "relig_df = pandas.read_csv('state_data.csv')\n",
    "relig_df.head()\n",
    "\n",
    "# Adds count columns\n",
    "relig_df['Count'] = relig_df['State'].map(states)\n",
    "relig_df['NormalizedCount'] = relig_df['Count']/relig_df['Population']\n",
    "relig_df.head()"
   ]
  },
  {
   "cell_type": "markdown",
   "metadata": {},
   "source": [
    "# Iteration #1: Using Vincent"
   ]
  },
  {
   "cell_type": "markdown",
   "metadata": {},
   "source": [
    "Using Vincent, we whipped up a couple of map visualizations to get a feel for what the data 'looks' like.\n",
    "\n",
    "Below, we showed the count of sexual assault cases by state, normalized by state population."
   ]
  },
  {
   "cell_type": "code",
   "execution_count": 34,
   "metadata": {
    "collapsed": false
   },
   "outputs": [
    {
     "data": {
      "text/html": [
       "\n",
       "           <script>\n",
       "               \n",
       "                function vct_load_lib(url, callback){\n",
       "                      if(typeof d3 !== 'undefined' &&\n",
       "                         url === 'http://d3js.org/d3.v3.min.js'){\n",
       "                        callback()\n",
       "                      }\n",
       "                      var s = document.createElement('script');\n",
       "                      s.src = url;\n",
       "                      s.async = true;\n",
       "                      s.onreadystatechange = s.onload = callback;\n",
       "                      s.onerror = function(){\n",
       "                        console.warn(\"failed to load library \" + url);\n",
       "                        };\n",
       "                      document.getElementsByTagName(\"head\")[0].appendChild(s);\n",
       "                };\n",
       "                var vincent_event = new CustomEvent(\n",
       "                  \"vincent_libs_loaded\",\n",
       "                  {bubbles: true, cancelable: true}\n",
       "                );\n",
       "                \n",
       "               function load_all_libs(){\n",
       "                  console.log('Loading Vincent libs...')\n",
       "                  vct_load_lib('http://d3js.org/d3.v3.min.js', function(){\n",
       "                  vct_load_lib('http://d3js.org/d3.geo.projection.v0.min.js', function(){\n",
       "                  vct_load_lib('http://wrobstory.github.io/d3-cloud/d3.layout.cloud.js', function(){\n",
       "                  vct_load_lib('http://wrobstory.github.io/vega/vega.v1.3.3.js', function(){\n",
       "                  window.dispatchEvent(vincent_event);\n",
       "                  });\n",
       "                  });\n",
       "                  });\n",
       "                  });\n",
       "               };\n",
       "               if(typeof define === \"function\" && define.amd){\n",
       "                    if (window['d3'] === undefined ||\n",
       "                        window['topojson'] === undefined){\n",
       "                        require.config(\n",
       "                            {paths: {\n",
       "                              d3: 'http://d3js.org/d3.v3.min',\n",
       "                              topojson: 'http://d3js.org/topojson.v1.min'\n",
       "                              }\n",
       "                            }\n",
       "                          );\n",
       "                        require([\"d3\"], function(d3){\n",
       "                            console.log('Loading Vincent from require.js...')\n",
       "                            window.d3 = d3;\n",
       "                            require([\"topojson\"], function(topojson){\n",
       "                                window.topojson = topojson;\n",
       "                                load_all_libs();\n",
       "                            });\n",
       "                        });\n",
       "                    } else {\n",
       "                        load_all_libs();\n",
       "                    };\n",
       "               }else{\n",
       "                    console.log('Require.js not found, loading manually...')\n",
       "                    load_all_libs();\n",
       "               };\n",
       "\n",
       "           </script>"
      ],
      "text/plain": [
       "<IPython.core.display.HTML object>"
      ]
     },
     "metadata": {},
     "output_type": "display_data"
    },
    {
     "data": {
      "text/html": [
       "<div id=\"visc6eb0bb7deb7436e8400ef198c4bc03d\"></div>\n",
       "<script>\n",
       "   ( function() {\n",
       "     var _do_plot = function() {\n",
       "       if (typeof vg === 'undefined') {\n",
       "         window.addEventListener('vincent_libs_loaded', _do_plot)\n",
       "         return;\n",
       "       }\n",
       "       vg.parse.spec({\"axes\": [], \"data\": [{\"name\": \"table\", \"values\": [{\"x\": \"Alabama\", \"y\": 2.929032063695568e-06}, {\"x\": \"Alaska\", \"y\": 7.603160098615802e-05}, {\"x\": \"Arizona\", \"y\": 9.543153592989506e-06}, {\"x\": \"Arkansas\", \"y\": 6.858903439671486e-07}, {\"x\": \"California\", \"y\": 1.3501921782481303e-05}, {\"x\": \"Colorado\", \"y\": 5.766329250241987e-06}, {\"x\": \"Connecticut\", \"y\": 2.5181185625348166e-05}, {\"x\": \"Delaware\", \"y\": 4.2319368684112644e-05}, {\"x\": \"District of Columbia\", \"y\": 4.320925076821062e-05}, {\"x\": \"Florida\", \"y\": 5.3719661023620164e-06}, {\"x\": \"Georgia\", \"y\": 8.257934094047341e-07}, {\"x\": \"Hawaii\", \"y\": 1.3232365483815714e-05}, {\"x\": \"Idaho\", \"y\": 4.465476128202544e-06}, {\"x\": \"Illinois\", \"y\": 1.8549359065087364e-05}, {\"x\": \"Indiana\", \"y\": 7.248833323411172e-06}, {\"x\": \"Iowa\", \"y\": 2.6917414418214555e-05}, {\"x\": \"Kansas\", \"y\": 7.3603685511780444e-06}, {\"x\": \"Kentucky\", \"y\": 2.2814387444067303e-05}, {\"x\": \"Louisiana\", \"y\": 1.6543976536670718e-05}, {\"x\": \"Maine\", \"y\": 3.688756294410932e-05}, {\"x\": \"Maryland\", \"y\": 1.19510485053222e-05}, {\"x\": \"Massachusetts\", \"y\": 5.742536725889631e-05}, {\"x\": \"Michigan\", \"y\": 1.1331857493797831e-05}, {\"x\": \"Minnesota\", \"y\": 3.525690879867268e-05}, {\"x\": \"Mississippi\", \"y\": 2.696056377234904e-06}, {\"x\": \"Missouri\", \"y\": 1.8033280419013288e-05}, {\"x\": \"Montana\", \"y\": 5.053491204398559e-05}, {\"x\": \"Nebraska\", \"y\": 8.213143109638342e-06}, {\"x\": \"Nevada\", \"y\": 2.2217688168081254e-06}, {\"x\": \"New Hampshire\", \"y\": 6.836464180725728e-05}, {\"x\": \"New Jersey\", \"y\": 1.6833687940277714e-05}, {\"x\": \"New Mexico\", \"y\": 3.4479761108674864e-05}, {\"x\": \"New York\", \"y\": 1.532657842341835e-05}, {\"x\": \"North Carolina\", \"y\": 1.468200404740903e-06}, {\"x\": \"North Dakota\", \"y\": 1.9328239598805218e-05}, {\"x\": \"Ohio\", \"y\": 1.1875348025710388e-05}, {\"x\": \"Oklahoma\", \"y\": 2.132565041234478e-06}, {\"x\": \"Oregon\", \"y\": 2.4275177143537297e-05}, {\"x\": \"Pennsylvania\", \"y\": 2.18856640948912e-05}, {\"x\": \"Rhode Island\", \"y\": 3.3252040012654776e-05}, {\"x\": \"South Carolina\", \"y\": 2.594390409057536e-06}, {\"x\": \"South Dakota\", \"y\": 3.930334815397087e-05}, {\"x\": \"Tennessee\", \"y\": 2.678808497495708e-06}, {\"x\": \"Texas\", \"y\": 5.050593223988918e-06}, {\"x\": \"Utah\", \"y\": 1.447238217219602e-06}, {\"x\": \"Vermont\", \"y\": 2.397157929558715e-05}, {\"x\": \"Virginia\", \"y\": 2.7496480450502337e-06}, {\"x\": \"Washington\", \"y\": 1.3532524157786258e-05}, {\"x\": \"West Virginia\", \"y\": 3.2380029293133167e-06}, {\"x\": \"Wisconsin\", \"y\": 2.1276648122573186e-05}, {\"x\": \"Wyoming\", \"y\": 3.548452342510814e-06}]}, {\"format\": {\"feature\": \"us_states.geo\", \"type\": \"topojson\"}, \"name\": \"states\", \"transform\": [{\"as\": \"value\", \"default\": \"noval\", \"key\": \"data.properties.NAME\", \"type\": \"zip\", \"with\": \"table\", \"withKey\": \"data.x\"}, {\"test\": \"d.path!='noval' && d.value!='noval'\", \"type\": \"filter\"}, {\"projection\": \"albersUsa\", \"scale\": 1000, \"translate\": [480, 250], \"type\": \"geopath\", \"value\": \"data\"}], \"url\": \"us_states.topo.json\"}], \"height\": 500, \"legends\": [], \"marks\": [{\"from\": {\"data\": \"states\"}, \"properties\": {\"enter\": {\"path\": {\"field\": \"path\"}, \"stroke\": {\"value\": \"#000000\"}}, \"update\": {\"fill\": {\"field\": \"value.data.y\", \"scale\": \"color\"}}}, \"type\": \"path\"}], \"padding\": \"auto\", \"scales\": [{\"domain\": [0, 1e-05, 2e-05, 3e-05, 4e-05, 5e-05, 6e-05, 7e-05, 8e-05, 9e-05, 0.0001], \"name\": \"color\", \"range\": [\"#f7fcf0\", \"#e0f3db\", \"#ccebc5\", \"#a8ddb5\", \"#7bccc4\", \"#4eb3d3\", \"#2b8cbe\", \"#0868ac\", \"#084081\"], \"type\": \"threshold\"}], \"width\": 960}, function(chart) {\n",
       "         chart({el: \"#visc6eb0bb7deb7436e8400ef198c4bc03d\"}).update();\n",
       "       });\n",
       "     };\n",
       "     _do_plot();\n",
       "   })();\n",
       "</script>\n",
       "<style>.vega canvas {width: 100%;}</style>\n",
       "        "
      ],
      "text/plain": [
       "<IPython.core.display.HTML object>"
      ]
     },
     "metadata": {},
     "output_type": "display_data"
    }
   ],
   "source": [
    "vincent.core.initialize_notebook()\n",
    "\n",
    "state_topo = r'us_states.topo.json'\n",
    "geo_data = [{'name': 'states',\n",
    "             'url': state_topo,\n",
    "             'feature': 'us_states.geo'}\n",
    "             ]\n",
    "vis = vincent.Map(data=relig_df, geo_data=geo_data, scale=1000, projection='albersUsa',\n",
    "                 data_bind='NormalizedCount', data_key='State',\n",
    "                 map_key={'states': 'properties.NAME'})\n",
    "\n",
    "vis.to_json('vega.json')\n",
    "vis.scales[0].type='threshold'\n",
    "vis.scales['color'].type = 'threshold'\n",
    "vis.scales['color'].domain = [0, 1e-5, 2e-5, 3e-5, 4e-5, 5e-5, 6e-5, 7e-5, 8e-5, 9e-5, 1e-4]\n",
    "vis.display()"
   ]
  },
  {
   "cell_type": "markdown",
   "metadata": {},
   "source": [
    "We compared that with the percentage of Catholics living in each state, and saw certain similarities in various regions (the north east and the West Coast)."
   ]
  },
  {
   "cell_type": "code",
   "execution_count": 32,
   "metadata": {
    "collapsed": false
   },
   "outputs": [
    {
     "data": {
      "text/html": [
       "<div id=\"vis6be168cd2b974a37b511c4a2c88bd45f\"></div>\n",
       "<script>\n",
       "   ( function() {\n",
       "     var _do_plot = function() {\n",
       "       if (typeof vg === 'undefined') {\n",
       "         window.addEventListener('vincent_libs_loaded', _do_plot)\n",
       "         return;\n",
       "       }\n",
       "       vg.parse.spec({\"axes\": [], \"data\": [{\"name\": \"table\", \"values\": [{\"x\": \"Alabama\", \"y\": 0.07}, {\"x\": \"Alaska\", \"y\": 0.16}, {\"x\": \"Arizona\", \"y\": 0.21}, {\"x\": \"Arkansas\", \"y\": 0.08}, {\"x\": \"California\", \"y\": 0.28}, {\"x\": \"Colorado\", \"y\": 0.16}, {\"x\": \"Connecticut\", \"y\": 0.33}, {\"x\": \"Delaware\", \"y\": 0.22}, {\"x\": \"District of Columbia\", \"y\": 0.2}, {\"x\": \"Florida\", \"y\": 0.21}, {\"x\": \"Georgia\", \"y\": 0.09}, {\"x\": \"Hawaii\", \"y\": 0.2}, {\"x\": \"Idaho\", \"y\": 0.1}, {\"x\": \"Illinois\", \"y\": 0.28}, {\"x\": \"Indiana\", \"y\": 0.18}, {\"x\": \"Iowa\", \"y\": 0.18}, {\"x\": \"Kansas\", \"y\": 0.18}, {\"x\": \"Kentucky\", \"y\": 0.1}, {\"x\": \"Louisiana\", \"y\": 0.26}, {\"x\": \"Maine\", \"y\": 0.21}, {\"x\": \"Maryland\", \"y\": 0.15}, {\"x\": \"Massachusetts\", \"y\": 0.34}, {\"x\": \"Michigan\", \"y\": 0.18}, {\"x\": \"Minnesota\", \"y\": 0.22}, {\"x\": \"Mississippi\", \"y\": 0.04}, {\"x\": \"Missouri\", \"y\": 0.16}, {\"x\": \"Montana\", \"y\": 0.17}, {\"x\": \"Nebraska\", \"y\": 0.23}, {\"x\": \"Nevada\", \"y\": 0.25}, {\"x\": \"New Hampshire\", \"y\": 0.26}, {\"x\": \"New Jersey\", \"y\": 0.34}, {\"x\": \"New Mexico\", \"y\": 0.34}, {\"x\": \"New York\", \"y\": 0.31}, {\"x\": \"North Carolina\", \"y\": 0.09}, {\"x\": \"North Dakota\", \"y\": 0.26}, {\"x\": \"Ohio\", \"y\": 0.18}, {\"x\": \"Oklahoma\", \"y\": 0.08}, {\"x\": \"Oregon\", \"y\": 0.12}, {\"x\": \"Pennsylvania\", \"y\": 0.24}, {\"x\": \"Rhode Island\", \"y\": 0.42}, {\"x\": \"South Carolina\", \"y\": 0.1}, {\"x\": \"South Dakota\", \"y\": 0.22}, {\"x\": \"Tennessee\", \"y\": 0.06}, {\"x\": \"Texas\", \"y\": 0.23}, {\"x\": \"Utah\", \"y\": 0.05}, {\"x\": \"Vermont\", \"y\": 0.22}, {\"x\": \"Virginia\", \"y\": 0.12}, {\"x\": \"Washington\", \"y\": 0.17}, {\"x\": \"West Virginia\", \"y\": 0.06}, {\"x\": \"Wisconsin\", \"y\": 0.25}, {\"x\": \"Wyoming\", \"y\": 0.14}]}, {\"format\": {\"feature\": \"us_states.geo\", \"type\": \"topojson\"}, \"name\": \"states\", \"transform\": [{\"as\": \"value\", \"default\": \"noval\", \"key\": \"data.properties.NAME\", \"type\": \"zip\", \"with\": \"table\", \"withKey\": \"data.x\"}, {\"test\": \"d.path!='noval' && d.value!='noval'\", \"type\": \"filter\"}, {\"projection\": \"albersUsa\", \"scale\": 1000, \"translate\": [480, 250], \"type\": \"geopath\", \"value\": \"data\"}], \"url\": \"us_states.topo.json\"}], \"height\": 500, \"legends\": [], \"marks\": [{\"from\": {\"data\": \"states\"}, \"properties\": {\"enter\": {\"path\": {\"field\": \"path\"}, \"stroke\": {\"value\": \"#000000\"}}, \"update\": {\"fill\": {\"field\": \"value.data.y\", \"scale\": \"color\"}}}, \"type\": \"path\"}], \"padding\": \"auto\", \"scales\": [{\"domain\": [0, 0.05, 0.1, 0.15, 0.2, 0.25, 0.3, 0.35, 0.4, 0.45, 0.5], \"name\": \"color\", \"range\": [\"#f7fcf0\", \"#e0f3db\", \"#ccebc5\", \"#a8ddb5\", \"#7bccc4\", \"#4eb3d3\", \"#2b8cbe\", \"#0868ac\", \"#084081\"], \"type\": \"threshold\"}], \"width\": 960}, function(chart) {\n",
       "         chart({el: \"#vis6be168cd2b974a37b511c4a2c88bd45f\"}).update();\n",
       "       });\n",
       "     };\n",
       "     _do_plot();\n",
       "   })();\n",
       "</script>\n",
       "<style>.vega canvas {width: 100%;}</style>\n",
       "        "
      ],
      "text/plain": [
       "<IPython.core.display.HTML object>"
      ]
     },
     "metadata": {},
     "output_type": "display_data"
    }
   ],
   "source": [
    "state_topo = r'us_states.topo.json'\n",
    "geo_data = [{'name': 'states',\n",
    "             'url': state_topo,\n",
    "             'feature': 'us_states.geo'}\n",
    "             ]\n",
    "vis = vincent.Map(data=relig_df, geo_data=geo_data, scale=1000, projection='albersUsa',\n",
    "                 data_bind='Percent_Catholic', data_key='State',\n",
    "                 map_key={'states': 'properties.NAME'})\n",
    "\n",
    "vis.to_json('vega.json')\n",
    "vis.scales[0].type='threshold'\n",
    "vis.scales['color'].type = 'threshold'\n",
    "vis.scales['color'].domain = [0, 0.05, 0.1, 0.15, 0.2, 0.25, 0.3, 0.35, 0.4, 0.45, 0.5]\n",
    "vis.display()"
   ]
  },
  {
   "cell_type": "markdown",
   "metadata": {},
   "source": [
    "# Iteration #2: Using Bokeh"
   ]
  },
  {
   "cell_type": "markdown",
   "metadata": {},
   "source": [
    "We then looked at making interactive maps, at which point we realized that we didn't really need to focus on making map visualizations."
   ]
  },
  {
   "cell_type": "code",
   "execution_count": 1,
   "metadata": {
    "collapsed": false
   },
   "outputs": [
    {
     "ename": "RuntimeError",
     "evalue": "bokeh sample data directory does not exist, please execute bokeh.sampledata.download()",
     "output_type": "error",
     "traceback": [
      "\u001b[1;31m---------------------------------------------------------------------------\u001b[0m",
      "\u001b[1;31mRuntimeError\u001b[0m                              Traceback (most recent call last)",
      "\u001b[1;32m<ipython-input-1-c7e7c5385cc7>\u001b[0m in \u001b[0;36m<module>\u001b[1;34m()\u001b[0m\n\u001b[0;32m      3\u001b[0m \u001b[1;32mfrom\u001b[0m \u001b[0mbokeh\u001b[0m\u001b[1;33m.\u001b[0m\u001b[0mmodels\u001b[0m \u001b[1;32mimport\u001b[0m \u001b[0mHoverTool\u001b[0m\u001b[1;33m\u001b[0m\u001b[0m\n\u001b[0;32m      4\u001b[0m \u001b[1;32mfrom\u001b[0m \u001b[0mbokeh\u001b[0m\u001b[1;33m.\u001b[0m\u001b[0mplotting\u001b[0m \u001b[1;32mimport\u001b[0m \u001b[0mfigure\u001b[0m\u001b[1;33m,\u001b[0m \u001b[0mshow\u001b[0m\u001b[1;33m,\u001b[0m \u001b[0moutput_file\u001b[0m\u001b[1;33m,\u001b[0m \u001b[0mColumnDataSource\u001b[0m\u001b[1;33m\u001b[0m\u001b[0m\n\u001b[1;32m----> 5\u001b[1;33m \u001b[1;32mfrom\u001b[0m \u001b[0mbokeh\u001b[0m\u001b[1;33m.\u001b[0m\u001b[0msampledata\u001b[0m\u001b[1;33m.\u001b[0m\u001b[0mus_counties\u001b[0m \u001b[1;32mimport\u001b[0m \u001b[0mdata\u001b[0m \u001b[1;32mas\u001b[0m \u001b[0mcounties\u001b[0m\u001b[1;33m\u001b[0m\u001b[0m\n\u001b[0m\u001b[0;32m      6\u001b[0m \u001b[1;32mfrom\u001b[0m \u001b[0mbokeh\u001b[0m\u001b[1;33m.\u001b[0m\u001b[0msampledata\u001b[0m\u001b[1;33m.\u001b[0m\u001b[0munemployment\u001b[0m \u001b[1;32mimport\u001b[0m \u001b[0mdata\u001b[0m \u001b[1;32mas\u001b[0m \u001b[0munemployment\u001b[0m\u001b[1;33m\u001b[0m\u001b[0m\n\u001b[0;32m      7\u001b[0m \u001b[1;33m\u001b[0m\u001b[0m\n",
      "\u001b[1;32m/home/casey/anaconda/lib/python2.7/site-packages/bokeh/sampledata/us_counties.py\u001b[0m in \u001b[0;36m<module>\u001b[1;34m()\u001b[0m\n\u001b[0;32m     16\u001b[0m \u001b[1;32mfrom\u001b[0m \u001b[1;33m.\u001b[0m \u001b[1;32mimport\u001b[0m \u001b[0m_data_dir\u001b[0m\u001b[1;33m\u001b[0m\u001b[0m\n\u001b[0;32m     17\u001b[0m \u001b[1;33m\u001b[0m\u001b[0m\n\u001b[1;32m---> 18\u001b[1;33m \u001b[0mdata_dir\u001b[0m \u001b[1;33m=\u001b[0m \u001b[0m_data_dir\u001b[0m\u001b[1;33m(\u001b[0m\u001b[1;33m)\u001b[0m\u001b[1;33m\u001b[0m\u001b[0m\n\u001b[0m\u001b[0;32m     19\u001b[0m \u001b[1;33m\u001b[0m\u001b[0m\n\u001b[0;32m     20\u001b[0m \u001b[0mnan\u001b[0m \u001b[1;33m=\u001b[0m \u001b[0mfloat\u001b[0m\u001b[1;33m(\u001b[0m\u001b[1;34m'NaN'\u001b[0m\u001b[1;33m)\u001b[0m\u001b[1;33m\u001b[0m\u001b[0m\n",
      "\u001b[1;32m/home/casey/anaconda/lib/python2.7/site-packages/bokeh/sampledata/__init__.pyc\u001b[0m in \u001b[0;36m_data_dir\u001b[1;34m(file_name, create)\u001b[0m\n\u001b[0;32m     35\u001b[0m     \u001b[1;32mif\u001b[0m \u001b[1;32mnot\u001b[0m \u001b[0mexists\u001b[0m\u001b[1;33m(\u001b[0m\u001b[0mdata_dir\u001b[0m\u001b[1;33m)\u001b[0m\u001b[1;33m:\u001b[0m\u001b[1;33m\u001b[0m\u001b[0m\n\u001b[0;32m     36\u001b[0m         \u001b[1;32mif\u001b[0m \u001b[1;32mnot\u001b[0m \u001b[0mcreate\u001b[0m\u001b[1;33m:\u001b[0m\u001b[1;33m\u001b[0m\u001b[0m\n\u001b[1;32m---> 37\u001b[1;33m             \u001b[1;32mraise\u001b[0m \u001b[0mRuntimeError\u001b[0m\u001b[1;33m(\u001b[0m\u001b[1;34m'bokeh sample data directory does not exist, please execute bokeh.sampledata.download()'\u001b[0m\u001b[1;33m)\u001b[0m\u001b[1;33m\u001b[0m\u001b[0m\n\u001b[0m\u001b[0;32m     38\u001b[0m         \u001b[1;32mprint\u001b[0m\u001b[1;33m(\u001b[0m\u001b[1;34m\"Creating %s directory\"\u001b[0m \u001b[1;33m%\u001b[0m \u001b[0mdata_dir\u001b[0m\u001b[1;33m)\u001b[0m\u001b[1;33m\u001b[0m\u001b[0m\n\u001b[0;32m     39\u001b[0m         \u001b[1;32mtry\u001b[0m\u001b[1;33m:\u001b[0m\u001b[1;33m\u001b[0m\u001b[0m\n",
      "\u001b[1;31mRuntimeError\u001b[0m: bokeh sample data directory does not exist, please execute bokeh.sampledata.download()"
     ]
    }
   ],
   "source": [
    "''' Sample code taken from Bokeh documentation '''\n",
    "\n",
    "from bokeh.models import HoverTool\n",
    "from bokeh.plotting import figure, show, output_file, ColumnDataSource\n",
    "from bokeh.sampledata.us_counties import data as counties\n",
    "from bokeh.sampledata.unemployment import data as unemployment\n",
    "\n",
    "counties = {\n",
    "    code: county for code, county in counties.items() if county[\"state\"] == \"tx\"\n",
    "}\n",
    "\n",
    "county_xs = [county[\"lons\"] for county in counties.values()]\n",
    "county_ys = [county[\"lats\"] for county in counties.values()]\n",
    "\n",
    "colors = [\"#F1EEF6\", \"#D4B9DA\", \"#C994C7\", \"#DF65B0\", \"#DD1C77\", \"#980043\"]\n",
    "\n",
    "county_names = [county['name'] for county in counties.values()]\n",
    "county_rates = [unemployment[county_id] for county_id in counties]\n",
    "county_colors = [colors[int(rate/3)] for rate in county_rates]\n",
    "\n",
    "source = ColumnDataSource(data=dict(\n",
    "    x=county_xs,\n",
    "    y=county_ys,\n",
    "    color=county_colors,\n",
    "    name=county_names,\n",
    "    rate=county_rates,\n",
    "))\n",
    "\n",
    "TOOLS=\"pan,wheel_zoom,box_zoom,reset,hover,save\"\n",
    "\n",
    "p = figure(title=\"Texas Unemployment 2009\", tools=TOOLS)\n",
    "\n",
    "p.patches('x', 'y', source=source,\n",
    "          fill_color='color', fill_alpha=0.7,\n",
    "          line_color=\"white\", line_width=0.5)\n",
    "\n",
    "hover = p.select_one(HoverTool)\n",
    "hover.point_policy = \"follow_mouse\"\n",
    "hover.tooltips = [\n",
    "    (\"Name\", \"@name\"),\n",
    "    (\"Unemployment rate)\", \"@rate%\"),\n",
    "    (\"(Long, Lat)\", \"($x, $y)\"),\n",
    "]\n",
    "\n",
    "output_file(\"texas.html\", title=\"texas.py example\")\n",
    "\n",
    "show(p)"
   ]
  },
  {
   "cell_type": "code",
   "execution_count": 2,
   "metadata": {
    "collapsed": false
   },
   "outputs": [
    {
     "name": "stderr",
     "output_type": "stream",
     "text": [
      "/home/casey/anaconda/lib/python2.7/site-packages/matplotlib/font_manager.py:273: UserWarning:\n",
      "\n",
      "Matplotlib is building the font cache using fc-list. This may take a moment.\n",
      "\n"
     ]
    }
   ],
   "source": [
    "import plotly.plotly as py\n",
    "import plotly.graph_objs as go"
   ]
  },
  {
   "cell_type": "code",
   "execution_count": null,
   "metadata": {
    "collapsed": true
   },
   "outputs": [],
   "source": []
  }
 ],
 "metadata": {
  "kernelspec": {
   "display_name": "Python 2",
   "language": "python",
   "name": "python2"
  },
  "language_info": {
   "codemirror_mode": {
    "name": "ipython",
    "version": 2
   },
   "file_extension": ".py",
   "mimetype": "text/x-python",
   "name": "python",
   "nbconvert_exporter": "python",
   "pygments_lexer": "ipython2",
   "version": "2.7.11"
  }
 },
 "nbformat": 4,
 "nbformat_minor": 0
}
